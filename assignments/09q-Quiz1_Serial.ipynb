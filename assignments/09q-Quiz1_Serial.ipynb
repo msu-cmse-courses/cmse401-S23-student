{
 "cells": [
  {
   "cell_type": "markdown",
   "metadata": {},
   "source": [
    "[Link to this document's Jupyter Notebook](./0205-Quiz1_Serial.ipynb)"
   ]
  },
  {
   "cell_type": "markdown",
   "metadata": {},
   "source": [
    "----\n",
    "\n",
    "# CMSE401 Quiz Instructions\n",
    "\n",
    "This quiz is designed to take approximately 20 minutes to complete (you will be given 50 Minutes).  \n",
    "\n",
    "Please read the following instructions before starting the quiz.\n"
   ]
  },
  {
   "cell_type": "markdown",
   "metadata": {},
   "source": [
    "> This is an open Internet quiz.  Feel free to use anything on the Internet with one important exception...\n",
    "> \n",
    "> - **DO NOT** communicate live with other people during the quiz (either verbally or on-line).  The goal here is to find answers to problems as you would in the real world.  \n",
    "> \n",
    "> You will be given **20 minutes** to complete this quiz.  Use your time wisely. \n",
    "> \n",
    "> **HINTS:**\n",
    "> - Neatness and grammar is important.  We will ignore all notes or code we can not read or understand.\n",
    "> - Read the entire quiz from beginning to end before starting.  Not all questions are equal in **points vs. time** so plan your time accordingly.   \n",
    "> - Some of the information provided my be a distraction. Do not assume you need to understand everything written to answer the questions. \n",
    "> - Spaces for answers are provided. Delete the prompting text such as \"Put your answer to the above question here\" and replace it with your answer. Do not leave the prompting text with your answer.\n",
    "> - Do not assume that the answer must be in the same format of the cell provided. Feel free to change the cell formatting (e.g., markdown to code, and vice versa) or add additional cells as needed to provide your answer.\n",
    "> - When a question asks for an answer \"**in your own words**\" it is still okay to search the Internet for the answer as a reminder. *However*, we would like you to do more than cut and paste.  Make the answer your own. \n",
    "> - If you get stuck, try not to leave an answer blank. It is better to include some notes or stub functions so we have an idea about your thinking process so we can give you partial credit.   \n",
    "> - Always provid links to any references you find helpful. \n",
    "> - Feel free to delete the provided check marks (&#9989;) as a way to keep track of which questions you have successfully completed. "
   ]
  },
  {
   "cell_type": "markdown",
   "metadata": {},
   "source": [
    "> **Honor Code**\n",
    "> \n",
    "> I, agree to neither give nor receive any help on this quiz from other people.  I also understand that providing answers to questions on this quiz to other students is also an academic misconduct violation as is live communication or receiving answers to questions on this quiz from other people. It is important to me to be a person of integrity and that means that ALL ANSWERS on this quiz are my answers.\n",
    "> \n",
    "> &#9989; **<font color=red>DO THIS:</font>** Include your name in the line below to acknowledge the above statement:"
   ]
  },
  {
   "cell_type": "markdown",
   "metadata": {},
   "source": [
    "Put your name here."
   ]
  },
  {
   "cell_type": "markdown",
   "metadata": {},
   "source": [
    "---\n",
    "\n",
    "# Scientific Image Analysis\n",
    "\n",
    "<img alt=\"ImageJ logo of a microscope. Motivating the reason behind ImageJ as a scientific tool\" src=\"https://miap.eu/fileadmin/primary/Public/user_uploads/Files/Workshops/2017-04_ImageJ_II/ImageJ.png\">\n",
    "\n",
    "[Logo from the ImageJ website](https://imagej.net/Welcome)\n",
    "\n",
    "\n",
    "ImageJ is a software package developed with funding from the National Institute of Health (NIH).  This is a well established tool written in java with decades of plugins and options to help researchers measure data inside of images (mostly medical images). For this quiz you will explore how to run large baches of ImageJ on the HPCC. "
   ]
  },
  {
   "cell_type": "markdown",
   "metadata": {},
   "source": [
    "&#9989; **<font color=red>Question 1</font>**: (10 points) What module command do you use to be able to load the ImageJ on the HPCC?"
   ]
  },
  {
   "cell_type": "markdown",
   "metadata": {},
   "source": [
    "Put your answer here"
   ]
  },
  {
   "cell_type": "markdown",
   "metadata": {},
   "source": [
    "&#9989; **<font color=red>Question 2</font>**: (10 points) What versions of ImageJ is installed on the HPCC. Type the command you used to figure this out?  "
   ]
  },
  {
   "cell_type": "markdown",
   "metadata": {},
   "source": [
    "Put your answer here"
   ]
  },
  {
   "cell_type": "markdown",
   "metadata": {},
   "source": [
    "----\n",
    "\n",
    "For the following questions a researcher is trying to manually interact with the ImageJ Graphical User Interface (GUI) on the HPCC using the following command:\n",
    "\n",
    "```java -jar $EBROOTIMAGEJ/ij.jar```\n",
    "\n",
    "However, when they run the command on dev-intel18 through the ondemand server they get the following output:\n",
    "\n",
    "> ```bash\n",
    "$ java -jar $EBROOTIMAGEJ/ij.jar\n",
    "Exception in thread \"main\" java.awt.HeadlessException: \n",
    "No X11 DISPLAY variable was set, but this program performed an operation which requires it.\n",
    "        at java.awt.GraphicsEnvironment.checkHeadless(GraphicsEnvironment.java:204)\n",
    "        at java.awt.Window.<init>(Window.java:536)\n",
    "        at java.awt.Frame.<init>(Frame.java:420)\n",
    "        at ij.ImageJ.<init>(ImageJ.java:143)\n",
    "        at ij.ImageJ.main(ImageJ.java:703)\n",
    "```"
   ]
  },
  {
   "cell_type": "markdown",
   "metadata": {},
   "source": [
    "&#9989; **<font color=red>Question 3</font>**: (20 points) Explain this error and describe one way you can fix or get around the problem and get the ImageJ GUI up and running on the HPCC.  Make the instructions short but detailed enough for a new researcher to the HPCC.  You are encouraged to provide links to websites as references to help answer your question.  **_HINT_**: test your answers on the actual HPC to make sure they work."
   ]
  },
  {
   "cell_type": "markdown",
   "metadata": {},
   "source": [
    "Put your answer here"
   ]
  },
  {
   "cell_type": "markdown",
   "metadata": {},
   "source": [
    "----\n",
    "We can also run ImageJ with a \"macro\" that uses a custom language developed only for ImageJ. Here is an example:\n",
    "\n",
    "```\n",
    "print(\"Inverting Image\");\n",
    "name = getArgument;\n",
    "if (name==\"\") exit (\"No argument!\");|\n",
    "setBatchMode(true);\n",
    "\n",
    "//Set PATH\n",
    "var patho=\"./\";\n",
    "\n",
    "//Open bot.tif file and make inverse\n",
    "print(\"Opening File\");\n",
    "open(patho+name);\n",
    "\n",
    "print(\"Inverting Image\");\n",
    "run(\"Invert\");\n",
    "\n",
    "print(\"Saving Inverted File\");\n",
    "saveAs(\"Png\", patho+\"Inv_\"+name);\n",
    "\n",
    "```\n",
    "The above macro (named ```macro.ijm```) can be run on input file ```input1.png``` using the following command:\n",
    "\n",
    "    java -jar $EBROOTIMAGEJ/ij.jar -batch ./macro.ijm input1.png\n",
    "\n",
    "\n",
    "\n",
    "As we can tell from the error in the previous questions, one of the problems with ImageJ is that it needs a graphical user interface which requires a connected display. Unfortunately, if we try to run the macro using the scheduler in \"batch\" mode, we would get a similar error because none of the compute nodes have displays attached either. \n",
    "\n",
    "One way to get around this problem is to use a \"fake\" display or \"virtual\" display.  In Linux there is often a program called \"the X11 virtual frame buffer\" (aka ```Xvfb```). "
   ]
  },
  {
   "cell_type": "markdown",
   "metadata": {},
   "source": [
    "The following job script can be used with ImageJ and Xvfb to run a batch job on the hpcc:\n",
    "\n",
    "\n",
    "```bash\n",
    "#!/bin/bash\n",
    "#SBATCH --mem=4gb\n",
    "#SBATCH --time=00:10:00\n",
    "#SBATCH -n 1\n",
    "#SBATCH -c 1\n",
    "\n",
    "module load Java\n",
    "module load ImageJ\n",
    "\n",
    "#Remove left over xvfb lock files\n",
    "rm -rf /tmp/.X11-unix\n",
    "rm -rf /tmp/.X11-lock\n",
    "\n",
    "##### Specify the display, start the Xvfb server, and save the process ID.\n",
    "export DISPLAY=\":1\"\n",
    "Xvfb $DISPLAY -auth /dev/null &\n",
    "XVFB_PID=$!\n",
    "\n",
    "#Give system time to spin up X11 display (Probably not needed)\n",
    "sleep 5\n",
    "\n",
    "####\n",
    "#Run ImageJ script\n",
    "java -jar $EBROOTIMAGEJ/ij.jar -batch ./macro.ijm input1.png\n",
    "\n",
    "\n",
    "##### Stop the Xvfb server and remove the temporary lock files it created (if they don't remove themselves.\n",
    "kill -9 $XVFB_PID\n",
    "rm -rf /tmp/.X11-unix\n",
    "rm -rf  /tmp/.X11-lock\n",
    "####\n",
    "\n",
    "```"
   ]
  },
  {
   "cell_type": "markdown",
   "metadata": {},
   "source": [
    "&#9989; **<font color=red>Question 4</font>**: (20 points) If we remove the \"&\" at the end of the ```Xvfb``` line what will happen if we submit this script to the cluster?  (explain why)"
   ]
  },
  {
   "cell_type": "markdown",
   "metadata": {},
   "source": [
    "Put your answer to the above question here"
   ]
  },
  {
   "cell_type": "markdown",
   "metadata": {},
   "source": [
    "-----\n",
    "Now let us assume we have a directory filled with image files we want to process using our ```macro.ijm``` in imagej. These files are located in your current directory with the following names:\n",
    "\n",
    "    input1.png\n",
    "    input2.png\n",
    "    input3.png\n",
    "    ...\n",
    "    input300.png\n",
    "    \n",
    "We could use the following simple bash script to loop over all of the ```png``` files in the current directory and run ImageJ on each file:\n",
    "\n",
    "\n",
    "```bash\n",
    "\n",
    "for file in *.png\n",
    "do\n",
    "    java -jar $EBROOTIMAGEJ/ij.jar -batch ./macro.ijm ${file}\n",
    "done\n",
    "```\n",
    "\n",
    "However, lets predent that the time to process each file is 12 minutes and 31 seconds.  \n",
    "\n",
    "&#9989; **<font color=red>Question 5</font>**: (10 points) How  long (in seconds) will it take to run all 300 files using this loop?"
   ]
  },
  {
   "cell_type": "code",
   "execution_count": null,
   "metadata": {},
   "outputs": [],
   "source": [
    "# put your answer to the above question here."
   ]
  },
  {
   "cell_type": "markdown",
   "metadata": {},
   "source": [
    "----\n",
    "\n",
    "If you think about it, the order of the loop does not matter and would be really easy to run in parallel.  This type of problem is called pleasantly parallel. The idea is we can just process a different file on a different computer using a SLURM job array.  \n",
    "\n",
    "\n",
    "This type of workflow is also often called \"unrolling a loop\". Lets assume that we want to unroll the above loop and run it as a job array on the cluster. First, you would need to add the following resource request to the top of your script:\n",
    "\n",
    "```bash\n",
    "#SBATCH --array=1-300\n",
    "```\n",
    "\n",
    "This ```--array``` request will tell SLURM to run 300 identical jobs. The only difference will be each job will run on a different node on the cluster and will be given a unique array task ID number (the numbers 1-300) inside a bash variable called ```SLURM_ARRAY_TASK_ID```.\n",
    "\n",
    "&#9989; **<font color=red>Question 6</font>**: (20 points) Modify the following java command (which would be inside your job script) so that it will use the ```SLURM_ARRAY_TASK_ID``` environment variable to select a different file name for each file in the array.  (instead of all jobs trying to use the ```input1.png``` file)"
   ]
  },
  {
   "cell_type": "markdown",
   "metadata": {},
   "source": [
    "#### Modify this code\n",
    "\n",
    "    java -jar $EBROOTIMAGEJ/ij.jar -batch ./macro.ijm intput1.png\n"
   ]
  },
  {
   "cell_type": "markdown",
   "metadata": {},
   "source": [
    "&#9989; **<font color=red>Question 7</font>**: (10 points) What is the fastest possible speed (in seconds) we could run the same job using our job array?  "
   ]
  },
  {
   "cell_type": "markdown",
   "metadata": {},
   "source": [
    "put your answer to the above question here. "
   ]
  },
  {
   "cell_type": "markdown",
   "metadata": {},
   "source": [
    "# Congradulations\n",
    "\n",
    "You are done with your quiz. Please save the file and upload the jupyter notebook to the D2L dropbox. "
   ]
  },
  {
   "cell_type": "markdown",
   "metadata": {},
   "source": [
    "Written by Dr. Dirk Colbry, Michigan State University\n",
    "<a rel=\"license\" href=\"http://creativecommons.org/licenses/by-nc/4.0/\"><img alt=\"Creative Commons License\" style=\"border-width:0\" src=\"https://i.creativecommons.org/l/by-nc/4.0/88x31.png\" /></a><br />This work is licensed under a <a rel=\"license\" href=\"http://creativecommons.org/licenses/by-nc/4.0/\">Creative Commons Attribution-NonCommercial 4.0 International License</a>."
   ]
  },
  {
   "cell_type": "markdown",
   "metadata": {},
   "source": [
    "----"
   ]
  }
 ],
 "metadata": {
  "celltoolbar": "Create Assignment",
  "kernelspec": {
   "display_name": "Python 3",
   "language": "python",
   "name": "python3"
  },
  "language_info": {
   "codemirror_mode": {
    "name": "ipython",
    "version": 3
   },
   "file_extension": ".py",
   "mimetype": "text/x-python",
   "name": "python",
   "nbconvert_exporter": "python",
   "pygments_lexer": "ipython3",
   "version": "3.7.3"
  }
 },
 "nbformat": 4,
 "nbformat_minor": 1
}
