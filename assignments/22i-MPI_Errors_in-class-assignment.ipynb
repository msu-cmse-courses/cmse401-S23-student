{
 "cells": [
  {
   "cell_type": "markdown",
   "metadata": {},
   "source": [
    "[Link to this document's Jupyter Notebook](./0329-MPI_Errors_in-class-assignment.ipynb)"
   ]
  },
  {
   "cell_type": "markdown",
   "metadata": {},
   "source": [
    "In order to successfully complete this assignment you need to participate both individually and in groups during class.   If you attend class in-person then have one of the instructors check your notebook and sign you out before leaving class on **Monday March 29**. If you are attending asynchronously, turn in your assignment using D2L no later than **_11:59pm on Monday March 29**. "
   ]
  },
  {
   "cell_type": "markdown",
   "metadata": {},
   "source": [
    "---\n",
    "\n"
   ]
  },
  {
   "cell_type": "markdown",
   "metadata": {},
   "source": [
    "# In-Class Assignment: MPI Errors\n",
    "\n",
    "<img alt=\"Image of a rubber stamp of the word 'Fail' intended to motivate error checking\" src=\"https://cdn.pixabay.com/photo/2016/10/04/13/52/fail-1714367_960_720.jpg\" width=30%>\n",
    "\n",
    "Animation from: [Pixabay](https://pixabay.com/)"
   ]
  },
  {
   "cell_type": "markdown",
   "metadata": {},
   "source": [
    "### Agenda for today's class (70 minutes)\n",
    "1. (20 minutes) [Pre class Review](#Pre-class-Review)\n",
    "2. (20 minutes) [MPI Error Example](#MPI-Error-Example)\n",
    "3. (30 minutes) [Rumor Mill continued](#Rumor-Mill-continued)"
   ]
  },
  {
   "cell_type": "markdown",
   "metadata": {},
   "source": [
    "\n",
    "---\n",
    "<a name=Pre-class-Review></a>\n",
    "# 1. Pre class Review\n",
    "\n",
    "\n",
    "\n",
    "\n",
    "[0308--MPI_Errors_pre-class-assignment](0328--MPI_Errors_pre-class-assignment.ipynb)"
   ]
  },
  {
   "cell_type": "markdown",
   "metadata": {},
   "source": [
    "\n",
    "\n",
    "---\n",
    "<a name=MPI-Error-Example></a>\n",
    "# 2. MPI Error Example\n",
    "\n",
    "\n",
    "\n",
    "As a class, lets look at our code from Friday and add Error Checking. \n",
    "\n",
    "\n",
    "How do we check if error handeling is working?"
   ]
  },
  {
   "cell_type": "markdown",
   "metadata": {},
   "source": [
    "```c++\n",
    "#include <mpi.h>\n",
    "#include <stdio.h>\n",
    "static long num_steps = 100000; double step;\n",
    "\n",
    "int main(int argc, char** argv)\n",
    "{ \n",
    "    int i, nthreads; double pi, sum;\n",
    "     step = 1.0/(double) num_steps;\n",
    "    int rank, size;\n",
    "\n",
    "    MPI_Init(&argc, &argv);\n",
    "    MPI_Comm_rank(MPI_COMM_WORLD, &rank); // Rank (ID) of this process\n",
    "    MPI_Comm_size(MPI_COMM_WORLD, &size); // Total size of MPI job\n",
    "    MPI_Status status;\n",
    "    \n",
    "     \n",
    "     {\n",
    "         int i, id,nthrds;\n",
    "         double x;\n",
    "         id = rank;\n",
    "         nthrds = size;\n",
    "         nthreads = nthrds;\n",
    "         for (i=id, sum=0.0;i< num_steps; i=i+nthrds) {\n",
    "             x = (i+0.5)*step;\n",
    "             sum += 4.0/(1.0+x*x);\n",
    "         }\n",
    "     }\n",
    "    \n",
    "   \n",
    "    if (rank == 0) {    \n",
    "        double procsum;\n",
    "        pi = sum * step;\n",
    "        for(int proc=1;proc<nthreads;proc++)\n",
    "        {\n",
    "            /* recv sums from all other processors */\n",
    "            MPI_Recv(&procsum,1,MPI_DOUBLE,proc,1,MPI_COMM_WORLD, &status);\n",
    "            pi += procsum * step;\n",
    "        }\n",
    "        printf(\"Pi = %f\\n\",pi);\n",
    "    } else {\n",
    "        /*Send rank 0 my sum*/\n",
    "        MPI_Send(&sum,1,MPI_DOUBLE,0,1,MPI_COMM_WORLD);\n",
    "    }\n",
    "    \n",
    "\n",
    "    MPI_Finalize();\n",
    "}\n",
    "```"
   ]
  },
  {
   "cell_type": "markdown",
   "metadata": {},
   "source": [
    "\n",
    "---\n",
    "<a name=Rumor-Mill-continued></a>\n",
    "# 3. Rumor Mill continued\n",
    "\n",
    "\n",
    "For the last few minutes of class we will revisit the rumor mill example and see if we can start making modifications to run the example inside mpi. "
   ]
  },
  {
   "cell_type": "markdown",
   "metadata": {},
   "source": [
    "\n",
    "\n",
    "-----\n",
    "### Congratulations, we're done!\n",
    "\n",
    "If you attend class in-person then have one of the instructors check your notebook and sign you out before leaving class. If you are attending asynchronously, turn in your assignment using D2L."
   ]
  },
  {
   "cell_type": "markdown",
   "metadata": {},
   "source": [
    "### Course Resources:\n",
    "\n",
    "\n",
    " - [Website](https://msu-cmse-courses.github.io/cmse802-f20-student/)\n",
    " - [ZOOM](https://msu.zoom.us/j/98207034052)\n",
    " - [JargonJar](https://docs.google.com/document/d/1ahg48CCFhRzUL-QIHzlt_KEf1XqsCasFBU4iePHhcug/edit#)\n",
    " - [GIT](https://gitlab.msu.edu/colbrydi/cmse401-s21.git)\n",
    "\n"
   ]
  },
  {
   "cell_type": "markdown",
   "metadata": {},
   "source": [
    "Written by Dr. Dirk Colbry, Michigan State University\n",
    "<a rel=\"license\" href=\"http://creativecommons.org/licenses/by-nc/4.0/\"><img alt=\"Creative Commons License\" style=\"border-width:0\" src=\"https://i.creativecommons.org/l/by-nc/4.0/88x31.png\" /></a><br />This work is licensed under a <a rel=\"license\" href=\"http://creativecommons.org/licenses/by-nc/4.0/\">Creative Commons Attribution-NonCommercial 4.0 International License</a>."
   ]
  },
  {
   "cell_type": "markdown",
   "metadata": {},
   "source": [
    "----"
   ]
  }
 ],
 "metadata": {
  "kernelspec": {
   "display_name": "Python 3",
   "language": "python",
   "name": "python3"
  },
  "language_info": {
   "codemirror_mode": {
    "name": "ipython",
    "version": 3
   },
   "file_extension": ".py",
   "mimetype": "text/x-python",
   "name": "python",
   "nbconvert_exporter": "python",
   "pygments_lexer": "ipython3",
   "version": "3.7.3"
  }
 },
 "nbformat": 4,
 "nbformat_minor": 2
}
