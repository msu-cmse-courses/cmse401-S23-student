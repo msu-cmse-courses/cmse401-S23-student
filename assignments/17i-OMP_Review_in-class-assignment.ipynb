{
 "cells": [
  {
   "cell_type": "markdown",
   "metadata": {},
   "source": [
    "[Link to this document's Jupyter Notebook](./0226-OMP_Review_in-class-assignment.ipynb)"
   ]
  },
  {
   "cell_type": "markdown",
   "metadata": {},
   "source": [
    "In order to successfully complete this assignment you need to participate both individually and in groups during class.   If you attend class in-person then have one of the instructors check your notebook and sign you out before leaving class on **Friday February 26**. If you are attending asynchronously, turn in your assignment using D2L no later than **_11:59pm on Friday February 26_**. "
   ]
  },
  {
   "cell_type": "markdown",
   "metadata": {},
   "source": [
    "---\n",
    "\n"
   ]
  },
  {
   "cell_type": "markdown",
   "metadata": {},
   "source": [
    "# In-Class Assignment: Practice using Wave Equation example\n",
    "\n",
    "<img src=\"https://www.nvidia.com/content/dam/en-zz/Solutions/geforce/ampere/rtx-3080/geforce-rtx-3080-shop-630-d@2x.png\" alt=\"Picture of a typical GPU card\" >\n",
    "\n",
    "Image from: https://www.nvidia.com\n"
   ]
  },
  {
   "cell_type": "markdown",
   "metadata": {},
   "source": [
    "### Agenda for today's class (70 minutes)\n",
    "\n",
    "1. (20 minutes) [HW2 Review](#HW2_Review)\n",
    "2. (30 minutes) [HW3 Cuda](#HW3_CUDA)\n",
    "3. (10 minutes) [Introduction to CUDA](#Introduction_to_CUDA)\n",
    "\n",
    "\n"
   ]
  },
  {
   "cell_type": "markdown",
   "metadata": {},
   "source": [
    "\n",
    "---\n",
    "<a name=HW2_Review></a>\n",
    "# 1. HW2 Review\n",
    "\n",
    "\n",
    "* [0225-HW2_OMP](0225-HW2_OMP.ipynb)\n"
   ]
  },
  {
   "cell_type": "markdown",
   "metadata": {},
   "source": [
    "---\n",
    "<a name=HW3_CUDA></a>\n",
    "# 2. HW3 Cuda\n",
    "\n",
    "- [0318-HW3_CUDA](0318-HW3_CUDA.ipynb)"
   ]
  },
  {
   "cell_type": "markdown",
   "metadata": {},
   "source": [
    "---\n",
    "<a name=Introduction_to_CUDA></a>\n",
    "# 3. Introduction to CUDA\n",
    "\n",
    "Key things to note about CUDA:\n",
    "\n",
    "1. Always pick a dev node with a CUDA card (ex: dev-amd20-v100)\n",
    "1. Type 'module load CUDA' to load in the CUDA libraries and compilers.\n",
    "2. Use ```nvcc``` instead of ```gcc``` when compiling cuda code.\n",
    "3. Error checking is hard always use a CUDA_CALL and capture your kernel error outputs.\n",
    "4. Be very careful with pointers.  They are everywhere and can be really confusing.\n",
    "\n",
    "\n",
    "&#9989; **<font color=red>DO THIS:</font>** Find a CUDA based example and see if you can get it to run on one of the GPU head nodes.\n"
   ]
  },
  {
   "cell_type": "markdown",
   "metadata": {},
   "source": [
    "\n",
    "\n",
    "-----\n",
    "### Congratulations, we're done!\n",
    "\n",
    "If you attend class in-person then have one of the instructors check your notebook and sign you out before leaving class. If you are attending asynchronously, turn in your assignment using D2L."
   ]
  },
  {
   "cell_type": "markdown",
   "metadata": {},
   "source": [
    "### Course Resources:\n",
    "\n",
    "\n",
    " - [Website](https://msu-cmse-courses.github.io/cmse401-S23-student/)\n",
    " - [ZOOM](https://msu.zoom.us/j/)\n",
    " - [JargonJar](https://docs.google.com/document/d/1-oIiXzrs9pPspGWUzcSZzVgzqs0emTjegsomX4R5bYo/edit?usp=sharing)\n",
    " - [GIT](https://gitlab.msu.edu/appeloda/cmse401-s23.git)\n",
    "\n"
   ]
  },
  {
   "cell_type": "markdown",
   "metadata": {},
   "source": [
    "Written by Dr. Dirk Colbry, Michigan State University\n",
    "<a rel=\"license\" href=\"http://creativecommons.org/licenses/by-nc/4.0/\"><img alt=\"Creative Commons License\" style=\"border-width:0\" src=\"https://i.creativecommons.org/l/by-nc/4.0/88x31.png\" /></a><br />This work is licensed under a <a rel=\"license\" href=\"http://creativecommons.org/licenses/by-nc/4.0/\">Creative Commons Attribution-NonCommercial 4.0 International License</a>."
   ]
  },
  {
   "cell_type": "markdown",
   "metadata": {},
   "source": [
    "----"
   ]
  }
 ],
 "metadata": {
  "kernelspec": {
   "display_name": "Python 3",
   "language": "python",
   "name": "python3"
  },
  "language_info": {
   "codemirror_mode": {
    "name": "ipython",
    "version": 3
   },
   "file_extension": ".py",
   "mimetype": "text/x-python",
   "name": "python",
   "nbconvert_exporter": "python",
   "pygments_lexer": "ipython3",
   "version": "3.7.3"
  }
 },
 "nbformat": 4,
 "nbformat_minor": 2
}
