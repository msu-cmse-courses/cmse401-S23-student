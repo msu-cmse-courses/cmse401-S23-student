{
 "cells": [
  {
   "cell_type": "markdown",
   "metadata": {},
   "source": [
    "[Link to this document's Jupyter Notebook](./0409-Picking_parallel_in-class-assignment.ipynb)"
   ]
  },
  {
   "cell_type": "markdown",
   "metadata": {},
   "source": [
    "In order to successfully complete this assignment you need to participate both individually and in groups during class.   If you attend class in-person then have one of the instructors check your notebook and sign you out before leaving class on **Friday April 9**. If you are attending asynchronously, turn in your assignment using D2L no later than **_11:59pm on Friday April 9**. "
   ]
  },
  {
   "cell_type": "markdown",
   "metadata": {},
   "source": [
    "---\n",
    "\n"
   ]
  },
  {
   "cell_type": "markdown",
   "metadata": {},
   "source": [
    "# In-Class Assignment: Go big or go home!\n",
    "<img alt=\"Logo for the top 500\" src=\"https://www.top500.org/static//images/Top500_logo.png\">\n",
    "\n"
   ]
  },
  {
   "cell_type": "markdown",
   "metadata": {},
   "source": [
    "### Agenda for today's class (70 minutes)\n",
    "\n",
    "1. [HW4 Review](#HW4-Review)\n",
    "2. [Which parallel library is best and why](#Which-parallel-library-is-best-and-why)\n",
    "3. [Aurora Scavenger Hunt](#Aurora-Scavenger-Hunt)\n",
    "\n"
   ]
  },
  {
   "cell_type": "markdown",
   "metadata": {},
   "source": [
    "\n",
    "\n",
    "---\n",
    "<a name=HW4-Review></a>\n",
    "# 1. HW4 Review\n",
    "\n",
    "\n",
    "\n",
    "\n",
    "- [0408-HW4_MPI](0408-HW4_MPI.ipynb)"
   ]
  },
  {
   "cell_type": "markdown",
   "metadata": {},
   "source": [
    "\n",
    "---\n",
    "<a name=Which-parallel-library-is-best-and-why></a>\n",
    "# 2. Which parallel library is best and why\n",
    "\n",
    "\n",
    "\n",
    "\n",
    "&#9989; **<font color=red>DO THIS:</font>** As a class we will make a list of example problems.  These will include examples we have covered in class, examples we saw at UURAF, examples from our projects and any other problems we can think of.  \n",
    "\n",
    "&#9989; **<font color=red>DO THIS:</font>**  Then we will try to come up with ways we can group the examples into categories with the goal of finding patterns in the examples.\n",
    "\n",
    "&#9989; **<font color=red>DO THIS:</font>** For each example/category we will discuss what considerations should we keep in mind and how would we select the \"best\" parallel paradigm for each example."
   ]
  },
  {
   "cell_type": "markdown",
   "metadata": {},
   "source": [
    "\n",
    "---\n",
    "<a name=Aurora-Scavenger-Hunt></a>\n",
    "# 3. Aurora Scavenger Hunt\n",
    "\n",
    "<img alt=\"Picture of the Aurora supercomputer\" src=\"https://www.extremetech.com/wp-content/uploads/2019/03/Aurora-Feature-Image.jpg\" width=60%>\n",
    "\n",
    "Image from: https://www.extremetech.com/extreme/287932-intel-doe-announce-first-ever-exascale-supercomputer-aurora\n",
    "\n",
    "* [Link to the announcement](https://www.hpcwire.com/2019/03/18/its-official-aurora-on-track-to-be-first-u-s-exascale-computer-in-2021/)\n",
    "* [Intel Xe GPU architecture](https://www.crn.com/intel-to-use-new-xe-gpu-tech-for-first-u-s-exascale-supercomputer)\n",
    "* [More on the Xe](https://www.tomshardware.com/news/intel-exascale-aurora-supercomputer-xe-graphics,38851.html)\n"
   ]
  },
  {
   "cell_type": "code",
   "execution_count": null,
   "metadata": {},
   "outputs": [],
   "source": [
    "#OpenMP Video\n",
    "from IPython.display import YouTubeVideo\n",
    "YouTubeVideo(\"DBDPFC8cIMo\",width=640,height=360)"
   ]
  },
  {
   "cell_type": "markdown",
   "metadata": {},
   "source": [
    "&#9989; **<font color=red>QUESTION:</font>** How fast is the Aurora computer going to be?"
   ]
  },
  {
   "cell_type": "markdown",
   "metadata": {},
   "source": [
    "Put your answer to the above question here."
   ]
  },
  {
   "cell_type": "markdown",
   "metadata": {},
   "source": [
    "&#9989; **<font color=red>QUESTION:</font>** What Companies are suppling the hardware for Aroura?"
   ]
  },
  {
   "cell_type": "markdown",
   "metadata": {},
   "source": [
    "Put your answer to the above question here."
   ]
  },
  {
   "cell_type": "markdown",
   "metadata": {},
   "source": [
    "&#9989; **<font color=red>QUESTION:</font>** Who is building Aroura?"
   ]
  },
  {
   "cell_type": "markdown",
   "metadata": {},
   "source": [
    "Put your answer to the above question here."
   ]
  },
  {
   "cell_type": "markdown",
   "metadata": {},
   "source": [
    "&#9989; **<font color=red>QUESTION:</font>** What is new about the Aurora Hardware?"
   ]
  },
  {
   "cell_type": "markdown",
   "metadata": {},
   "source": [
    "Put your answer to the above question here."
   ]
  },
  {
   "cell_type": "markdown",
   "metadata": {},
   "source": [
    "&#9989; **<font color=red>QUESTION:</font>** What type of parallelization does the Aurora use?  Shared Memory, GPUs, FPGAs, shared network and/or other?"
   ]
  },
  {
   "cell_type": "markdown",
   "metadata": {},
   "source": [
    "Put your answer to the above question here."
   ]
  },
  {
   "cell_type": "markdown",
   "metadata": {},
   "source": [
    "&#9989; **<font color=red>QUESTION:</font>** What libraries/languages will be used to program the Aruora in parallel?"
   ]
  },
  {
   "cell_type": "markdown",
   "metadata": {},
   "source": [
    "Put your answer to the above question here."
   ]
  },
  {
   "cell_type": "markdown",
   "metadata": {},
   "source": [
    "&#9989; **<font color=red>QUESTION:</font>** How much will scientists need to rewrite their code to take advantage of the new Aruora Hardware?"
   ]
  },
  {
   "cell_type": "markdown",
   "metadata": {},
   "source": [
    "Put your answer to the above question here."
   ]
  },
  {
   "cell_type": "markdown",
   "metadata": {},
   "source": [
    "\n",
    "\n",
    "-----\n",
    "### Congratulations, we're done!\n",
    "\n",
    "If you attend class in-person then have one of the instructors check your notebook and sign you out before leaving class. If you are attending asynchronously, turn in your assignment using D2L."
   ]
  },
  {
   "cell_type": "markdown",
   "metadata": {},
   "source": [
    "### Course Resources:\n",
    "\n",
    "\n",
    " - [Website](https://msu-cmse-courses.github.io/cmse802-f20-student/)\n",
    " - [ZOOM](https://msu.zoom.us/j/98207034052)\n",
    " - [JargonJar](https://docs.google.com/document/d/1ahg48CCFhRzUL-QIHzlt_KEf1XqsCasFBU4iePHhcug/edit#)\n",
    " - [GIT](https://gitlab.msu.edu/colbrydi/cmse401-s21.git)\n",
    "\n"
   ]
  },
  {
   "cell_type": "markdown",
   "metadata": {},
   "source": [
    "Written by Dr. Dirk Colbry, Michigan State University\n",
    "<a rel=\"license\" href=\"http://creativecommons.org/licenses/by-nc/4.0/\"><img alt=\"Creative Commons License\" style=\"border-width:0\" src=\"https://i.creativecommons.org/l/by-nc/4.0/88x31.png\" /></a><br />This work is licensed under a <a rel=\"license\" href=\"http://creativecommons.org/licenses/by-nc/4.0/\">Creative Commons Attribution-NonCommercial 4.0 International License</a>."
   ]
  },
  {
   "cell_type": "markdown",
   "metadata": {},
   "source": [
    "----"
   ]
  }
 ],
 "metadata": {
  "kernelspec": {
   "display_name": "Python 3",
   "language": "python",
   "name": "python3"
  },
  "language_info": {
   "codemirror_mode": {
    "name": "ipython",
    "version": 3
   },
   "file_extension": ".py",
   "mimetype": "text/x-python",
   "name": "python",
   "nbconvert_exporter": "python",
   "pygments_lexer": "ipython3",
   "version": "3.7.3"
  }
 },
 "nbformat": 4,
 "nbformat_minor": 2
}
