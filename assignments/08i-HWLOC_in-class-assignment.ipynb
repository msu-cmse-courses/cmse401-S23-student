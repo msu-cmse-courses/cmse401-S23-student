{
 "cells": [
  {
   "cell_type": "markdown",
   "metadata": {},
   "source": [
    "[Link to this document's Jupyter Notebook](./0203-HWLOC_in-class-assignment.ipynb)"
   ]
  },
  {
   "cell_type": "markdown",
   "metadata": {},
   "source": [
    "In order to successfully complete this assignment you need to participate both individually and in groups during class.   If you attend class in-person then have one of the instructors check your notebook and sign you out before leaving class on **Wednesday February 3**. If you are attending asynchronously, turn in your assignment using D2L no later than **_11:59pm on Wednesday February 3_**. "
   ]
  },
  {
   "cell_type": "markdown",
   "metadata": {},
   "source": [
    "---\n",
    "\n"
   ]
  },
  {
   "cell_type": "markdown",
   "metadata": {},
   "source": [
    "# In-Class Assignment: Internal Tour of the HPCC\n",
    "\n",
    "<img alt=\"Example output for the lstopo command. This the layout of a typical gateway node on the HPCC.\" src=\"https://lh4.googleusercontent.com/rrbHzTPaEubnDmCkhFr_eX9Bb_488S4e2BT8Tt0UEj9imCYSfIVvW4cCKVUdiMlX_kJSMJAFSA=w685\">\n"
   ]
  },
  {
   "cell_type": "markdown",
   "metadata": {},
   "source": [
    "### Agenda for today's class (70 minutes)\n",
    "\n",
    "1. [Review Pre class assignment](#Review-Pre-class-assignment)\n",
    "2. [List Hardware Topography   aka lstopo (HWLOC)](#List-Hardware-Topography)\n",
    "3. [Stream Benchmark](#Stream-Benchmark)\n",
    "4. [Tour of the HPCC](#Tour-of-the-HPCC)\n",
    "\n",
    "\n"
   ]
  },
  {
   "cell_type": "markdown",
   "metadata": {},
   "source": [
    "\n",
    "---\n",
    "<a name=Review-Pre-class-assignment></a>\n",
    "# 1. Review Pre class assignment\n",
    "\n"
   ]
  },
  {
   "cell_type": "markdown",
   "metadata": {},
   "source": [
    "\n",
    "\n",
    "---\n",
    "<a name=List-Hardware-Topography></a>\n",
    "# 2. List Hardware Topography   aka lstopo (HWLOC)\n",
    "\n",
    "\n",
    "[0202--BASH_pre-class-assignment](0202--BASH_pre-class-assignment.ipynb)\n",
    "\n",
    "Development nodes as of 01/11/2021\n",
    "\n",
    "- dev-intel14 \n",
    "- dev-intel14-k20 \n",
    "- dev-intel16 \n",
    "- dev-intel16-k80 \n",
    "- dev-intel18\n",
    "- dev-amd20\n",
    "- dev-amd20-v100"
   ]
  },
  {
   "cell_type": "raw",
   "metadata": {},
   "source": [
    "module laod hwloc \n",
    "\n",
    "lstopo --no-io -.txt\n",
    "\n",
    "lstopo filename.txt"
   ]
  },
  {
   "cell_type": "raw",
   "metadata": {},
   "source": [
    "man lstopo  #press 'q' to quit manual page"
   ]
  },
  {
   "cell_type": "raw",
   "metadata": {},
   "source": [
    "lstopo $HOSTNAME.svg\n",
    "mailme $HOSTNAME.svg"
   ]
  },
  {
   "cell_type": "markdown",
   "metadata": {},
   "source": [
    "&#9989; **<font color=red>DO THIS:</font>**   Run the lstopo command on each of the development nodes and paste the image in the following google document:\n",
    "\n",
    "[LSTOPO Google Document](https://docs.google.com/document/d/1SfJ7uxumxlPy4R70JObpAUETR7PpjtSVyV3gPTD56aM/edit?usp=sharing)"
   ]
  },
  {
   "cell_type": "markdown",
   "metadata": {},
   "source": [
    "\n",
    "\n",
    "---\n",
    "<a name=Stream-Benchmark></a>\n",
    "# 3. Stream Benchmark\n",
    "\n",
    "\n",
    "\n",
    "Split up into teams.  Each team will download and run the Stream Benchmark on a different login node:\n",
    "\n",
    "http://www.cs.virginia.edu/stream/\n",
    "\n",
    "\n",
    "Put results in our timing file: [Benchmark Studies](https://docs.google.com/spreadsheets/d/1WBf9TxULtwIv5D59tk5M-VRxBIHXCby79Q4cgEF7H7o/edit)"
   ]
  },
  {
   "cell_type": "markdown",
   "metadata": {},
   "source": [
    "\n",
    "---\n",
    "<a name=Tour-of-the-HPCC></a>\n",
    "# 4. Tour of the HPCC\n",
    "\n",
    "\n",
    "https://icer.msu.edu/dashboard\n",
    "\n",
    "If we have time I will give a virtual tour of the HPC. \n",
    "\n",
    "- Login vs developer resources\n",
    "- Multiple computers, shared filesystem\n",
    "- Module system for managing software\n",
    "- Batch Scheduler"
   ]
  },
  {
   "cell_type": "markdown",
   "metadata": {},
   "source": [
    "\n",
    "\n",
    "-----\n",
    "### Congratulations, we're done!\n",
    "\n",
    "If you attend class in-person then have one of the instructors check your notebook and sign you out before leaving class. If you are attending asynchronously, turn in your assignment using D2L."
   ]
  },
  {
   "cell_type": "markdown",
   "metadata": {},
   "source": [
    "### Course Resources:\n",
    "\n",
    "\n",
    " - [Website](https://msu-cmse-courses.github.io/cmse802-f20-student/)\n",
    " - [ZOOM](https://msu.zoom.us/j/98207034052)\n",
    " - [JargonJar](https://docs.google.com/document/d/1ahg48CCFhRzUL-QIHzlt_KEf1XqsCasFBU4iePHhcug/edit#)\n",
    " - [GIT](https://gitlab.msu.edu/colbrydi/cmse401-s21.git)\n",
    "\n"
   ]
  },
  {
   "cell_type": "markdown",
   "metadata": {},
   "source": [
    "Written by Dr. Dirk Colbry, Michigan State University\n",
    "<a rel=\"license\" href=\"http://creativecommons.org/licenses/by-nc/4.0/\"><img alt=\"Creative Commons License\" style=\"border-width:0\" src=\"https://i.creativecommons.org/l/by-nc/4.0/88x31.png\" /></a><br />This work is licensed under a <a rel=\"license\" href=\"http://creativecommons.org/licenses/by-nc/4.0/\">Creative Commons Attribution-NonCommercial 4.0 International License</a>."
   ]
  },
  {
   "cell_type": "markdown",
   "metadata": {},
   "source": [
    "----"
   ]
  }
 ],
 "metadata": {
  "kernelspec": {
   "display_name": "Python 3",
   "language": "python",
   "name": "python3"
  },
  "language_info": {
   "codemirror_mode": {
    "name": "ipython",
    "version": 3
   },
   "file_extension": ".py",
   "mimetype": "text/x-python",
   "name": "python",
   "nbconvert_exporter": "python",
   "pygments_lexer": "ipython3",
   "version": "3.7.3"
  }
 },
 "nbformat": 4,
 "nbformat_minor": 2
}
