{
 "cells": [
  {
   "cell_type": "markdown",
   "metadata": {},
   "source": [
    "[Link to this document's Jupyter Notebook](./0326-Project_in-class-assignment.ipynb)"
   ]
  },
  {
   "cell_type": "markdown",
   "metadata": {},
   "source": [
    "In order to successfully complete this assignment you need to participate both individually and in groups during class.   If you attend class in-person then have one of the instructors check your notebook and sign you out before leaving class on **Friday March 26**. If you are attending asynchronously, turn in your assignment using D2L no later than **_11:59pm on Friday March 26**. "
   ]
  },
  {
   "cell_type": "markdown",
   "metadata": {},
   "source": [
    "---\n",
    "\n"
   ]
  },
  {
   "cell_type": "markdown",
   "metadata": {},
   "source": [
    "# In-Class Assignment: Project part 1\n",
    "\n",
    "<img alt=\"Picture Motivating group work\" src=\"https://www.optometricmanagement.com/archive/2012/November/images/OM_November_A13_Fig01.jpg\" width=40%>\n",
    "\n",
    "Image From: http://web.eecs.utk.edu/~huangj/\n"
   ]
  },
  {
   "cell_type": "markdown",
   "metadata": {},
   "source": [
    "### Agenda for today's class (70 minutes)\n",
    "\n",
    "1. (30 minutes) [Round Robin Presentations](#Round-Robin-Presentations)\n",
    "3. (20 minutes) [Project Debrief](#Project-Debrief)\n",
    "4. (20 minutes) [Rumor Example Continued](#Rumor-Example-Continued)\n",
    "\n"
   ]
  },
  {
   "cell_type": "markdown",
   "metadata": {},
   "source": [
    "\n",
    "\n",
    "---\n",
    "<a name=Round-Robin-Presentations></a>\n",
    "# 1. Round Robin Presentations\n",
    "\n",
    "\n",
    "\n",
    "In your groups, share what each of you have been doing with your project, progress made so far and any roadblocks you may be having.  The goal is to let everyone talk but also have a discussion with each other. Try to talk for about 10 minutes for each presentation.  The instructor will be coming around to listen to 1-2 minutes of your presentation and potentially ask you some questions.\n",
    "\n",
    "For each presentation designate someone as a timekeeper and someone else as the note taker. Rotate the roles. "
   ]
  },
  {
   "cell_type": "markdown",
   "metadata": {},
   "source": [
    "\n",
    "\n",
    "---\n",
    "<a name=Project-Debrief></a>\n",
    "# 2. Project Debrief\n",
    "\n",
    "\n",
    "In the remainder of the class, we will share some observations you learned in your group. We will start by going around the classroom and everyone giving a *very brief* (30 seconds or so) broad overview of their project (e.g., \"I am writing an agent-based model for bird migration that I am parallelizing using CUDA\" would be perfectly sufficient). Take special note of any common roadblocks that you see may be hindering the progress of your project. If no one talks, the instructor will call on people."
   ]
  },
  {
   "cell_type": "markdown",
   "metadata": {},
   "source": [
    "\n",
    "\n",
    "---\n",
    "<a name=Rumor-Example-Continued></a>\n",
    "# 3. Rumor Example Continued\n",
    "\n",
    "Lets use this time to work some more on our Rumor Example.  See if we can finish it up and share our answers with each other. "
   ]
  },
  {
   "cell_type": "markdown",
   "metadata": {},
   "source": [
    "\n",
    "\n",
    "-----\n",
    "### Congratulations, we're done!\n",
    "\n",
    "If you attend class in-person then have one of the instructors check your notebook and sign you out before leaving class. If you are attending asynchronously, turn in your assignment using D2L."
   ]
  },
  {
   "cell_type": "markdown",
   "metadata": {},
   "source": [
    "### Course Resources:\n",
    "\n",
    "\n",
    " - [Website](https://msu-cmse-courses.github.io/cmse401-S23-student/)\n",
    " - [ZOOM](https://msu.zoom.us/j/)\n",
    " - [JargonJar](https://docs.google.com/document/d/1-oIiXzrs9pPspGWUzcSZzVgzqs0emTjegsomX4R5bYo/edit?usp=sharing)\n",
    " - [GIT](https://gitlab.msu.edu/appeloda/cmse401-s23.git)\n",
    "\n"
   ]
  },
  {
   "cell_type": "markdown",
   "metadata": {},
   "source": [
    "Written by Dr. Dirk Colbry, Michigan State University\n",
    "<a rel=\"license\" href=\"http://creativecommons.org/licenses/by-nc/4.0/\"><img alt=\"Creative Commons License\" style=\"border-width:0\" src=\"https://i.creativecommons.org/l/by-nc/4.0/88x31.png\" /></a><br />This work is licensed under a <a rel=\"license\" href=\"http://creativecommons.org/licenses/by-nc/4.0/\">Creative Commons Attribution-NonCommercial 4.0 International License</a>."
   ]
  },
  {
   "cell_type": "markdown",
   "metadata": {},
   "source": [
    "----"
   ]
  }
 ],
 "metadata": {
  "kernelspec": {
   "display_name": "Python 3",
   "language": "python",
   "name": "python3"
  },
  "language_info": {
   "codemirror_mode": {
    "name": "ipython",
    "version": 3
   },
   "file_extension": ".py",
   "mimetype": "text/x-python",
   "name": "python",
   "nbconvert_exporter": "python",
   "pygments_lexer": "ipython3",
   "version": "3.7.3"
  }
 },
 "nbformat": 4,
 "nbformat_minor": 2
}
