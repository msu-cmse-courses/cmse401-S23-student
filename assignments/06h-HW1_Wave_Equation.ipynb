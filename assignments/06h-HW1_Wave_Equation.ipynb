{
 "cells": [
  {
   "cell_type": "markdown",
   "metadata": {},
   "source": [
    "[Link to this document's Jupyter Notebook](./0128-HW1_Wave_Equation.ipynb)"
   ]
  },
  {
   "cell_type": "markdown",
   "metadata": {},
   "source": [
    "# Homework 1: 1D Wave Equation\n",
    "\n",
    "In this homework we will solve the wave equation in 1-D through a finite difference approach using Euler's method. The purpose of the assignment is to allow students to compare and benchmark language choice and its impact on time to science using an easy to describe and read, mostly memory coherent application.\n",
    "\n",
    "### Goals for this assignment:\n",
    "\n",
    "By the end of this assignment, you should be able to:\n",
    "\n",
    "* Implement a 1D wave equation using the finite difference method\n",
    "* Conduct a timing study of your code\n",
    "\n",
    "\n",
    "\n",
    "1. [Implement the 1D wave equation](#Implement-the-1D-wave-equation)\n",
    "2. [Timeing / Scaling Study](#Timeing-Scaling-Study)\n",
    "3. [Homework Report](#Homework-Report)\n",
    "4. [Optional Bonus](#Optional-Bonus)\n",
    "5. [Tar Zip your files](#Tar-Zip-your-files)\n",
    "\n",
    "\n",
    "\n",
    "\n",
    "The 1D wave equation can be thought of as a wave propagating along a string.\n",
    "\n",
    "<img alt=\"animated image of a 1 dimensional wave function as it propagates though time. It starts as a single peak and then moves down slowly into two peeks moving towards the ends. \" src=\"https://i.stack.imgur.com/75vyK.gif\" width=50%>\n"
   ]
  },
  {
   "cell_type": "markdown",
   "metadata": {},
   "source": [
    "The wave equation is an  second-order linear partial differential equation for the description of waves as they occur in classical physics (for example: water waves, sound waves and seismic waves, light waves).  The basic algorithm splits the wave into a grid of points and calculates the point's position, velocity and acceleration.  The key incite to making the wave equations work that an individuals point will lead/follow the behavior of that points neighbors.  \n",
    "\n",
    "\n",
    "In the 1D case we will model a line of points in the x-direction such that thy can only move in the y direction. The position for each point  $y$ can be calculated by the particle's previous position and the particle's velocity multiplied by the change in time:\n",
    "\n",
    "$$y_{i+1} = y_i + \\dot{y}_idt$$\n",
    "\n",
    "Notation:\n",
    "$$\\frac{dy}{dt} = \\dot{y} = v = \\text{velocity of particle in y direction}$$\n",
    "\n",
    "We calculation the velocity using the acceleration:\n",
    "\n",
    "$$\\dot{y}_{i+1} = \\dot{y}_i + \\ddot{y}_idt$$\n",
    "\n",
    "Notation:\n",
    "$$\\frac{d^2y}{dt^2} = \\frac{dv}{dt} = \\ddot{y} = a = \\text{acceleration of particle in y direction}$$\n",
    "\n",
    "\n",
    "Given the above equations,  if we know the starting values $y_0$, $\\dot{y}_0$, $\\ddot{y}_0$ then the only unknown is the equation for how the acceleration changes.  "
   ]
  },
  {
   "cell_type": "markdown",
   "metadata": {},
   "source": [
    "**Wave Equation:** We will estimate acceleration in time by using acceleration in space. Intuitively we can think about this as any point can estimate where it will be in the future by looking at it's neighbors. Mathematically we show this equation as follows:\n",
    "\n",
    "\n",
    "$$\\frac{d^2y}{dt^2} = \\gamma\\frac{d^2y}{dx^2}$$"
   ]
  },
  {
   "cell_type": "markdown",
   "metadata": {},
   "source": [
    "We know the acceleration in space using the Euler's finite difference of the particle's position:"
   ]
  },
  {
   "cell_type": "markdown",
   "metadata": {},
   "source": [
    "$$\\frac{d^2y}{dx^2} \\approx \\frac{y[i+1]-2y[i]+y[i-1]}{dx^2}$$"
   ]
  },
  {
   "cell_type": "markdown",
   "metadata": {},
   "source": [
    "To get the above equation we estimate the velocity to the Left and Right (Before and After) the point of interest using Finite Difference:\n",
    "\n",
    "$$\\dot{y}[i]_L = \\frac{y[i]-y[i-1]}{dx}$$\n",
    "\n",
    "$$\\dot{y}[i]_R = \\frac{y[i+1]-y[i]}{dx}$$"
   ]
  },
  {
   "cell_type": "markdown",
   "metadata": {},
   "source": [
    "Second, using the Left and Right Velocity,  we use finite difference again to estimate the acceleration:\n",
    "\n",
    "$$\\ddot{y}[i] = \\frac{\\dot{y}[i]_R - \\dot{y}[i]_L}{dx}$$"
   ]
  },
  {
   "cell_type": "markdown",
   "metadata": {},
   "source": [
    "Putting it all together and simplifying we get the followign:"
   ]
  },
  {
   "cell_type": "markdown",
   "metadata": {},
   "source": [
    "$$\\ddot{y}[i] = \\frac{y[i+1]-2y[i]+y[i-1]}{dx^2}$$"
   ]
  },
  {
   "cell_type": "markdown",
   "metadata": {},
   "source": [
    "Given the above we can calculate a points position at time step $t+1$ by using it's position/velocity at timestep $t$ and it's neighbors position at time step $t-1$.\n",
    "\n",
    "---\n",
    "<a name=Implement-the-1D-wave-equation></a>\n",
    "# 1. Implement the 1D wave equation\n",
    "\n",
    "\n",
    "\n",
    "&#9989; **<font color=red>DO THIS:</font>** Write a 1D wave equation in your program language of choice using the following pseudocode as a guide. "
   ]
  },
  {
   "cell_type": "markdown",
   "metadata": {},
   "source": [
    "Pseudocode and settings for 1D Wave Equation\n",
    "\n",
    "> ### Divide simulation into grid in the x direction\n",
    "> \n",
    "> $xmin = 0; xmax=10; nx=512$\n",
    ">\n",
    "> $dx = \\frac{xmax-xmin}{nx}$\n",
    ">\n",
    "> $x = \\text{linspace}(xmin, xmax, nx)$  #Returns a row vector of nx evenly spaced points between xmin and xmax.\n",
    ">\n",
    "> ### Divide time into discrete units\n",
    ">\n",
    "> $tmin = 0; tmax=10; nt=1000000$\n",
    ">\n",
    "> $dt = \\frac{tmax-tmin}{nt}$\n",
    ">\n",
    "> $times = \\text{linespace}(tmin,tmax, nt)$ #Returns a row vector of nt evenly spaced points between tmin and tmax.\n",
    ">\n",
    "> ### Initialize starting position as a simple pulse\n",
    ">\n",
    "> $y_i = e^{-(x_i-5)^2}$ for all $i \\in [0,nx)$\n",
    ">\n",
    "> ### Initialize velocity and acceleration to zero\n",
    ">\n",
    "> $\\dot{y}_i = 0$ for all $i \\in [0,nx)$\n",
    ">\n",
    "> $\\ddot{y}_i = 0$ for all $i \\in [0,nx)$\n",
    ">\n",
    "> $\\gamma = 1$\n",
    ">\n",
    "> ### Run the simulation of t timesteps\n",
    "> Loop over index $t$ in $times$:\n",
    ">\n",
    ">    > $\\ddot{y}_0 = 0$ # Keep acceleration to zero on ends\n",
    ">    >\n",
    ">    > $\\ddot{y}_{nx-1} = 0$ # Keep acceleration to zero on ends\n",
    ">    >\n",
    ">    > $\\ddot{y}_i \\approx \\gamma \\frac{y_{(i+1)} + y_{(i-1)}-2y_i}{dx^2}$ for all $i \\in (0,nx-1)$ # Estimate acceleration using position\n",
    ">    > \n",
    ">    > $y_i = y_i + \\dot{y}_i dt$   for all $i \\in [0,nx)$ # Update position\n",
    ">    >\n",
    ">    > $\\dot{y}_{i} = \\dot{y}_i+ \\ddot{y}_idt$   for all $i \\in [0,nx)$ # Update velocity\n"
   ]
  },
  {
   "cell_type": "markdown",
   "metadata": {},
   "source": [
    "\n",
    "\n",
    "---\n",
    "<a name=Timeing-Scaling-Study></a>\n",
    "# 2. Timeing / Scaling Study\n",
    "\n"
   ]
  },
  {
   "cell_type": "markdown",
   "metadata": {},
   "source": [
    "&#9989; **<font color=red>DO THIS:</font>** Conduct a timing study of your 1D wave equation.  Make sure you have run it enough times to get accurate results.  (You are encouraged to compare timing results if you have different versions of the code and/or if you run your code on different machines). "
   ]
  },
  {
   "cell_type": "markdown",
   "metadata": {},
   "source": [
    "\n",
    "\n",
    "---\n",
    "<a name=Homework-Report></a>\n",
    "# 3. Homework Report\n",
    "\n",
    "\n",
    "\n",
    "\n",
    "Write a short (approx. 1-page) report for this homework.  Include the report and all of your code/instructions when you turn in the project (ex. Makefiles, library install instructions, etc). Make sure the report answers the following questions:"
   ]
  },
  {
   "cell_type": "markdown",
   "metadata": {},
   "source": [
    "&#9989; **<font color=red>QUESTION:</font>**  On average how long did it take to execute the simulation above?"
   ]
  },
  {
   "cell_type": "markdown",
   "metadata": {},
   "source": [
    "&#9989; **<font color=red>QUESTION:</font>** What programming language/version did you use to implement your 1D wave equation?"
   ]
  },
  {
   "cell_type": "markdown",
   "metadata": {},
   "source": [
    "&#9989; **<font color=red>QUESTION:</font>** What instructions are needed for the instructor to reproduce your results? i.e. what commands are needed to compile your code?  What libraries (if any) Libraries are needed?  Do not assume that the instructor is familiar with your language. Make sure instructions are complete. Write them as if you were giving them to another student in this course or maybe CMSE202. "
   ]
  },
  {
   "cell_type": "markdown",
   "metadata": {},
   "source": [
    "&#9989; **<font color=red>QUESTION:</font>**  Describe the computer which you conducted the timing study (CPU speed, RAM, Operating System, software version, Cores used, etc.)."
   ]
  },
  {
   "cell_type": "markdown",
   "metadata": {},
   "source": [
    "&#9989; **<font color=red>QUESTION:</font>**  Describe ways you could make your program go faster. "
   ]
  },
  {
   "cell_type": "markdown",
   "metadata": {},
   "source": [
    "\n",
    "---\n",
    "<a name=Optional-Bonus></a>\n",
    "# 4. Optional Bonus\n",
    "\n",
    "\n",
    "\n",
    "Using your code, generate a visualization of the simulation similar to the animated gif at the top of this notebook. Include this visualization as part of your report."
   ]
  },
  {
   "cell_type": "markdown",
   "metadata": {},
   "source": [
    "\n",
    "\n",
    "---\n",
    "<a name=Tar-Zip-your-files></a>\n",
    "# 5. Tarzip your files\n",
    "\n"
   ]
  },
  {
   "cell_type": "markdown",
   "metadata": {},
   "source": [
    "Create a folder based on your MSU netID and the homework code (For example, mine would be called colbrydi_HW1).  Place all of your source code files in the directory.  Make sure you include instructions for the instructors to use the code.  Do not include compiled code or libraries that can be installed by the instructor.  \n",
    "\n",
    "We are going to use a program call ```tar``` which is used to \"Archive\" files. Basically ```tar``` will take a group of files and combine them into one file.  The command can also be used to ```zip``` or compress the result into a single, compact file that makes it easy to share.  We often call these files a tarzip.  To tarzip a folder you need to run the following command in the directory that contains your folder:\n",
    "\n",
    "```bash\n",
    "tar -czvf NAME.tgz FOLDER \n",
    "```\n",
    "\n",
    "The options are as follows:\n",
    "\n",
    "- ```c``` - compress the files into one file\n",
    "- ```z``` - zip up the compressed file\n",
    "- ```v``` - verbose mode (show us what the program is doing)\n",
    "- ```f NAME.tgz``` - file NAME we want to use\n",
    "- ```FOLDER``` - The folder with all of our files.\n",
    "\n",
    "For my folder (colbrydi_HW1) the command would look like the following. \n",
    "\n",
    "```bash\n",
    "tar -czvf colbrydi_HW1.tgz colbrydi_HW1\n",
    "```\n",
    "\n",
    "If you are running in Windows you may or may not have ```tar``` installed.  I recommend that you either install tar or upload your files to jupyterhub or the HPCC and tar the files there. \n",
    "\n",
    "To test if the ```tar``` file works, may a copy of the file in a temporary directory and run the following command to \"untar\" the file:\n",
    "\n",
    "```bash\n",
    "tar -xzvf NAME.tgz \n",
    "```\n",
    "The options are as follows:\n",
    "\n",
    "- ```x``` - xtract the file into it's original files\n",
    "- ```z``` - unzip up the compressed file\n",
    "- ```v``` - verbose mode (show us what the program is doing)\n",
    "- ```f NAME.tgz``` - file NAME we want to use\n",
    "\n",
    "If everything works, you should see a folder with all of our files.  For my folder (colbrydi_HW1) the command would look like the following:\n",
    "\n",
    "```bash\n",
    "tar -xzvf colbrydi_HW1.tgz \n",
    "```\n"
   ]
  },
  {
   "cell_type": "markdown",
   "metadata": {},
   "source": [
    "-----\n",
    "### Congratulations, you are done!\n",
    "\n",
    "Submit your tgz file to the course Desire2Learn page in the HW1 assignment.  "
   ]
  },
  {
   "cell_type": "markdown",
   "metadata": {},
   "source": [
    "Written by Dr. Dirk Colbry, Michigan State University\n",
    "<a rel=\"license\" href=\"http://creativecommons.org/licenses/by-nc/4.0/\"><img alt=\"Creative Commons License\" style=\"border-width:0\" src=\"https://i.creativecommons.org/l/by-nc/4.0/88x31.png\" /></a><br />This work is licensed under a <a rel=\"license\" href=\"http://creativecommons.org/licenses/by-nc/4.0/\">Creative Commons Attribution-NonCommercial 4.0 International License</a>."
   ]
  },
  {
   "cell_type": "markdown",
   "metadata": {},
   "source": [
    "----"
   ]
  }
 ],
 "metadata": {
  "anaconda-cloud": {},
  "kernelspec": {
   "display_name": "Python 3",
   "language": "python",
   "name": "python3"
  },
  "language_info": {
   "codemirror_mode": {
    "name": "ipython",
    "version": 3
   },
   "file_extension": ".py",
   "mimetype": "text/x-python",
   "name": "python",
   "nbconvert_exporter": "python",
   "pygments_lexer": "ipython3",
   "version": "3.7.3"
  }
 },
 "nbformat": 4,
 "nbformat_minor": 2
}
