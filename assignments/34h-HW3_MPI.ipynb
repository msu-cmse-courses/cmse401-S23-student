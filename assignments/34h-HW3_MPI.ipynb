{
 "cells": [
  {
   "cell_type": "markdown",
   "metadata": {},
   "source": [
    "[Link to this document's Jupyter Notebook](./34h-HW3_MPI.ipynb)"
   ]
  },
  {
   "cell_type": "markdown",
   "metadata": {},
   "source": [
    "The due date for this homework is April 19 one minute to midgnight. "
   ]
  },
  {
   "cell_type": "markdown",
   "metadata": {},
   "source": [
    "# Homework 3: Bandwidth and Latency"
   ]
  },
  {
   "cell_type": "markdown",
   "metadata": {},
   "source": [
    "In this homework you will solve excersise 4.1 in [TheArtOfHPC_vol2](https://web.corral.tacc.utexas.edu/CompEdu/pdf/pcse/EijkhoutParallelProgramming.pdf)\n",
    "\n",
    "Start by reading about ping-pong [here.](https://theartofhpc.com/pcse/mpi-ptp.html#Example:ping-pong)"
   ]
  },
  {
   "cell_type": "markdown",
   "metadata": {},
   "source": [
    "Implement the ping-pong program discussed above.\n",
    "\n",
    "1. Add a timer using MPI_Wtime. \n",
    "2. For the status argument of the receive call, use MPI_STATUS_IGNORE.\n",
    "3. Run multiple ping-pongs (say a thousand) and put the timer around the loop. The first run may take longer; try to discard it.  \n",
    "4. Run your code with the two communicating processes first on the same node, then on different nodes. Do you see a difference?\n",
    "5. Then modify the program to use longer messages. How does the timing increase with message size?\n",
    "7. Do a regression to determine α,β\n",
    "\n",
    "There is a [template program available.](https://github.com/VictorEijkhout/TheArtOfHPC_vol2_parallelprogramming/blob/main/exercises/exercises-mpi-cxx/pingpong.cxx)"
   ]
  },
  {
   "cell_type": "markdown",
   "metadata": {},
   "source": [
    "**ADD report text and figures here**."
   ]
  },
  {
   "cell_type": "markdown",
   "metadata": {},
   "source": [
    "-----\n",
    "### Congratulations, you are done!\n",
    "\n",
    "Submit your tgz file to the course Desire2Learn page in the HW1 assignment.  "
   ]
  },
  {
   "cell_type": "markdown",
   "metadata": {},
   "source": [
    "Written by Daniel Appelo, Michigan State University\n",
    "<a rel=\"license\" href=\"http://creativecommons.org/licenses/by-nc/4.0/\"><img alt=\"Creative Commons License\" style=\"border-width:0\" src=\"https://i.creativecommons.org/l/by-nc/4.0/88x31.png\" /></a><br />This work is licensed under a <a rel=\"license\" href=\"http://creativecommons.org/licenses/by-nc/4.0/\">Creative Commons Attribution-NonCommercial 4.0 International License</a>."
   ]
  },
  {
   "cell_type": "markdown",
   "metadata": {},
   "source": [
    "----"
   ]
  }
 ],
 "metadata": {
  "anaconda-cloud": {},
  "kernelspec": {
   "display_name": "Python 3 (ipykernel)",
   "language": "python",
   "name": "python3"
  },
  "language_info": {
   "codemirror_mode": {
    "name": "ipython",
    "version": 3
   },
   "file_extension": ".py",
   "mimetype": "text/x-python",
   "name": "python",
   "nbconvert_exporter": "python",
   "pygments_lexer": "ipython3",
   "version": "3.8.3"
  }
 },
 "nbformat": 4,
 "nbformat_minor": 2
}
