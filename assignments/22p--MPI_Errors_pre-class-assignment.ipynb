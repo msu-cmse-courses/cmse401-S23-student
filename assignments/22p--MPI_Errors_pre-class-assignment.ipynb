{
 "cells": [
  {
   "cell_type": "markdown",
   "metadata": {},
   "source": [
    "[Link to this document's Jupyter Notebook](./0328--MPI_Errors_pre-class-assignment.ipynb)"
   ]
  },
  {
   "cell_type": "markdown",
   "metadata": {},
   "source": [
    "In order to successfully complete this assignment you must do the required reading, watch the provided videos and complete all instructions.  The embedded survey form must be entirely filled out and submitted on or before **11:59pm on Sunday March 28**.  Students must come to class the next day prepared to discuss the material covered in this assignment. "
   ]
  },
  {
   "cell_type": "markdown",
   "metadata": {},
   "source": [
    "---\n",
    "\n"
   ]
  },
  {
   "cell_type": "markdown",
   "metadata": {},
   "source": [
    "# Pre-Class Assignment: MPI Errors"
   ]
  },
  {
   "cell_type": "markdown",
   "metadata": {},
   "source": [
    "### Goals for today's pre-class assignment \n",
    "\n",
    "1. [At its core, MPI is Simple](#At-its-core,-MPI-is-Simple)\n",
    "2. [Error Handling In MPI](#Error-Handling-In-MPI)\n",
    "3. [More on MPI Tags](#More-on-MPI-Tags)\n",
    "4. [Assignment wrap up](#Assignment-wrap-up)\n",
    "\n",
    "\n"
   ]
  },
  {
   "cell_type": "markdown",
   "metadata": {},
   "source": [
    "\n",
    "\n",
    "---\n",
    "<a name=At-its-core,-MPI-is-Simple></a>\n",
    "# 1. At its core, MPI is Simple\n",
    "\n",
    "\n",
    "Remember that most MPI programs can be written using just these six functions, only two of which are non-trivial:\n",
    "* MPI_INIT\n",
    "* MPI_COMM_SIZE\n",
    "* MPI_COMM_RANK\n",
    "* MPI_SEND\n",
    "* MPI_RECV\n",
    "* MPI_FINALIZE\n",
    "\n",
    "If you can remember these functions the rest is easy."
   ]
  },
  {
   "cell_type": "markdown",
   "metadata": {},
   "source": [
    "\n",
    "\n",
    "---\n",
    "<a name=Error-Handling-In-MPI></a>\n",
    "# 2. Error Handling In MPI\n",
    "\n",
    "\n",
    "\n",
    "\n",
    "You should also do error handling in MPI some things to note are:\n",
    "\n",
    "* By default, an error causes all processes to abort (sometimes the message is not that helpful).\n",
    "* The user can cause routines to return (with an error code) instead.\n",
    "\n",
    "Parallel programs are hard to debug. It is always a good habit to activly manage errors.  \n"
   ]
  },
  {
   "cell_type": "markdown",
   "metadata": {},
   "source": [
    "&#9989; **<font color=red>DO THIS:</font>** Find a reference that explains how to handle errors in MPI.  "
   ]
  },
  {
   "cell_type": "markdown",
   "metadata": {},
   "source": [
    "&#9989; **<font color=red>QUESTION:</font>** What is the reference link you found on handling errors in MPI?"
   ]
  },
  {
   "cell_type": "markdown",
   "metadata": {},
   "source": [
    "Put your answer to the above question here."
   ]
  },
  {
   "cell_type": "markdown",
   "metadata": {},
   "source": [
    "&#9989; **<font color=red>DO THIS:</font>** Review the following code we got to work on the HPCC last week.  Add code to include errors handling. "
   ]
  },
  {
   "cell_type": "markdown",
   "metadata": {},
   "source": [
    "```c++\n",
    "    /* Needed for printing */ \n",
    "    #include <stdio.h>          \n",
    "    #include <stdlib.h>\n",
    "\n",
    "    /* Get the MPI header file */\n",
    "    #include <mpi.h>\n",
    "    #include <unistd.h> \n",
    "\n",
    "    /* Max number of nodes to test */\n",
    "    #define max_nodes 264  \n",
    "\n",
    "    /* Largest hostname string hostnames */\n",
    "    #define str_length 50       \n",
    "    int main(int argc, char **argv)\n",
    "    {\n",
    "       /* Declare variables */\n",
    "       int   proc, rank, size, namelen;\n",
    "       int   ids[max_nodes];\n",
    "       char  hostname[str_length][max_nodes];\n",
    "       char  p_name[str_length];\n",
    "\n",
    "       MPI_Status status;\n",
    "       MPI_Init(&argc, &argv);\n",
    "       MPI_Comm_rank(MPI_COMM_WORLD, &rank);\n",
    "       MPI_Comm_size(MPI_COMM_WORLD, &size);\n",
    "       MPI_Get_processor_name(p_name,&namelen);\n",
    "    if (rank==0) {\n",
    "       printf(\"Hello From: %s I am the receiving processor %d of %d\\n\",p_name, rank+1, size);\n",
    "       for (proc=1;proc<size;proc++) {\n",
    "          MPI_Recv(&hostname[0][proc], str_length,MPI_INT,proc, 1,MPI_COMM_WORLD,&status);\n",
    "          MPI_Recv(&ids[proc], str_length,MPI_INT,proc, 2,MPI_COMM_WORLD,&status);\n",
    "          printf(\"Hello From: %-20s I am processor %d of %d\\n\", &hostname[0][proc], ids[proc]+1, size);\n",
    "       }\n",
    "    } else { // NOT Rank 0\n",
    "          srand(rank);\n",
    "          int t = rand()%10+1;\n",
    "          sleep(t);\n",
    "          MPI_Send(&p_name,str_length, MPI_INT,0,1,MPI_COMM_WORLD);\n",
    "          MPI_Send(&rank,str_length, MPI_INT,0,2,MPI_COMM_WORLD);\n",
    "       }\n",
    "       MPI_Finalize();\n",
    "\n",
    "       return(0);\n",
    "    }\n",
    "```"
   ]
  },
  {
   "cell_type": "markdown",
   "metadata": {},
   "source": [
    "&#9989; **<font color=red>QUESTION:</font>** Where you able to figure out how to get the error handling to work?"
   ]
  },
  {
   "cell_type": "markdown",
   "metadata": {},
   "source": [
    "Put your answer to the above question here."
   ]
  },
  {
   "cell_type": "markdown",
   "metadata": {},
   "source": [
    "&#9989; **<font color=red>QUESTION:</font>** If so, what was most challenging/Interesting? If not, where did you get stuck?"
   ]
  },
  {
   "cell_type": "markdown",
   "metadata": {},
   "source": [
    "Put your answer to the above question here."
   ]
  },
  {
   "cell_type": "markdown",
   "metadata": {},
   "source": [
    "\n",
    "---\n",
    "<a name=More-on-MPI-Tags></a>\n",
    "# 3. More on MPI Tags\n",
    "\n",
    "\n",
    "\n",
    "* Messages are sent with an accompanying user-defined integer tag, to assist the receiving process in identifying the message.\n",
    "* Messages can be screened at the receiving end by specifying a specific tag, or not screened by specifying MPI_ANY_TAG as the tag in a receive.\n",
    "* Some non-MPI message-passing systems have called tags “message types”. MPI calls them tags to avoid confusion with datatypes. \n",
    "\n",
    "&#9989; **<font color=red>QUESTION:</font>** How many different tags are used in the above example?"
   ]
  },
  {
   "cell_type": "markdown",
   "metadata": {},
   "source": [
    "Put your answer to the above question here."
   ]
  },
  {
   "cell_type": "markdown",
   "metadata": {},
   "source": [
    "&#9989; **<font color=red>QUESTION:</font>** How are the tags being used?"
   ]
  },
  {
   "cell_type": "markdown",
   "metadata": {},
   "source": [
    "Put your answer to the above question here."
   ]
  },
  {
   "cell_type": "markdown",
   "metadata": {},
   "source": [
    "\n",
    "---\n",
    "<a name=Assignment-wrap-up></a>\n",
    "# 4. Assignment wrap up\n",
    "\n",
    "Please fill out the form that appears when you run the code below.  **You must completely fill this out in order to receive credits for the assignment!**\n",
    "\n",
    "[Direct Link to Google Form](https://cmse.msu.edu/cmse401-pc-survey)\n",
    "\n",
    "\n",
    "If you have trouble with the embedded form, please make sure you log on with your MSU google account at [googleapps.msu.edu](https://googleapps.msu.edu) and then click on the direct link above."
   ]
  },
  {
   "cell_type": "markdown",
   "metadata": {},
   "source": [
    "&#9989; **<font color=red>Assignment-Specific QUESTION:</font>**  What is the reference link you found on handling errors in MPI?"
   ]
  },
  {
   "cell_type": "markdown",
   "metadata": {},
   "source": [
    "Put your answer to the above question here"
   ]
  },
  {
   "cell_type": "markdown",
   "metadata": {},
   "source": [
    "&#9989; **<font color=red>QUESTION:</font>**  Summarize what you did in this assignment."
   ]
  },
  {
   "cell_type": "markdown",
   "metadata": {},
   "source": [
    "Put your answer to the above question here"
   ]
  },
  {
   "cell_type": "markdown",
   "metadata": {},
   "source": [
    "&#9989; **<font color=red>QUESTION:</font>**  What questions do you have, if any, about any of the topics discussed in this assignment after working through the jupyter notebook?"
   ]
  },
  {
   "cell_type": "markdown",
   "metadata": {},
   "source": [
    "Put your answer to the above question here"
   ]
  },
  {
   "cell_type": "markdown",
   "metadata": {},
   "source": [
    "&#9989; **<font color=red>QUESTION:</font>**  How well do you feel this assignment helped you to achieve a better understanding of the above mentioned topic(s)?"
   ]
  },
  {
   "cell_type": "markdown",
   "metadata": {},
   "source": [
    "Put your answer to the above question here"
   ]
  },
  {
   "cell_type": "markdown",
   "metadata": {},
   "source": [
    "&#9989; **<font color=red>QUESTION:</font>** What was the **most** challenging part of this assignment for you? "
   ]
  },
  {
   "cell_type": "markdown",
   "metadata": {},
   "source": [
    "Put your answer to the above question here"
   ]
  },
  {
   "cell_type": "markdown",
   "metadata": {},
   "source": [
    "&#9989; **<font color=red>QUESTION:</font>** What was the **least** challenging part of this assignment for you? "
   ]
  },
  {
   "cell_type": "markdown",
   "metadata": {},
   "source": [
    "Put your answer to the above question here"
   ]
  },
  {
   "cell_type": "markdown",
   "metadata": {},
   "source": [
    "&#9989; **<font color=red>QUESTION:</font>**  What kind of additional questions or support, if any, do you feel you need to have a better understanding of the content in this assignment?"
   ]
  },
  {
   "cell_type": "markdown",
   "metadata": {},
   "source": [
    "Put your answer to the above question here"
   ]
  },
  {
   "cell_type": "markdown",
   "metadata": {},
   "source": [
    "&#9989; **<font color=red>QUESTION:</font>**  Do you have any further questions or comments about this material, or anything else that's going on in class?"
   ]
  },
  {
   "cell_type": "markdown",
   "metadata": {},
   "source": [
    "Put your answer to the above question here"
   ]
  },
  {
   "cell_type": "markdown",
   "metadata": {},
   "source": [
    "&#9989; **<font color=red>QUESTION:</font>** Approximately how long did this pre-class assignment take?"
   ]
  },
  {
   "cell_type": "markdown",
   "metadata": {},
   "source": [
    "Put your answer to the above question here"
   ]
  },
  {
   "cell_type": "code",
   "execution_count": null,
   "metadata": {},
   "outputs": [],
   "source": [
    "from IPython.display import HTML\n",
    "HTML(\n",
    "\"\"\"\n",
    "<iframe \n",
    "\tsrc=\"https://cmse.msu.edu/cmse401-pc-survey\" \n",
    "\twidth=\"100%\" \n",
    "\theight=\"500px\" \n",
    "\tframeborder=\"0\" \n",
    "\tmarginheight=\"0\" \n",
    "\tmarginwidth=\"0\">\n",
    "\tLoading...\n",
    "</iframe>\n",
    "\"\"\"\n",
    ")"
   ]
  },
  {
   "cell_type": "markdown",
   "metadata": {},
   "source": [
    "\n",
    "\n",
    "---------\n",
    "### Congratulations, we're done!\n",
    "\n",
    "To get credit for this assignment you must fill out and submit the above survey from on or before the assignment due date."
   ]
  },
  {
   "cell_type": "markdown",
   "metadata": {},
   "source": [
    "### Course Resources:\n",
    "\n",
    "\n",
    " - [Website](https://msu-cmse-courses.github.io/cmse802-f20-student/)\n",
    " - [ZOOM](https://msu.zoom.us/j/98207034052)\n",
    " - [JargonJar](https://docs.google.com/document/d/1ahg48CCFhRzUL-QIHzlt_KEf1XqsCasFBU4iePHhcug/edit#)\n",
    " - [GIT](https://gitlab.msu.edu/colbrydi/cmse401-s21.git)\n",
    "\n"
   ]
  },
  {
   "cell_type": "markdown",
   "metadata": {},
   "source": [
    "Written by Dr. Dirk Colbry, Michigan State University\n",
    "<a rel=\"license\" href=\"http://creativecommons.org/licenses/by-nc/4.0/\"><img alt=\"Creative Commons License\" style=\"border-width:0\" src=\"https://i.creativecommons.org/l/by-nc/4.0/88x31.png\" /></a><br />This work is licensed under a <a rel=\"license\" href=\"http://creativecommons.org/licenses/by-nc/4.0/\">Creative Commons Attribution-NonCommercial 4.0 International License</a>."
   ]
  },
  {
   "cell_type": "markdown",
   "metadata": {},
   "source": [
    "----"
   ]
  },
  {
   "cell_type": "markdown",
   "metadata": {},
   "source": [
    "----"
   ]
  }
 ],
 "metadata": {
  "anaconda-cloud": {},
  "kernelspec": {
   "display_name": "Python 3",
   "language": "python",
   "name": "python3"
  },
  "language_info": {
   "codemirror_mode": {
    "name": "ipython",
    "version": 3
   },
   "file_extension": ".py",
   "mimetype": "text/x-python",
   "name": "python",
   "nbconvert_exporter": "python",
   "pygments_lexer": "ipython3",
   "version": "3.7.3"
  }
 },
 "nbformat": 4,
 "nbformat_minor": 2
}
