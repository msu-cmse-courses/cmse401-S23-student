{
 "cells": [
  {
   "cell_type": "markdown",
   "metadata": {},
   "source": [
    "[Link to this document's Jupyter Notebook](./0000-Jupyter_Getting_Started_Guide.ipynb)"
   ]
  },
  {
   "cell_type": "markdown",
   "metadata": {},
   "source": [
    "# Jupyter Getting Started Guide\n",
    "\n",
    "This guide is designed to help students new to Jupyter notebooks get started.   \n",
    "\n",
    "<img src=\"https://jupyter.org/assets/homepage/main-logo.svg\" width=\"25%\" alt=\"Jupyter software logo\">\n",
    "\n",
    "> The Jupyter Notebook is an open-source web application that allows you to create and share documents that contain live code, equations, visualizations and narrative text. Uses include: data cleaning and transformation, numerical simulation, statistical modeling, data visualization, machine learning, and much more.\n",
    "From: <a href=\"https://jupyter.org/\">https://jupyter.org/</a>\n",
    "\n",
    "Jupyter works best as a communication tool.  Notebooks will be used throughout this class as a way for instructors to communicate with students and for students to communicate with instructors. We will use Jupyter notebooks extensively for pre-class assignments, in-class assignments, homework and Exams.  "
   ]
  },
  {
   "cell_type": "markdown",
   "metadata": {},
   "source": [
    "# Installing Python for this course\n",
    "\n",
    "Follow the instructions below to get the Anaconda distribution of Python installed on your computer. Even if you already have a version of Python installed on your machine, we encourage you to go through this installation process as the assignments will assume that you are working with the same versions of the Anaconda Python packages that the instructors are using. If you already specifically have Anaconda installed, we encourage you to update all of the Python packages (you may need to look up how to do this).\n",
    "\n",
    "## Instructions for downloading Anaconda (Python 3.9.x):\n",
    "\n",
    "1. Go to the Anaconda Download webpage: https://www.anaconda.com/download/ Then click the “Download” button under “Your Data Science Toolkit” to jump to the bottom of the page.\n",
    "2. Select the appropriate operating system (Windows | macOS | Linux) for your computer (it may auto-detect the correct operating system).\n",
    "3. Download the Python 3.9 version (64 bit recommended).\n",
    "4. Follow the online documentation to install Python for your specific operating system: https://docs.anaconda.com/anaconda/install/\n",
    "5. Open the command line program on your computer.\n",
    "  - On Windows, type CMD in the run box in the Start menu.\n",
    "  - On Mac, type “terminal” in the spotlight search and run the “Terminal” application.\n",
    "  - On Linux, open up the “Console” application.\n",
    "6. Type “jupyter notebook” in the command line and hit enter. Alternatively, you can open the Anaconda Navigator and click “Launch” on the Jupyter Notebook square.\n",
    "\n",
    "If everything goes correctly, a browser window should open up with the Jupyter interface running. If things don’t work, don’t worry, we will help you get started.\n",
    "\n",
    "\n",
    "\n",
    "## Instructions for getting Jupyter notebook files into Jupyter:\n",
    "\n",
    "Once you have Jupyter running you will need a notebook file to try out. Jupyter notebooks (also referred to as iPython notebooks) are files that end with the .ipynb extension.  We will give you these files for all of your assignments, you will edit them and turn in the edited files in using the course website.\n",
    "\n",
    "You can download the ipynb assignment files from the course website (http://d2l.msu.edu). Once you have an ipynb file you can load it into Jupyter using the “upload” button on the main “Files” tab in the Jupyter web interface. Hitting this button will cause a file browser window to open. Just navigate to your ipynb file, select it and hit the open button.\n",
    "\n",
    "Once you see your filename in the jupyter window you can just click on that name to start using that file. "
   ]
  },
  {
   "cell_type": "markdown",
   "metadata": {},
   "source": [
    "## (BACKUP ONLY, NOT NECESSARY TO DO BEFORE THE SEMESTER) MSU’s JupyterHub Interface\n",
    "\n",
    "From time to time, you might run into issues with your computer. When this happens, you can use the web-hosted JupyterHub server managed by MSU. It creates a virtual environment that allows you to run simple commands and host Jupyter notebooks. To make sure that you have access to this backup option, follow the directions below. Note that there are extra steps involved that require that you to upload your Jupyter notebooks to JupyterHub, as well as to download them (in the case of Homework assignments) in order to turn them in on D2L.\n",
    "\n",
    "This service should only be used as a temporary fix if Jupyter stops working on your computer. To make sure that you have access to this backup option, follow the directions below. Note that there are extra steps involved that require that you upload and download your Jupyter notebooks to and from JupyterHub in order to turn them in on D2L.\n",
    "\n",
    "Instructions for connecting to the engineering JupyterHub server:\n",
    "\n",
    "Every student enrolled in this class will be given an engineering computing account. If this is your first time using your Engineering account you will need to activate the account by going to the following website:\n",
    "\n",
    "https://www.egr.msu.edu/decs/myaccount/?page=activate\n",
    "\n",
    "Enter your MSU NetID. The initial password will be your APID with an @ on the end (example: A12345678@) and then you have to set a password that meets the requirements listed on the page. Verify the password. Then agree to the terms and Activate.\n",
    "\n",
    "Once your account is activated you can access the classroom JupyterHub server using the following instructions:\n",
    "\n",
    "Open up a web browser and go to the following URL: https://jupyterhub.egr.msu.edu\n",
    "Type your engineering login name. This will be your MSU NetID.\n",
    "Type your engineering password.\n",
    "If everything is working properly you will see the main “Files” windows in the Jupyter "
   ]
  },
  {
   "cell_type": "markdown",
   "metadata": {},
   "source": [
    "**&#9989; DO THIS:** This tutorial was originally written as a Jupyter notebook and saved to a pdf.  If you are reading this in a pdf, go to the course webpage and download the file titled \"00-Getting-Started-Guide.ipynb\" and run it in Jupyter before continuing on to the next section. "
   ]
  },
  {
   "cell_type": "markdown",
   "metadata": {},
   "source": [
    "# Example running python code in Jupyter Notebooks\n",
    "\n",
    "One of the most unique and defining features of Jupyter notebooks is the ability to run code inside of this notebook.  This ability makes Jupyter Notebooks especially useful in classes that teach or use programming concepts.  \n",
    "\n",
    "Jupyter notebooks are separated into different types of \"cells\".  The two major types of cells are; Markdown cells and code cells.  Markdown cells (such as this one) consist of formated text, images and equations much like your \n",
    "favorite word processor.  \n",
    "\n",
    "The following are two code cells written in the Python programming language.  This simple code is a tool to make it easy to search your jupyter notebooks which can be handy if you are looking for something from a previous class. The example searches for an exact string in your notebook files in the current directory and displays links to the files as output. \n",
    "\n",
    "To run the code, first select the code cell with your mouse and then hold down the \"Shift\" key while hitting the \"enter\" key.  You will have to hit the enter key twice to run both cells."
   ]
  },
  {
   "cell_type": "code",
   "execution_count": null,
   "metadata": {},
   "outputs": [],
   "source": [
    "#Search string\n",
    "search_string = \"Search String\"\n",
    "\n",
    "#Search current directory\n",
    "directory ='.'"
   ]
  },
  {
   "cell_type": "code",
   "execution_count": null,
   "metadata": {},
   "outputs": [],
   "source": [
    "import os  \n",
    "import os.path\n",
    "from IPython.core.display import display, HTML\n",
    "\n",
    "search_string = search_string.lower()\n",
    "links=[]\n",
    "\n",
    "files = os.listdir(directory)\n",
    "files.sort()\n",
    "for fn in files:\n",
    "    if 'ipynb' in fn:\n",
    "        if os.path.isfile(fn):\n",
    "            found = False\n",
    "            with open(fn,'r') as fp:\n",
    "                for line in fp:\n",
    "                    line = line.lower()\n",
    "                    if search_string in line:\n",
    "                        links.append(\"<a href=\"+fn+\" target=\\\"_blank\\\" >\"+fn+\"</a></br>\")\n",
    "                        break\n",
    "if links:\n",
    "    display(HTML(' '.join(links)))\n",
    "else:\n",
    "    print('string ('+search_string+') not found.')\n",
    "            "
   ]
  },
  {
   "cell_type": "markdown",
   "metadata": {},
   "source": [
    "# Video review of Python, IPython, and IPython notebooks\n",
    "\n",
    "Much of this course will be taught in a \"flipped\" style. This means we give you notebooks to review outside of class and we use in-class time to work on meaningful problems.  Many of our pre-class assignments notebooks use videos to help communicate ideas (in lieu of lecture time in class). \n",
    "\n",
    "The following two cells will embed the lectures in the notebooks. Run the cells using the \"Shift-Enter\" key combination described above.  Once the video appears just click on the \"Play\" triangle. \n",
    "\n",
    "These videos explain Python and Jupyter in more detail. \n",
    "\n",
    "* Direct link to \"**Python, iPython, Jupyter**\" video: https://youtu.be/L03BzGmLUUE\n",
    "* Alternative Link: https://mediaspace.msu.edu/media/t/0_wxpceyi6"
   ]
  },
  {
   "cell_type": "code",
   "execution_count": null,
   "metadata": {},
   "outputs": [],
   "source": [
    "# The command below this comment actually displays a specific YouTube video,  \n",
    "# with a given width and height.  You can watch the video in full-screen (much higher\n",
    "# resolution) mode by clicking the little box in the bottom-right corner of the video.\n",
    "from IPython.display import YouTubeVideo\n",
    "YouTubeVideo(\"L03BzGmLUUE\",width=640,height=360, cc_load_policy=True)"
   ]
  },
  {
   "cell_type": "markdown",
   "metadata": {},
   "source": [
    "* Direct link to \"**Working with Jupyter and ipynb files**\" video: https://youtu.be/5WSQnGmz3IA.  \n",
    "* Alternative Link: https://mediaspace.msu.edu/media/t/0_hkqjufix\n",
    "\n",
    "Note that the download URL in this video is a little out of date.  See the next video or google \"Anaconda Python Download\"\n"
   ]
  },
  {
   "cell_type": "code",
   "execution_count": null,
   "metadata": {},
   "outputs": [],
   "source": [
    "#Python code to display embeded video in jupyter notebook\n",
    "from IPython.display import YouTubeVideo\n",
    "YouTubeVideo(\"5WSQnGmz3IA\",width=640,height=360, cc_load_policy=True)"
   ]
  },
  {
   "cell_type": "markdown",
   "metadata": {},
   "source": [
    "\n",
    "# More Information\n",
    "\n",
    "There are lots of resources on the web for using Python and Jupyter notebooks.  The following are some recommended websites for getting more information.  If these sites do not work consider using your favorite search engine.\n",
    "\n",
    "- https://software-carpentry.org/lessons/\n",
    "- https://docs.python.org/3/tutorial/\n",
    "- http://pythontutor.com/\n"
   ]
  },
  {
   "cell_type": "markdown",
   "metadata": {},
   "source": [
    "Writen by Dirk Colbry, Michigan State University\n",
    "<a rel=\"license\" href=\"http://creativecommons.org/licenses/by-nc/4.0/\"><img alt=\"Creative Commons License\" style=\"border-width:0\" src=\"https://i.creativecommons.org/l/by-nc/4.0/88x31.png\" /></a><br />This work is licensed under a <a rel=\"license\" href=\"http://creativecommons.org/licenses/by-nc/4.0/\">Creative Commons Attribution-NonCommercial 4.0 International License</a>."
   ]
  }
 ],
 "metadata": {
  "anaconda-cloud": {},
  "kernelspec": {
   "display_name": "Python 3 (ipykernel)",
   "language": "python",
   "name": "python3"
  },
  "language_info": {
   "codemirror_mode": {
    "name": "ipython",
    "version": 3
   },
   "file_extension": ".py",
   "mimetype": "text/x-python",
   "name": "python",
   "nbconvert_exporter": "python",
   "pygments_lexer": "ipython3",
   "version": "3.8.3"
  }
 },
 "nbformat": 4,
 "nbformat_minor": 2
}
