{
 "cells": [
  {
   "cell_type": "markdown",
   "metadata": {},
   "source": [
    "[Link to this document's Jupyter Notebook](./0120-Pandemic_in-class-assignment.ipynb)"
   ]
  },
  {
   "cell_type": "markdown",
   "metadata": {},
   "source": [
    "In order to successfully complete this assignment you need to participate both individually and in groups during class.   If you attend class in-person then have one of the instructors check your notebook and sign you out before leaving class on **Wednesday January 20**. If you are attending asynchronously, turn in your assignment using D2L no later than **_11:59pm on Wednesday January 20_**. "
   ]
  },
  {
   "cell_type": "markdown",
   "metadata": {},
   "source": [
    "---\n",
    "\n"
   ]
  },
  {
   "cell_type": "markdown",
   "metadata": {},
   "source": [
    "# In-Class Assignment: Pandemic Example\n",
    "\n",
    "<img alt=\"image of a person wearing a mask during a pandemic. This image is here to motivate the pandemic example we will cover in class.\" src=\"https://images.squarespace-cdn.com/content/v1/584db7f9725e2509ff62d13f/1605052950627-UF7EUX7F41IMC7S51VCP/ke17ZwdGBToddI8pDm48kLNBnxw6dW5AAzM-sWYM7oAUqsxRUqqbr1mOJYKfIPR7LoDQ9mXPOjoJoqy81S2I8N_N4V1vUb5AoIIIbLZhVYxCRW4BPu10St3TBAUQYVKc2tnEKUS9exKpIGv5IxM1TRKHvWxW34jxJ2ktPcfbUxTYw8IybQRqhTbIcv7dJxX2/1131-mask.jpg?format=600w\">\n",
    "\n",
    "\n",
    "Image from: [Researchers Delay Cronoavirus Vaccine](https://plex.page/Researchers_Delay_Coronavirus_Vaccine)"
   ]
  },
  {
   "cell_type": "markdown",
   "metadata": {},
   "source": [
    "### Agenda for today's class (70 minutes)\n",
    "\n",
    "1. (20 minutes) [Welcome to CMSE401!](#Welcome-to-CMSE401!)\n",
    "2. (10 minutes) [Homework 1](#Homework-1)\n",
    "3. (20 minutes) [Project Planning](#Project-Planning)\n",
    "4. (20 minutes) [Pandemic Software on HPCC](#Pandemic-Software-on-HPCC)\n",
    "\n"
   ]
  },
  {
   "cell_type": "markdown",
   "metadata": {},
   "source": [
    "\n",
    "\n",
    "---\n",
    "<a name=Welcome-to-CMSE401!></a>\n",
    "# 1. Welcome to CMSE401!\n",
    "\n",
    "\n",
    "\n",
    "How did the preperation week go?  Where did you get stuck?  What questions do you have?\n",
    "\n",
    "[0119--Clusters_pre-class-assignment](0119--Clusters_pre-class-assignment.ipynb)"
   ]
  },
  {
   "cell_type": "markdown",
   "metadata": {},
   "source": [
    "\n",
    "\n",
    "---\n",
    "<a name=Homework-1></a>\n",
    "# 2. Homework 1\n",
    "\n",
    "* [0128-HW1_Wave_Equation](0128-HW1_Wave_Equation.ipynb)"
   ]
  },
  {
   "cell_type": "markdown",
   "metadata": {},
   "source": [
    "\n",
    "\n",
    "---\n",
    "<a name=Project-Planning></a>\n",
    "# 3. Project Planning\n",
    "\n",
    "\n",
    "\n",
    "\n",
    "\n",
    "- [0211-PROJECT-Proposal](0211-PROJECT_Proposal.ipynb)"
   ]
  },
  {
   "cell_type": "markdown",
   "metadata": {},
   "source": [
    "\n",
    "---\n",
    "<a name=Pandemic-Software-on-HPCC></a>\n",
    "# 4. Pandemic Software on HPCC\n",
    "\n",
    "Now we are all going to log onto the HPCC and run a Pandemic simulator.  This is intended to be an overview for the class. \n",
    "\n",
    "- Please ask questions and try to follow along.  \n",
    "- It is okay if we don't get to everything in class.  \n",
    "- We will be covering these commands all semester so it is also okay if you don't fully understand what is going on. \n",
    "\n",
    "### Step 1: Start an OpenOnDemand interactive desktop session.  \n",
    "\n",
    "1. Go to [http://OnDemand.hpcc.msu.edu](http://OnDemand.hpcc.msu.edu), select \"Interactive Apps-->Interactive Desktop\".  Set the number of hours to 1 and the number of cores to 1 and the memory to 1GB.  Under advanced options set the node type to \"Any\".  Leave everything else blank and hit \"Launch\".   \n",
    "\n",
    "\n",
    "2. Select \"Interactive Apps-->Interactive Desktop\" again.  This time set the number of hours to 1 and the number of cores to 4 and the memory to 1GB.  Under advanced options set the node type to \"Any\".  Leave everything else blank and hit \"Launch\".   \n",
    "\n",
    "3. Wait for your sessions to start. \n",
    "\n",
    "**_NOTE_** As is the case anytime we use the HPCC,  there is no guarantee that these sessions will start during class.  This is a shared system and we need to be flexible.  You can also do the rest of this assignment on a development node. "
   ]
  },
  {
   "cell_type": "markdown",
   "metadata": {},
   "source": [
    "### Step 2: Open a Terminal app\n",
    "\n",
    "Once you have a desktop up and running, open a terminal app from the main menu.  Try navigating to \"Applications-->System Tools-->Terminal\".  Explore this menu a bit to get familiar with some of the programs available inside the interactive desktop. "
   ]
  },
  {
   "cell_type": "markdown",
   "metadata": {},
   "source": [
    "### Step 3: Navigate to the Pandemic Directory inside the BCCD-Example directory\n",
    "\n",
    "There is a BCCD-Example directory inside your course git repository (You should have cloned the course git repository in the pre-class)\n",
    "\n",
    "Let us Navigate to that folder using the following commands:\n",
    "\n",
    "| Command | Description|\n",
    "|---------|------------|\n",
    "| cd | Change Directory |\n",
    "| ls |  list directory | \n",
    "| pwd :| print working directory | \n",
    "| . | Shortcut to indicate current directory | \n",
    "| .. |  Shortcut to indicate parent directory | \n",
    "| ~ |  Shortcut to indicate home directory | \n"
   ]
  },
  {
   "cell_type": "markdown",
   "metadata": {},
   "source": [
    "These commands may be slightly different on your computer but here are common commands:\n",
    "\n",
    "```\n",
    "cd CMSE401-S21\n",
    "ls\n",
    "cd BCCD-Examples\n",
    "ls\n",
    "cd Pandemic \n",
    "ls\n",
    "pwd\n",
    "```"
   ]
  },
  {
   "cell_type": "markdown",
   "metadata": {},
   "source": [
    "### Step 4: Compile the Pandemic example code\n",
    "\n",
    "Type the following command on the terminal. THis switches from the GNU compilers to the INTEL compilers.  Some of the examples we are using in class today use the INTEL compilers. \n",
    "\n",
    "```module swap GNU INTEL```\n",
    "\n",
    "This example uses a ```Makefile``` to help the user know what commands are needed to compile.  You an view the ```Makefile``` by using the ```cat``` (catalog) command:\n",
    "\n",
    "```cat Makefile```\n",
    "\n",
    "We run the commands inside the ```Makefile``` using the ```make``` program. All you need to do is type ```make``` and the program will read the ```Makefile``` in the current directory and run it for you.\n",
    "\n",
    "```make```\n",
    "\n",
    "You should see some compiler commands on your screen.  This means it is working.  Check for errors and debug them."
   ]
  },
  {
   "cell_type": "markdown",
   "metadata": {},
   "source": [
    "### Step 5: Run the Pandemic example code\n",
    "\n",
    "Assuming everything is working, the build command made a few examples.  Lets run the examples from the command line:\n",
    "\n",
    "```./Pandemic.serial```\n",
    "\n",
    "This should run the Pandemic code inside your virtual desktop window.  "
   ]
  },
  {
   "cell_type": "markdown",
   "metadata": {},
   "source": [
    "\n",
    "\n",
    "-----\n",
    "### Congratulations, we're done!\n",
    "\n",
    "If you attend class in-person then have one of the instructors check your notebook and sign you out before leaving class. If you are attending asynchronously, turn in your assignment using D2L."
   ]
  },
  {
   "cell_type": "markdown",
   "metadata": {},
   "source": [
    "### Course Resources:\n",
    "\n",
    "\n",
    " - [Website](https://msu-cmse-courses.github.io/cmse802-f20-student/)\n",
    " - [ZOOM](https://msu.zoom.us/j/98207034052)\n",
    " - [JargonJar](https://docs.google.com/document/d/1ahg48CCFhRzUL-QIHzlt_KEf1XqsCasFBU4iePHhcug/edit#)\n",
    " - [GIT](https://gitlab.msu.edu/colbrydi/cmse401-s21.git)\n",
    "\n"
   ]
  },
  {
   "cell_type": "markdown",
   "metadata": {},
   "source": [
    "Written by Dr. Dirk Colbry, Michigan State University\n",
    "<a rel=\"license\" href=\"http://creativecommons.org/licenses/by-nc/4.0/\"><img alt=\"Creative Commons License\" style=\"border-width:0\" src=\"https://i.creativecommons.org/l/by-nc/4.0/88x31.png\" /></a><br />This work is licensed under a <a rel=\"license\" href=\"http://creativecommons.org/licenses/by-nc/4.0/\">Creative Commons Attribution-NonCommercial 4.0 International License</a>."
   ]
  },
  {
   "cell_type": "markdown",
   "metadata": {},
   "source": [
    "----"
   ]
  }
 ],
 "metadata": {
  "kernelspec": {
   "display_name": "Python 3",
   "language": "python",
   "name": "python3"
  },
  "language_info": {
   "codemirror_mode": {
    "name": "ipython",
    "version": 3
   },
   "file_extension": ".py",
   "mimetype": "text/x-python",
   "name": "python",
   "nbconvert_exporter": "python",
   "pygments_lexer": "ipython3",
   "version": "3.7.3"
  }
 },
 "nbformat": 4,
 "nbformat_minor": 2
}
