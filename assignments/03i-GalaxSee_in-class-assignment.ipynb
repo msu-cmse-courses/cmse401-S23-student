{
 "cells": [
  {
   "cell_type": "markdown",
   "metadata": {},
   "source": [
    "[Link to this document's Jupyter Notebook](./0122-GalaxSee_in-class-assignment.ipynb)"
   ]
  },
  {
   "cell_type": "markdown",
   "metadata": {},
   "source": [
    "In order to successfully complete this assignment you need to participate both individually and in groups during class.   If you attend class in-person then have one of the instructors check your notebook and sign you out before leaving class on **Friday January 22**. If you are attending asynchronously, turn in your assignment using D2L no later than **_11:59pm on Friday January 22**. "
   ]
  },
  {
   "cell_type": "markdown",
   "metadata": {},
   "source": [
    "---\n",
    "\n"
   ]
  },
  {
   "cell_type": "markdown",
   "metadata": {},
   "source": [
    "# In-Class Assignment: Galaxy Example\n",
    "\n",
    "<img alt=\"Astronomical picture of a galaxy\" src=\"https://3c1703fe8d.site.internapcdn.net/newman/csz/news/800/2018/5b86704d620d1.jpg\" width=\"50%\">\n",
    "\n",
    "Image from: https://phys.org/news/2018-08-astronomers-reveal-monster-star-forming-galaxies.html\n"
   ]
  },
  {
   "cell_type": "markdown",
   "metadata": {},
   "source": [
    "### Agenda for today's class (70 minutes)\n",
    "\n",
    "\n",
    "1. [Pre class assignment review](#Pre-class-assignment-review)\n",
    "2. [Running GalaxSee on HPCC](#Running-GalaxSee-on-HPCC)\n",
    "\n"
   ]
  },
  {
   "cell_type": "markdown",
   "metadata": {},
   "source": [
    "---\n",
    "<a name=Pre-class-assignment-review></a>\n",
    "# 1. Pre class assignment review\n",
    "\n",
    "\n",
    "\n",
    "\n",
    "\n",
    "\n",
    "[0121--Command_Line_pre-class-assignment](0121--Command_Line_pre-class-assignment.ipynb)\n"
   ]
  },
  {
   "cell_type": "markdown",
   "metadata": {},
   "source": [
    "\n",
    "---\n",
    "<a name=Running-GalaxSee-on-HPCC></a>\n",
    "# 2. Running GalaxSee on HPCC\n",
    "\n",
    "Today we will practice what we have learned on Friday.  As a reminder, here are the commands we used: \n",
    "\n",
    "### Step 1: Start an OpenOnDemand interactive desktop session.  \n",
    "\n",
    "1. Go to [http://OnDemand.hpcc.msu.edu](http://OnDemand.hpcc.msu.edu), select \"Interactive Apps-->Interactive Desktop\".  Set the number of hours to 1 and the number of cores to 1 and the memory to 1GB.  Under advanced options set the node type to \"Any\".  Leave everything else blank and hit \"Launch\".   \n",
    "\n",
    "\n",
    "2. Select \"Interactive Apps-->Interactive Desktop\" again.  This time set the number of hours to 1 and the number of cores to 4 and the memory to 1GB.  Under advanced options set the node type to \"Any\".  Leave everything else blank and hit \"Launch\".   \n",
    "\n",
    "3. Wait for your sessions to start. \n",
    "\n",
    "**_NOTE_** As is the case anytime we use the HPCC,  there is no guarantee that these sessions will start during class.  This is a shared system and we need to be flexible.  You can also do the rest of this assignment on a development node. "
   ]
  },
  {
   "cell_type": "markdown",
   "metadata": {},
   "source": [
    "### Step 2: Open a Terminal app\n",
    "\n",
    "Once you have a desktop up and running, open a terminal app from the main menu.  Try navigating to \"Applications-->System Tools-->Terminal\".  Explore this menu a bit to get familiar with some of the programs available inside the interactive desktop. "
   ]
  },
  {
   "cell_type": "markdown",
   "metadata": {},
   "source": [
    "### Step 3: Navigate to the GalaxSee Directory inside the BCCD-Example directory\n",
    "\n",
    "There is a BCCD-Example directory inside your course git repository (You should have cloned the course git repository in the pre-class)\n",
    "\n",
    "Let us Navigate to that folder using the following commands:\n",
    "\n",
    "| Command | Description|\n",
    "|---------|------------|\n",
    "| cd | Change Directory |\n",
    "| ls |  list directory | \n",
    "| pwd :| print working directory | \n",
    "| . | Shortcut to indicate current directory | \n",
    "| .. |  Shortcut to indicate parent directory | \n",
    "| ~ |  Shortcut to indicate home directory | \n"
   ]
  },
  {
   "cell_type": "markdown",
   "metadata": {},
   "source": [
    "These commands may be slightly different on your computer but here are common commands:\n",
    "\n",
    "```\n",
    "cd CMSE401-S21\n",
    "ls\n",
    "cd BCCD-Examples\n",
    "ls\n",
    "cd GalaxSee \n",
    "ls\n",
    "pwd\n",
    "```"
   ]
  },
  {
   "cell_type": "markdown",
   "metadata": {},
   "source": [
    "### Step 4: Compile the Galaxsee example code\n",
    "\n",
    "Type the following command on the terminal. THis switches from the GNU compilers to the INTEL compilers.  Some of the examples we are using in class today use the INTEL compilers. \n",
    "\n",
    "```module swap GNU INTEL```\n",
    "\n",
    "This example uses a ```Makefile``` to help the user know what commands are needed to compile.  You an view the ```Makefile``` by using the ```cat``` (catalog) command:\n",
    "\n",
    "```cat Makefile```\n",
    "\n",
    "We run the commands inside the ```Makefile``` using the ```make``` program. All you need to do is type ```make``` and the program will read the ```Makefile``` in the current directory and run it for you.\n",
    "\n",
    "```make```\n",
    "\n",
    "You should see some compiler commands on your screen.  This means it is working.  Check for errors and debug them."
   ]
  },
  {
   "cell_type": "markdown",
   "metadata": {},
   "source": [
    "### Step 5: Run the Galaxsee example code\n",
    "\n",
    "Assuming everything is working, the build command made a few examples.  Lets run the examples from the command line:\n",
    "\n",
    "```./galaxsee```\n",
    "\n",
    "This should run the Pandemic code inside your virtual desktop window.  "
   ]
  },
  {
   "cell_type": "markdown",
   "metadata": {},
   "source": [
    "\n",
    "\n",
    "-----\n",
    "### Congratulations, we're done!\n",
    "\n",
    "If you attend class in-person then have one of the instructors check your notebook and sign you out before leaving class. If you are attending asynchronously, turn in your assignment using D2L."
   ]
  },
  {
   "cell_type": "markdown",
   "metadata": {},
   "source": [
    "### Course Resources:\n",
    "\n",
    "\n",
    " - [Website](https://msu-cmse-courses.github.io/cmse802-f20-student/)\n",
    " - [ZOOM](https://msu.zoom.us/j/98207034052)\n",
    " - [JargonJar](https://docs.google.com/document/d/1ahg48CCFhRzUL-QIHzlt_KEf1XqsCasFBU4iePHhcug/edit#)\n",
    " - [GIT](https://gitlab.msu.edu/colbrydi/cmse401-s21.git)\n",
    "\n"
   ]
  },
  {
   "cell_type": "markdown",
   "metadata": {},
   "source": [
    "Written by Dr. Dirk Colbry, Michigan State University\n",
    "<a rel=\"license\" href=\"http://creativecommons.org/licenses/by-nc/4.0/\"><img alt=\"Creative Commons License\" style=\"border-width:0\" src=\"https://i.creativecommons.org/l/by-nc/4.0/88x31.png\" /></a><br />This work is licensed under a <a rel=\"license\" href=\"http://creativecommons.org/licenses/by-nc/4.0/\">Creative Commons Attribution-NonCommercial 4.0 International License</a>."
   ]
  },
  {
   "cell_type": "markdown",
   "metadata": {},
   "source": [
    "----"
   ]
  }
 ],
 "metadata": {
  "kernelspec": {
   "display_name": "Python 3",
   "language": "python",
   "name": "python3"
  },
  "language_info": {
   "codemirror_mode": {
    "name": "ipython",
    "version": 3
   },
   "file_extension": ".py",
   "mimetype": "text/x-python",
   "name": "python",
   "nbconvert_exporter": "python",
   "pygments_lexer": "ipython3",
   "version": "3.7.3"
  }
 },
 "nbformat": 4,
 "nbformat_minor": 2
}
