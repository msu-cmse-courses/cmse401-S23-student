{
 "cells": [
  {
   "cell_type": "markdown",
   "metadata": {},
   "source": [
    "[Link to this document's Jupyter Notebook](./0201-Schedulers_in-class-assignment.ipynb)"
   ]
  },
  {
   "cell_type": "markdown",
   "metadata": {},
   "source": [
    "In order to successfully complete this assignment you need to participate both individually and in groups during class.   If you attend class in-person then have one of the instructors check your notebook and sign you out before leaving class on **Monday February 1**. If you are attending asynchronously, turn in your assignment using D2L no later than **_11:59pm on Monday February 1**. "
   ]
  },
  {
   "cell_type": "markdown",
   "metadata": {},
   "source": [
    "---\n",
    "\n"
   ]
  },
  {
   "cell_type": "markdown",
   "metadata": {},
   "source": [
    "# In-Class Assignment: Schedulers\n",
    "\n",
    "<img alt=\"Image for Slurm Cola from the futurama cartoon.  Only put here because the name is the same and the instructor likes the cartoon\" src=\"http://cdn.collider.com/wp-content/uploads/2016/02/futurama-slurm-poster.jpg\" width=\"80%\">\n",
    "\n",
    "Image from: [Futurama](https://www.imdb.com/title/tt0149460/)"
   ]
  },
  {
   "cell_type": "markdown",
   "metadata": {},
   "source": [
    "### Agenda for today's class (70 minutes)\n",
    "\n",
    "1. (20 minutes) [Pre class review](#Pre-class-review)\n",
    "2. (10 minutes) [Minimizing the \"Mean Time to Science\"](#Minimizing-the-Mean-Time-to-Science)\n",
    "3. (20 minutes) [Pandemic (OpenMP) and Galaxsee (MPI) Using the Scheduler](#Pandemic-and-Galaxsee--Using-the-Scheduler)\n",
    "4. (20 minutes) [Explore](#Explore)\n",
    "\n"
   ]
  },
  {
   "cell_type": "markdown",
   "metadata": {},
   "source": [
    "\n",
    "\n",
    "---\n",
    "<a name=Pre-class-review></a>\n",
    "# 1. Pre class review\n",
    "\n",
    "\n",
    "\n",
    "- [0131--Schedulers_pre-class-assignment](0131--Schedulers_pre-class-assignment.ipynb)"
   ]
  },
  {
   "cell_type": "markdown",
   "metadata": {},
   "source": [
    "\n",
    "\n",
    "---\n",
    "<a name=\"Minimizing-the-Mean-Time-to-Science\"></a>\n",
    "\n",
    "# 2. Minimizing the \"Mean Time to Science\"\n",
    "\n",
    "\n",
    "\n",
    "**_DISCUSSION QUESTION_**: When thinking about science that use computation.  What factors influence the speed of science?  "
   ]
  },
  {
   "cell_type": "markdown",
   "metadata": {},
   "source": [
    "\n",
    "---\n",
    "<a name=\"Pandemic-and-Galaxsee--Using-the-Scheduler\"></a>\n",
    "# 3. Pandemic (OpenMP) and Galaxsee (MPI) Using the Scheduler\n",
    "\n",
    "\n",
    "\n",
    "Write a SLURM Submission script to run the Pandemic and Galaxsee examples on multiple cores.  Make sure the exmaple provides timing information. \n",
    "\n",
    "Share the results in the zoom chat window.\n"
   ]
  },
  {
   "cell_type": "markdown",
   "metadata": {},
   "source": [
    "Use this space to record your submission script for Pandemic"
   ]
  },
  {
   "cell_type": "markdown",
   "metadata": {},
   "source": [
    "Use this space to record your submission script for Galaxsee"
   ]
  },
  {
   "cell_type": "markdown",
   "metadata": {},
   "source": [
    "\n",
    "---\n",
    "<a name=Explore></a>\n",
    "# 4. Explore\n",
    "\n",
    "\n",
    "In the time remaining, investigate the examples in the BCCD folder. See if you can create a submission script that will run the example in parallel using the SLURM Scheduler. \n",
    "\n",
    "     Area-under-curve\n",
    "     CUDA\n",
    "     GalaxSee\n",
    "     GalaxSee-v2\n",
    "     Hello-world\n",
    "     Life\n",
    "     Pandemic\n",
    "     Parameter-space\n",
    "     Sieve\n",
    "     StatKit/petakit\n",
    "     Tree-sort\n",
    "\n",
    "Mail the instructor any scripts you get working.  "
   ]
  },
  {
   "cell_type": "markdown",
   "metadata": {},
   "source": [
    "\n",
    "\n",
    "-----\n",
    "### Congratulations, we're done!\n",
    "\n",
    "If you attend class in-person then have one of the instructors check your notebook and sign you out before leaving class. If you are attending asynchronously, turn in your assignment using D2L."
   ]
  },
  {
   "cell_type": "markdown",
   "metadata": {},
   "source": [
    "### Course Resources:\n",
    "\n",
    "\n",
    " - [Website](https://msu-cmse-courses.github.io/cmse802-f20-student/)\n",
    " - [ZOOM](https://msu.zoom.us/j/98207034052)\n",
    " - [JargonJar](https://docs.google.com/document/d/1ahg48CCFhRzUL-QIHzlt_KEf1XqsCasFBU4iePHhcug/edit#)\n",
    " - [GIT](https://gitlab.msu.edu/colbrydi/cmse401-s21.git)\n",
    "\n"
   ]
  },
  {
   "cell_type": "markdown",
   "metadata": {},
   "source": [
    "Written by Dr. Dirk Colbry, Michigan State University\n",
    "<a rel=\"license\" href=\"http://creativecommons.org/licenses/by-nc/4.0/\"><img alt=\"Creative Commons License\" style=\"border-width:0\" src=\"https://i.creativecommons.org/l/by-nc/4.0/88x31.png\" /></a><br />This work is licensed under a <a rel=\"license\" href=\"http://creativecommons.org/licenses/by-nc/4.0/\">Creative Commons Attribution-NonCommercial 4.0 International License</a>."
   ]
  },
  {
   "cell_type": "markdown",
   "metadata": {},
   "source": [
    "----"
   ]
  }
 ],
 "metadata": {
  "kernelspec": {
   "display_name": "Python 3",
   "language": "python",
   "name": "python3"
  },
  "language_info": {
   "codemirror_mode": {
    "name": "ipython",
    "version": 3
   },
   "file_extension": ".py",
   "mimetype": "text/x-python",
   "name": "python",
   "nbconvert_exporter": "python",
   "pygments_lexer": "ipython3",
   "version": "3.7.3"
  }
 },
 "nbformat": 4,
 "nbformat_minor": 2
}
