{
 "cells": [
  {
   "cell_type": "markdown",
   "metadata": {},
   "source": [
    "[Link to this document's Jupyter Notebook](./13i-OMP_Sync_in-class-assignment.ipynb)"
   ]
  },
  {
   "cell_type": "markdown",
   "metadata": {},
   "source": [
    "In order to successfully complete this assignment you need to participate both individually and in groups during class. If you attend class in-person then have one of the instructors check your notebook and sign you out before leaving class on **Wednesday February 8**."
   ]
  },
  {
   "cell_type": "markdown",
   "metadata": {},
   "source": [
    "---\n",
    "\n"
   ]
  },
  {
   "cell_type": "markdown",
   "metadata": {},
   "source": [
    "# In-Class Assignment: OpenMP Critical Sections and Basic Loops"
   ]
  },
  {
   "cell_type": "markdown",
   "metadata": {},
   "source": [
    "### Agenda for today's class (70 minutes)\n",
    "\n",
    "\n",
    "1. (20 minutes) [Pre class review](#Pre-class-review)\n",
    "2. (20 minutes) [Scheduling Shared memory jobs](#Scheduling_Shared_memory_jobs)\n",
    "3. (30 minutes) [Review openMP so far](#Review)\n"
   ]
  },
  {
   "cell_type": "markdown",
   "metadata": {},
   "source": [
    "---\n",
    "<a name=Pre-class-review></a>\n",
    "# 1. Pre class review\n",
    "\n",
    "\n",
    "\n",
    "- [13p--OMP_sync_pre-class-assignment](13p--OMP_sync_pre-class-assignment.ipynb)\n"
   ]
  },
  {
   "cell_type": "markdown",
   "metadata": {},
   "source": [
    "\n",
    "\n",
    "---\n",
    "<a name=\"Scheduling_Shared_memory_jobs\"></a>\n",
    "\n",
    "# 2. Scheduling Shared memory jobs\n",
    "\n",
    "Today we are going to submit OpenMP jobs to the cluster and verify they run properly by inspecting their output. To start lets use the classic OMP hello world program:\n",
    "\n",
    "\n",
    "```c++\n",
    "#include \"omp.h\"\n",
    "#include \"stdio.h\"\n",
    "int main()\n",
    "{\n",
    "    #pragma omp parallel\n",
    "    {\n",
    "        int ID = omp_get_thread_num();\n",
    "        printf(\"hello(%d)\",ID);\n",
    "        printf(\" world(%d) \\n\",ID);\n",
    "    }\n",
    "}\n",
    "```\n",
    "\n",
    "&#9989; **<font color=red>DO THIS:</font>** Compile and test the above program on the command line.  make a submission script and run the program with 7 cores on the HPCC. \n"
   ]
  },
  {
   "cell_type": "markdown",
   "metadata": {},
   "source": [
    "**_HINT_**: Try adding the ```srun``` command before your parallel commands.  This command does some checks to make sure everything is running properly.  Although not required for OpenMP (based on my tests), it definatly comes in handy with GPU and MPI jobs."
   ]
  },
  {
   "cell_type": "markdown",
   "metadata": {},
   "source": [
    "\n",
    "\n",
    "-----\n",
    "### Congratulations, we're done!\n",
    "\n",
    "If you attend class in-person then have one of the instructors check your notebook and sign you out before leaving class. If you are attending asynchronously, turn in your assignment using D2L."
   ]
  },
  {
   "cell_type": "markdown",
   "metadata": {},
   "source": [
    "### Course Resources:\n",
    "\n",
    "\n",
    " - [Website](https://msu-cmse-courses.github.io/cmse401-S23-student/)\n",
    " - [ZOOM](https://msu.zoom.us/j/)\n",
    " - [JargonJar](https://docs.google.com/document/d/1-oIiXzrs9pPspGWUzcSZzVgzqs0emTjegsomX4R5bYo/edit?usp=sharing)\n",
    " - [GIT](https://gitlab.msu.edu/appeloda/cmse401-s23.git)\n",
    "\n"
   ]
  },
  {
   "cell_type": "markdown",
   "metadata": {},
   "source": [
    "Written by Dr. Dirk Colbry, Michigan State University\n",
    "<a rel=\"license\" href=\"http://creativecommons.org/licenses/by-nc/4.0/\"><img alt=\"Creative Commons License\" style=\"border-width:0\" src=\"https://i.creativecommons.org/l/by-nc/4.0/88x31.png\" /></a><br />This work is licensed under a <a rel=\"license\" href=\"http://creativecommons.org/licenses/by-nc/4.0/\">Creative Commons Attribution-NonCommercial 4.0 International License</a>."
   ]
  },
  {
   "cell_type": "markdown",
   "metadata": {},
   "source": [
    "----"
   ]
  }
 ],
 "metadata": {
  "kernelspec": {
   "display_name": "Python 3 (ipykernel)",
   "language": "python",
   "name": "python3"
  },
  "language_info": {
   "codemirror_mode": {
    "name": "ipython",
    "version": 3
   },
   "file_extension": ".py",
   "mimetype": "text/x-python",
   "name": "python",
   "nbconvert_exporter": "python",
   "pygments_lexer": "ipython3",
   "version": "3.8.3"
  }
 },
 "nbformat": 4,
 "nbformat_minor": 2
}
