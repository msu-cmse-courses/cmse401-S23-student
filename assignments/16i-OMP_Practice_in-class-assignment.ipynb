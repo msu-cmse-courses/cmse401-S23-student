{
 "cells": [
  {
   "cell_type": "markdown",
   "metadata": {},
   "source": [
    "[Link to this document's Jupyter Notebook](./16i-OMP_Practice_in-class-assignment.ipynb)"
   ]
  },
  {
   "cell_type": "markdown",
   "metadata": {},
   "source": [
    "In order to successfully complete this assignment you need to participate both individually and in groups during class.   If you attend class in-person then have one of the instructors check your notebook and sign you out before leaving class on **Wednesday February 15**."
   ]
  },
  {
   "cell_type": "markdown",
   "metadata": {},
   "source": [
    "---\n",
    "\n"
   ]
  },
  {
   "cell_type": "markdown",
   "metadata": {},
   "source": [
    "# In-Class Assignment: Practice using Wave Equation example\n",
    "\n",
    "<img src=\"https://upload.wikimedia.org/wikipedia/commons/b/bb/2D_Wave_Function_resize.gif\" alt=\"animated graph of a wave moving in 3d\" >\n",
    "\n",
    "Image from: https://commons.wikimedia.org/wiki/File:2D_Wave_Function_resize.gif\n"
   ]
  },
  {
   "cell_type": "markdown",
   "metadata": {},
   "source": [
    "### Agenda for today's class (70 minutes)\n",
    "\n",
    "1. (20 minutes) [Pre class Review](#Pre-class-Review)\n",
    "1. (50 minutes) [2D Wave Equation](#2D_Wave_Equation)\n",
    "\n",
    "\n"
   ]
  },
  {
   "cell_type": "markdown",
   "metadata": {},
   "source": [
    "\n",
    "---\n",
    "<a name=Pre-class-Review></a>\n",
    "# 1. Pre class Review\n",
    "\n",
    "\n",
    "\n",
    "[16p--OMP_Data_pre-class-assignment](16p--OMP_Data_pre-class-assignment.ipynb)\n"
   ]
  },
  {
   "cell_type": "markdown",
   "metadata": {},
   "source": [
    "\n",
    "\n",
    "\n",
    "---\n",
    "<a name=2D_Wave_Equation></a>\n",
    "# 2. 2D Wave Equation\n",
    "\n",
    "Consider the example program in the main.cpp file in the `cmse401-s23/wave_project` directory. See if you can get the serial version running. Benchmark it and then get it working faster using OpenMP.\n",
    "\n",
    "Make sure you generate some nice movies by changing the initial data."
   ]
  },
  {
   "cell_type": "markdown",
   "metadata": {},
   "source": [
    "\n",
    "\n",
    "-----\n",
    "### Congratulations, we're done!\n",
    "\n",
    "If you attend class in-person then have one of the instructors check your notebook and sign you out before leaving class. If you are attending asynchronously, turn in your assignment using D2L."
   ]
  },
  {
   "cell_type": "markdown",
   "metadata": {},
   "source": [
    "### Course Resources:\n",
    "\n",
    "\n",
    " - [Website](https://msu-cmse-courses.github.io/cmse401-S23-student/)\n",
    " - [ZOOM](https://msu.zoom.us/j/)\n",
    " - [JargonJar](https://docs.google.com/document/d/1-oIiXzrs9pPspGWUzcSZzVgzqs0emTjegsomX4R5bYo/edit?usp=sharing)\n",
    " - [GIT](https://gitlab.msu.edu/appeloda/cmse401-s23.git)\n",
    "\n"
   ]
  },
  {
   "cell_type": "markdown",
   "metadata": {},
   "source": [
    "Written by Dr. Dirk Colbry, Michigan State University\n",
    "<a rel=\"license\" href=\"http://creativecommons.org/licenses/by-nc/4.0/\"><img alt=\"Creative Commons License\" style=\"border-width:0\" src=\"https://i.creativecommons.org/l/by-nc/4.0/88x31.png\" /></a><br />This work is licensed under a <a rel=\"license\" href=\"http://creativecommons.org/licenses/by-nc/4.0/\">Creative Commons Attribution-NonCommercial 4.0 International License</a>."
   ]
  },
  {
   "cell_type": "markdown",
   "metadata": {},
   "source": [
    "----"
   ]
  }
 ],
 "metadata": {
  "kernelspec": {
   "display_name": "Python 3 (ipykernel)",
   "language": "python",
   "name": "python3"
  },
  "language_info": {
   "codemirror_mode": {
    "name": "ipython",
    "version": 3
   },
   "file_extension": ".py",
   "mimetype": "text/x-python",
   "name": "python",
   "nbconvert_exporter": "python",
   "pygments_lexer": "ipython3",
   "version": "3.8.3"
  }
 },
 "nbformat": 4,
 "nbformat_minor": 2
}
