{
 "cells": [
  {
   "cell_type": "markdown",
   "metadata": {},
   "source": [
    "[Link to this document's Jupyter Notebook](./0224-OMP_Practice_in-class-assignment.ipynb)"
   ]
  },
  {
   "cell_type": "markdown",
   "metadata": {},
   "source": [
    "In order to successfully complete this assignment you need to participate both individually and in groups during class.   If you attend class in-person then have one of the instructors check your notebook and sign you out before leaving class on **Wednesday February 24**. If you are attending asynchronously, turn in your assignment using D2L no later than **_11:59pm on Wednesday February 24_**. "
   ]
  },
  {
   "cell_type": "markdown",
   "metadata": {},
   "source": [
    "---\n",
    "\n"
   ]
  },
  {
   "cell_type": "markdown",
   "metadata": {},
   "source": [
    "# In-Class Assignment: Practice using Wave Equation example\n",
    "\n",
    "<img src=\"https://upload.wikimedia.org/wikipedia/commons/b/bb/2D_Wave_Function_resize.gif\" alt=\"animated graph of a wave moving in 3d\" >\n",
    "\n",
    "Image from: https://commons.wikimedia.org/wiki/File:2D_Wave_Function_resize.gif\n"
   ]
  },
  {
   "cell_type": "markdown",
   "metadata": {},
   "source": [
    "### Agenda for today's class (70 minutes)\n",
    "\n",
    "1. (20 minutes) [Pre class Review](#Pre-class-Review)\n",
    "2. (20 minutes) [Practice using OpenMP loop Wave Equation](#-Practice-using-OpenMP-loop-Wave-Equation)\n",
    "3. (30 minutes) [2D Wave Equation](#2D_Wave_Equation)\n",
    "\n",
    "\n"
   ]
  },
  {
   "cell_type": "markdown",
   "metadata": {},
   "source": [
    "\n",
    "---\n",
    "<a name=Pre-class-Review></a>\n",
    "# 1. Pre class Review\n",
    "\n",
    "\n",
    "\n",
    "[0223--OMP_Data_pre-class-assignment](0223--OMP_Data_pre-class-assignment.ipynb)\n"
   ]
  },
  {
   "cell_type": "markdown",
   "metadata": {},
   "source": [
    "\n",
    "---\n",
    "<a name=-Practice-using-OpenMP-loop-Wave-Equation></a>\n",
    "# 2.  Practice using OpenMP 1D Wave Equation\n",
    "\n",
    "\n",
    "\n",
    "\n",
    "The rest of class we will try to help each other out so that everyone gets a parallel OpenMP version of the Pi-code working.  We will use breakout rooms for smaller groups so you can help each other out. Lets see how far we get doing the following:\n",
    "\n",
    "- If you are stuck or confused, raise your hand and ask for help.\n",
    "- If you get stuck review code in the Google document. \n",
    "- Help your neighbors\n",
    "- If you have your basic code working, share it on the Google document.\n",
    "- Once you have a parallel code working, do a scaling study and very the number of cores.  Plot the results and share your plot on the Google document. \n",
    "- Conduct the scaling study on different development nodes and generate different plots. Share them on the Google document. \n",
    "- Write a submission script and run the scaling study using the SLURM scheduler.  \n",
    "- Share all of your solutions with each other using the following Google Document.\n",
    "- Review the Google Document and learn from each other's solutions.\n",
    "\n",
    "[Group Google Document](https://docs.google.com/document/d/1ySdREPlhHzk71BNMl_Y1dBRD-ZXeJZ4aWesfnrczuvs/edit?usp=sharing)"
   ]
  },
  {
   "cell_type": "markdown",
   "metadata": {},
   "source": [
    "\n",
    "\n",
    "\n",
    "---\n",
    "<a name=2D_Wave_Equation></a>\n",
    "# 3. 2D Wave Equation\n",
    "\n",
    "Consider the following example program.  See if you can get the serial version running. Benchmark it and then get it working faster using OpenMP"
   ]
  },
  {
   "cell_type": "code",
   "execution_count": null,
   "metadata": {},
   "outputs": [],
   "source": [
    "%%writefile 2d_wave.c\n",
    "\n",
    "#include <stdio.h>\n",
    "#include <stdlib.h>\n",
    "#include <math.h>\n",
    "#include \"png_util.h\"\n",
    "#define min(X,Y) ((X) < (Y) ? (X) : (Y))\n",
    "#define max(X,Y) ((X) > (Y) ? (X) : (Y))\n",
    "\n",
    "int main(int argc, char ** argv) {\n",
    "    int nx = 500;\n",
    "    int ny = 500;\n",
    "    int nt = 10000; \n",
    "    int frame=0;\n",
    "    //int nt = 1000000;\n",
    "    int r,c,it;\n",
    "    double dx,dy,dt;\n",
    "    double max,min;\n",
    "    double tmax;\n",
    "    double dx2inv, dy2inv;\n",
    "    char filename[sizeof \"./images/file00000.png\"];\n",
    "\n",
    "    image_size_t sz; \n",
    "    sz.width=nx;\n",
    "    sz.height=ny;\n",
    "\n",
    "    //make mesh\n",
    "    double * h_z = (double *) malloc(nx*ny*sizeof(double));\n",
    "    double ** z = malloc(ny * sizeof(double*));\n",
    "    for (r=0; r<ny; r++)\n",
    "    \tz[r] = &h_z[r*nx];\n",
    "\n",
    "    //Velocity\n",
    "    double * h_v = (double *) malloc(nx*ny*sizeof(double));\n",
    "    double ** v = malloc(ny * sizeof(double*));\n",
    "    for (r=0; r<ny; r++)\n",
    "        v[r] = &h_v[r*nx];\n",
    "\n",
    "    //Accelleration\n",
    "    double * h_a = (double *) malloc(nx*ny*sizeof(double));\n",
    "    double ** a = malloc(ny * sizeof(double*));\n",
    "    for (r=0; r<ny; r++)\n",
    "        a[r] = &h_a[r*nx];\n",
    "\n",
    "    //output image\n",
    "    char * o_img = (char *) malloc(sz.width*sz.height*sizeof(char));\n",
    "    char **output = malloc(sz.height * sizeof(char*));\n",
    "    for (int r=0; r<sz.height; r++)\n",
    "        output[r] = &o_img[r*sz.width];\n",
    "\n",
    "    max=10.0;\n",
    "    min=0.0;\n",
    "    dx = (max-min)/(double)(nx-1);\n",
    "    dy = (max-min)/(double)(ny-1);\n",
    "    \n",
    "    tmax=20.0;\n",
    "    dt= (tmax-0.0)/(double)(nt-1);\n",
    "\n",
    "    double x,y; \n",
    "    for (r=0;r<ny;r++)  {\n",
    "    \tfor (c=0;c<nx;c++)  {\n",
    "\t\tx = min+(double)c*dx;\n",
    "\t\ty = min+(double)r*dy;\n",
    "        \tz[r][c] = exp(-(sqrt((x-5.0)*(x-5.0)+(y-5.0)*(y-5.0))));\n",
    "        \tv[r][c] = 0.0;\n",
    "\t        a[r][c] = 0.0;\n",
    "    \t}\n",
    "    }\n",
    "    \n",
    "    dx2inv=1.0/(dx*dx);\n",
    "    dy2inv=1.0/(dy*dy);\n",
    "\n",
    "    for(it=0;it<nt-1;it++) {\n",
    "\t//printf(\"%d\\n\",it);\n",
    "        for (r=1;r<ny-1;r++)  \n",
    "    \t    for (c=1;c<nx-1;c++)  {\n",
    "\t\tdouble ax = (z[r+1][c]+z[r-1][c]-2.0*z[r][c])*dx2inv;\n",
    "\t\tdouble ay = (z[r][c+1]+z[r][c-1]-2.0*z[r][c])*dy2inv;\n",
    "\t\ta[r][c] = (ax+ay)/2;\n",
    "\t    }\n",
    "        for (r=1;r<ny-1;r++)  \n",
    "    \t    for (c=1;c<nx-1;c++)  {\n",
    "               v[r][c] = v[r][c] + dt*a[r][c];\n",
    "               z[r][c] = z[r][c] + dt*v[r][c];\n",
    "            }\n",
    "\n",
    "\tif (it % 100 ==0)\n",
    "\t{\n",
    "    \t    double mx,mn;\n",
    "    \t    mx = -999999;\n",
    "            mn = 999999;\n",
    "            for(r=0;r<ny;r++)\n",
    "                for(c=0;c<nx;c++){\n",
    "           \t    mx = max(mx, z[r][c]);\n",
    "           \t    mn = min(mn, z[r][c]);\n",
    "        \t}\n",
    "    \t    for(r=0;r<ny;r++)\n",
    "                for(c=0;c<nx;c++)\n",
    "                    output[r][c] = (char) round((z[r][c]-mn)/(mx-mn)*255);\n",
    "\n",
    "    \t    sprintf(filename, \"./images/file%05d.png\", frame);\n",
    "            printf(\"Writing %s\\n\",filename);    \n",
    "    \t    write_png_file(filename,o_img,sz);\n",
    "\t    frame+=1;\n",
    "        }\n",
    "\n",
    "    }\n",
    "    \n",
    "    double mx,mn;\n",
    "    mx = -999999;\n",
    "    mn = 999999;\n",
    "    for(r=0;r<ny;r++)\n",
    "        for(c=0;c<nx;c++){\n",
    "\t   mx = max(mx, z[r][c]);\n",
    "\t   mn = min(mn, z[r][c]);\n",
    "        }\n",
    "\n",
    "    printf(\"%f, %f\\n\", mn,mx);\n",
    "\n",
    "    for(r=0;r<ny;r++)\n",
    "        for(c=0;c<nx;c++){  \n",
    "\t   output[r][c] = (char) round((z[r][c]-mn)/(mx-mn)*255);  \n",
    "\t}\n",
    "\n",
    "    sprintf(filename, \"./images/file%05d.png\", it);\n",
    "    printf(\"Writing %s\\n\",filename);    \n",
    "    //Write out output image using 1D serial pointer\n",
    "    write_png_file(filename,o_img,sz);\n",
    "    return 0;\n",
    "}"
   ]
  },
  {
   "cell_type": "markdown",
   "metadata": {},
   "source": [
    "\n",
    "\n",
    "-----\n",
    "### Congratulations, we're done!\n",
    "\n",
    "If you attend class in-person then have one of the instructors check your notebook and sign you out before leaving class. If you are attending asynchronously, turn in your assignment using D2L."
   ]
  },
  {
   "cell_type": "markdown",
   "metadata": {},
   "source": [
    "### Course Resources:\n",
    "\n",
    "\n",
    " - [Website](https://msu-cmse-courses.github.io/cmse401-S23-student/)\n",
    " - [ZOOM](https://msu.zoom.us/j/)\n",
    " - [JargonJar](https://docs.google.com/document/d/1-oIiXzrs9pPspGWUzcSZzVgzqs0emTjegsomX4R5bYo/edit?usp=sharing)\n",
    " - [GIT](https://gitlab.msu.edu/appeloda/cmse401-s23.git)\n",
    "\n"
   ]
  },
  {
   "cell_type": "markdown",
   "metadata": {},
   "source": [
    "Written by Dr. Dirk Colbry, Michigan State University\n",
    "<a rel=\"license\" href=\"http://creativecommons.org/licenses/by-nc/4.0/\"><img alt=\"Creative Commons License\" style=\"border-width:0\" src=\"https://i.creativecommons.org/l/by-nc/4.0/88x31.png\" /></a><br />This work is licensed under a <a rel=\"license\" href=\"http://creativecommons.org/licenses/by-nc/4.0/\">Creative Commons Attribution-NonCommercial 4.0 International License</a>."
   ]
  },
  {
   "cell_type": "markdown",
   "metadata": {},
   "source": [
    "----"
   ]
  }
 ],
 "metadata": {
  "kernelspec": {
   "display_name": "Python 3",
   "language": "python",
   "name": "python3"
  },
  "language_info": {
   "codemirror_mode": {
    "name": "ipython",
    "version": 3
   },
   "file_extension": ".py",
   "mimetype": "text/x-python",
   "name": "python",
   "nbconvert_exporter": "python",
   "pygments_lexer": "ipython3",
   "version": "3.7.3"
  }
 },
 "nbformat": 4,
 "nbformat_minor": 2
}
