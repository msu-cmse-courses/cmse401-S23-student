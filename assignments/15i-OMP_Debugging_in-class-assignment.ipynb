{
 "cells": [
  {
   "cell_type": "markdown",
   "metadata": {},
   "source": [
    "[Link to this document's Jupyter Notebook](./15i-OMP_Debugging_in-class-assignment.ipynb)"
   ]
  },
  {
   "cell_type": "markdown",
   "metadata": {},
   "source": [
    "In order to successfully complete this assignment you need to participate both individually and in groups during class.   If you attend class in-person then have one of the instructors check your notebook and sign you out before leaving class on **Monday February 13**."
   ]
  },
  {
   "cell_type": "markdown",
   "metadata": {},
   "source": [
    "---\n",
    "\n"
   ]
  },
  {
   "cell_type": "markdown",
   "metadata": {},
   "source": [
    "# In-Class Assignment: Debugging Parallel Problems\n",
    "\n",
    "<img src=\"http://farm3.static.flickr.com/2632/3763969995_6aae9c3b42_o.png\" alt=\"cartoon picture showing two archers trying to borrow each others bow as a humourous example of deadlock. Ultimately one of them gets shot as a quote ultimately victim of deadlock.\">\n",
    "\n",
    "\n",
    "Image from: http://michaeljswart.com/2009/07/deadlocks-explained/"
   ]
  },
  {
   "cell_type": "markdown",
   "metadata": {},
   "source": [
    "### Agenda for today's class (70 minutes)\n",
    "\n",
    "\n",
    "1. (20 minutes) [Pre class Review](#Pre-class-Review)\n",
    "3. (30 minutes) [Code Review](#Code-Review)\n",
    "4. (20 minutes) [Deadlock](#Deadlock)\n",
    "\n",
    "\n"
   ]
  },
  {
   "cell_type": "markdown",
   "metadata": {},
   "source": [
    "\n",
    "\n",
    "\n",
    "---\n",
    "<a name=Pre-class-Review></a>\n",
    "# 1. Pre class Review\n",
    "\n",
    "\n",
    "[15p--OMP_weeds_pre-class-assignment](15p--OMP_weeds_pre-class-assignment.ipynb)\n"
   ]
  },
  {
   "cell_type": "markdown",
   "metadata": {},
   "source": [
    "\n",
    "\n",
    "---\n",
    "<a name=Quiz2-Review></a>\n",
    "# 2. Quiz2 Review\n",
    "\n",
    "\n",
    "\n",
    "- [14q-Quiz2_OMP.ipynb](14q-Quiz2_OMP.ipynb)"
   ]
  },
  {
   "cell_type": "markdown",
   "metadata": {},
   "source": [
    "\n",
    "---\n",
    "<a name=Code-Review></a>\n",
    "# 3.  Code Review\n",
    "Lets spend a few moments reviewing what we have learned about OpenMP by doing a code review of the following project."
   ]
  },
  {
   "cell_type": "markdown",
   "metadata": {},
   "source": [
    "\n",
    "### Pandemic Example\n",
    "\n",
    "\n",
    "\n",
    "\n",
    "\n",
    "Review the Pandemic code in your groups and figure out what it is doing.\n",
    "\n",
    "Disscuss in your groups and share with the class."
   ]
  },
  {
   "cell_type": "markdown",
   "metadata": {},
   "source": [
    "### Race Condition Example\n",
    "\n",
    "\n",
    "Try to find and suggest a fix for the race condition in the following code.\n",
    "\n",
    "Example from: https://github.com/ofloveandhate/adv_sci_comp_spring2017/tree/master/openmp/problems\n",
    "\n",
    "```c++\n",
    "\n",
    "\n",
    "#include <omp.h>\n",
    "\n",
    "#include <vector>\n",
    "#include <iostream>\n",
    "\n",
    "int main()\n",
    "{\n",
    "\tint counter = 0;\n",
    "\tint size = 1000;\n",
    "\t#pragma omp parallel for\n",
    "\tfor (int ii=0; ii<size; ++ii)\n",
    "\t{\n",
    "\t\tif (ii%2)\n",
    "\t\t\t++counter;\n",
    "\t}\n",
    "\n",
    "\n",
    "\tstd::cout << counter << '\\n';\n",
    "\n",
    "\treturn 0;\n",
    "}\n",
    "\n",
    "```"
   ]
  },
  {
   "cell_type": "markdown",
   "metadata": {},
   "source": [
    "\n",
    "\n",
    "\n",
    "---\n",
    "<a name=Deadlock></a>\n",
    "# 4. Deadlock\n",
    "\n",
    "\n",
    "Try to find and suggest a fix for the deadlock in the following code.\n",
    "\n",
    "Example from: https://github.com/ofloveandhate/adv_sci_comp_spring2017/tree/master/openmp/problems\n",
    "\n",
    "```c++\n",
    "#include <omp.h>\n",
    "#include <vector>\n",
    "#include <iostream>\n",
    "\n",
    "// uses unspecified name for critical region.\n",
    "void foo()\n",
    "{\n",
    "\t#pragma omp parallel\n",
    "\t#pragma omp critical\n",
    "\t{\n",
    "\t\tauto id = omp_get_thread_num();\n",
    "\t\tstd::cout << \"o,hai there, i'm \" << id << '\\n';\n",
    "\t}\n",
    "\n",
    "}\n",
    "\n",
    "// goes with foo above.\n",
    "// uses an unspecified name for critical region.\n",
    "void deadlockA()\n",
    "{\n",
    "\tint sum = 0;\n",
    "\n",
    "\t#pragma omp parallel for\n",
    "\tfor (int ii=0; ii<100; ++ii)\n",
    "\t{\n",
    "\t\t#pragma omp critical\n",
    "\t\t{\n",
    "\t\t\tsum += ii;\n",
    "\t\t\tfoo();\n",
    "\t\t}\n",
    "\t}\n",
    "}\n",
    "\n",
    "\n",
    "// slightly different than A.  causes deadlock\n",
    "// even when using names for the critical sections\n",
    "void deadlockB()\n",
    "{\n",
    "\t#pragma omp parallel\n",
    "\t{\n",
    "\t\t#pragma omp critical(A)\n",
    "\t\t{\n",
    "\t\t\t#pragma omp critical(B)\n",
    "\t\t\t{\n",
    "\t\t\t\tstd::cout << \"whassup\\n\";\n",
    "\t\t\t}\n",
    "\t\t}\n",
    "\t\t#pragma omp critical(B)\n",
    "\t\t{\n",
    "\t\t\t#pragma omp critical(A)\n",
    "\t\t\t{\n",
    "\t\t\t\tstd::cout << \"ahoy\\n\";\n",
    "\t\t\t}\n",
    "\t\t}\n",
    "\t}\n",
    "\n",
    "}\n",
    "\n",
    "\n",
    "\n",
    "int main()\n",
    "{\n",
    "\tdeadlockB();\n",
    "\treturn 0;\n",
    "}\n",
    "```"
   ]
  },
  {
   "cell_type": "markdown",
   "metadata": {},
   "source": [
    "\n",
    "\n",
    "-----\n",
    "### Congratulations, we're done!\n",
    "\n",
    "If you attend class in-person then have one of the instructors check your notebook and sign you out before leaving class. If you are attending asynchronously, turn in your assignment using D2L."
   ]
  },
  {
   "cell_type": "markdown",
   "metadata": {},
   "source": [
    "### Course Resources:\n",
    "\n",
    "\n",
    " - [Website](https://msu-cmse-courses.github.io/cmse401-S23-student/)\n",
    " - [ZOOM](https://msu.zoom.us/j/)\n",
    " - [JargonJar](https://docs.google.com/document/d/1-oIiXzrs9pPspGWUzcSZzVgzqs0emTjegsomX4R5bYo/edit?usp=sharing)\n",
    " - [GIT](https://gitlab.msu.edu/appeloda/cmse401-s23.git)\n",
    "\n"
   ]
  },
  {
   "cell_type": "markdown",
   "metadata": {},
   "source": [
    "Written by Dr. Dirk Colbry, Michigan State University\n",
    "<a rel=\"license\" href=\"http://creativecommons.org/licenses/by-nc/4.0/\"><img alt=\"Creative Commons License\" style=\"border-width:0\" src=\"https://i.creativecommons.org/l/by-nc/4.0/88x31.png\" /></a><br />This work is licensed under a <a rel=\"license\" href=\"http://creativecommons.org/licenses/by-nc/4.0/\">Creative Commons Attribution-NonCommercial 4.0 International License</a>."
   ]
  },
  {
   "cell_type": "markdown",
   "metadata": {},
   "source": [
    "----"
   ]
  }
 ],
 "metadata": {
  "kernelspec": {
   "display_name": "Python 3 (ipykernel)",
   "language": "python",
   "name": "python3"
  },
  "language_info": {
   "codemirror_mode": {
    "name": "ipython",
    "version": 3
   },
   "file_extension": ".py",
   "mimetype": "text/x-python",
   "name": "python",
   "nbconvert_exporter": "python",
   "pygments_lexer": "ipython3",
   "version": "3.9.13"
  }
 },
 "nbformat": 4,
 "nbformat_minor": 2
}
