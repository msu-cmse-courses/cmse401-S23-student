{
 "cells": [
  {
   "cell_type": "markdown",
   "metadata": {},
   "source": [
    "----\n",
    "\n",
    "# CMSE401 Quiz Instructions\n",
    "\n",
    "This quiz is designed to take approximately 20 minutes to complete (you will be given until the end of the lecture 11.40, i.e. 80 minutes).  "
   ]
  },
  {
   "cell_type": "markdown",
   "metadata": {},
   "source": [
    "> This is an open Internet quiz.  Feel free to use anything on the Internet with one important exception...\n",
    "> \n",
    "> - **DO NOT** communicate live with other people during the quiz (either verbally or on-line).  The goal here is to find answers to problems as you would in the real world.  \n",
    "> \n",
    "> Use your time wisely. "
   ]
  },
  {
   "cell_type": "markdown",
   "metadata": {},
   "source": [
    "> **Honor Code**\n",
    "> \n",
    "> I, agree to neither give nor receive any help on this quiz from other people.  I also understand that providing answers to questions on this quiz to other students is also an academic misconduct violation as is live communication or receiving answers to questions on this quiz from other people. It is important to me to be a person of integrity and that means that ALL ANSWERS on this quiz are my answers.\n",
    "> \n",
    "> &#9989; **<font color=red>DO THIS:</font>** Include your name in the line below to acknowledge the above statement:"
   ]
  },
  {
   "cell_type": "markdown",
   "metadata": {},
   "source": [
    "Put your name here."
   ]
  },
  {
   "cell_type": "markdown",
   "metadata": {},
   "source": [
    "---\n",
    "#  Quiz 3: The Collatz problem"
   ]
  },
  {
   "cell_type": "markdown",
   "metadata": {},
   "source": [
    "In this quiz you are going to verify that for any integer $ n = 1,2,3,\\ldots,10,000,000$ the folowing algorithm terminates:\n",
    "\n",
    "0. Set $k \\leftarrow n$ and $i = 1$\n",
    "1. if $k = 1$ stop and record $i$ for this $n$, else goto 2 \n",
    "2. if $k$ is odd set $k \\leftarrow 3k+1$, else set $k \\leftarrow k/2$.\n",
    "3. Increment the number of iterations $i$ by one. \n",
    "4. Goto 1.\n",
    "\n"
   ]
  },
  {
   "cell_type": "markdown",
   "metadata": {},
   "source": [
    "&#9989; **<font color=red>Question 1</font>**: (10 points) Write a MPI program that splits the 10,000,000 different values for $n$ between $P$ processes. \n",
    "\n",
    "1. Each process should write the number of iterations and corresponding values for $n$ to file. The easiest approach is to write $P$ files (one for each process) with the values of $n$ and $P$ files for the number of iterations (or you can write $P$ files with both).      \n",
    "2. The program should use `MPI_Wtime` to measure the time it takes from start to finish for your program. \n",
    "3. **NOTE that you will need to use** `long long int k = n` as $k$ may grow larger than what the standard `int` can hold."
   ]
  },
  {
   "cell_type": "markdown",
   "metadata": {},
   "source": [
    "To get a fair timing you should place a barrier before you measure the final time\n",
    "\n",
    "```\n",
    "  MPI_Init(&argc, &argv);\n",
    "  double t1,t2;\n",
    "  t1 = MPI_Wtime();\n",
    "    //    ....  stuff to be timed  ...\n",
    "  \n",
    "  MPI_Barrier(MPI_COMM_WORLD);\n",
    "  t2   = MPI_Wtime();\n",
    "  if (rank==0)\n",
    "        cout << \"MPI_Wtime timing: \" << (t2-t1) << endl;\n",
    "  MPI_Finalize();\n",
    "```\n"
   ]
  },
  {
   "cell_type": "markdown",
   "metadata": {},
   "source": [
    "Upload the `C / C++` file to D2L "
   ]
  },
  {
   "cell_type": "markdown",
   "metadata": {},
   "source": [
    "&#9989; **<font color=red>Question 2</font>**: (5 points) Run the program with 1, 2, 4, 8, 16, 32, & 64 processes and record the times. For example you can use the following batch script\n",
    "\n",
    "```\n",
    "#!/bin/bash\n",
    "#SBATCH --job-name=Collatz\n",
    "#SBATCH --nodes=1\n",
    "#SBATCH --ntasks=64\n",
    "#SBATCH --mem=25G\n",
    "#SBATCH --time=0:30:00\n",
    "#SBATCH --output=%x-%j.SLURMout \n",
    "\n",
    "echo `pwd`\n",
    "\n",
    "rm *.txt\n",
    "\n",
    "mpirun -np 64 ./a.out 10000000\n",
    "cat number_* > num.txt\n",
    "cat iters_* > its.txt\n",
    "\n",
    "mpirun -np 32 ./a.out 10000000\n",
    "mpirun -np 16 ./a.out 10000000\n",
    "mpirun -np 8 ./a.out 10000000\n",
    "mpirun -np 4 ./a.out 10000000\n",
    "mpirun -np 2 ./a.out 10000000\n",
    "mpirun -np 1 ./a.out 10000000\n",
    "\n",
    "```\n",
    "\n",
    "Provide a table (or a list) of $T_1, 2T_2, 4T_4, \\ldots$. Here $T_4$ is the time it takes using 4 processes etc. \n",
    "\n",
    "Ideally, how should the numbers in the table relate to each other?\n"
   ]
  },
  {
   "cell_type": "markdown",
   "metadata": {},
   "source": [
    "Put your answer to the above question here."
   ]
  },
  {
   "cell_type": "markdown",
   "metadata": {},
   "source": [
    "&#9989; **<font color=red>Question 3</font>**: (5 points) \n",
    "1. Provide a histogram of the number of itrations with around 100 bins.   \n",
    "2. Make a scatter plot of the number of iterations as a function of $n$. "
   ]
  },
  {
   "cell_type": "markdown",
   "metadata": {},
   "source": [
    "Put your answer to the above question here."
   ]
  },
  {
   "cell_type": "markdown",
   "metadata": {},
   "source": [
    "---------\n",
    "### Congratulations, you're done with your EXAM\n",
    "\n",
    "Now, you just need to submit this assignment by uploading it and your program to the course <a href=\"https://d2l.msu.edu/\">Desire2Learn</a> web page."
   ]
  },
  {
   "cell_type": "markdown",
   "metadata": {},
   "source": [
    "# Congratulations\n",
    "\n",
    "You are done with your quiz. Please save the file and upload the jupyter notebook to the D2L dropbox. "
   ]
  },
  {
   "cell_type": "markdown",
   "metadata": {
    "nbgrader": {
     "grade": false,
     "grade_id": "cell-72afc771eda28306",
     "locked": true,
     "schema_version": 3,
     "solution": false,
     "task": false
    }
   },
   "source": [
    "Written by Daniel Appelö, Michigan State University\n",
    "<a rel=\"license\" href=\"http://creativecommons.org/licenses/by-nc/4.0/\"><img alt=\"Creative Commons License\" style=\"border-width:0\" src=\"https://i.creativecommons.org/l/by-nc/4.0/88x31.png\" /></a><br />This work is licensed under a <a rel=\"license\" href=\"http://creativecommons.org/licenses/by-nc/4.0/\">Creative Commons Attribution-NonCommercial 4.0 International License</a>."
   ]
  },
  {
   "cell_type": "markdown",
   "metadata": {},
   "source": [
    "----"
   ]
  }
 ],
 "metadata": {
  "kernelspec": {
   "display_name": "Python 3 (ipykernel)",
   "language": "python",
   "name": "python3"
  },
  "language_info": {
   "codemirror_mode": {
    "name": "ipython",
    "version": 3
   },
   "file_extension": ".py",
   "mimetype": "text/x-python",
   "name": "python",
   "nbconvert_exporter": "python",
   "pygments_lexer": "ipython3",
   "version": "3.8.3"
  }
 },
 "nbformat": 4,
 "nbformat_minor": 1
}
