{
 "cells": [
  {
   "cell_type": "markdown",
   "metadata": {},
   "source": [
    "[Link to this document's Jupyter Notebook](./0412-Hybrid_in-class-assignment.ipynb)"
   ]
  },
  {
   "cell_type": "markdown",
   "metadata": {},
   "source": [
    "In order to successfully complete this assignment you need to participate both individually and in groups during class.   If you attend class in-person then have one of the instructors check your notebook and sign you out before leaving class on **Monday April 12**. If you are attending asynchronously, turn in your assignment using D2L no later than **_11:59pm on Monday April 12**. "
   ]
  },
  {
   "cell_type": "markdown",
   "metadata": {},
   "source": [
    "---\n",
    "\n"
   ]
  },
  {
   "cell_type": "markdown",
   "metadata": {},
   "source": [
    "# In-Class Assignment: Hybrid Codes\n",
    "\n",
    "<img alt=\"Picture of a Greek Hydra as an anaylogy to hybrid systems\" src=\"https://upload.wikimedia.org/wikipedia/commons/2/24/Hydra1.gif\">\n",
    "\n",
    "Image From: https://en.wikipedia.org/wiki/Hydra"
   ]
  },
  {
   "cell_type": "markdown",
   "metadata": {},
   "source": [
    "### Agenda for today's class (70 minutes)\n",
    "\n",
    "1. [Review Hybrid Codes](#Review-Hybrid-Codes)\n",
    "2. [How to run Hybrid MPI/OpenMP code on the HPCC](#How-to-run-Hybrid-MPI_OpenMP-code-on-the-HPCC)\n",
    "3. [Benchmark](#Benchmark)\n",
    "\n"
   ]
  },
  {
   "cell_type": "markdown",
   "metadata": {},
   "source": [
    "\n",
    "\n",
    "---\n",
    "<a name=Review-Hybrid-Codes></a>\n",
    "# 1. Review Hybrid Codes\n",
    "\n",
    "\n",
    "&#9989; **<font color=red>DO THIS:</font>** Examine the **Pandemic** code in the BCCD directory.  Specifically look at the MAKEFILE and see how the hybrid code is implemented/compiled.\n",
    "\n",
    "&#9989; **<font color=red>DO THIS:</font>** Examine the **Life** code in the BCCD directory.  Specifically look at the MAKEFILE and see how the hybrid code is implemented/compiled."
   ]
  },
  {
   "cell_type": "markdown",
   "metadata": {},
   "source": [
    "&#9989; **<font color=red>QUESTION:</font>** This seems like a lot of work, Why would you every implement a hybrid code?"
   ]
  },
  {
   "cell_type": "markdown",
   "metadata": {},
   "source": [
    "Put the answer to the above question here."
   ]
  },
  {
   "cell_type": "markdown",
   "metadata": {},
   "source": [
    "\n",
    "\n",
    "---\n",
    "<a name=How-to-run-Hybrid-MPI_OpenMP-code-on-the-HPCC></a>\n",
    "# 2. How to run Hybrid MPI/OpenMP code on the HPCC\n",
    "\n",
    "\n",
    "&#9989; **<font color=red>DO THIS:</font>** Write a submission script to run either the hybrid **Pandemic** or the **Life code** on the HPCC.\n",
    "\n",
    "&#9989; **<font color=red>QUESTION:</font>**  What SLURM settings are needed to control a hybrid code?"
   ]
  },
  {
   "cell_type": "markdown",
   "metadata": {},
   "source": [
    "Put the answer to the above question here."
   ]
  },
  {
   "cell_type": "markdown",
   "metadata": {},
   "source": [
    "&#9989; **<font color=red>QUESTION:</font>** How do we know that the submission script is working?"
   ]
  },
  {
   "cell_type": "markdown",
   "metadata": {},
   "source": [
    "Put the answer to the above question here."
   ]
  },
  {
   "cell_type": "markdown",
   "metadata": {},
   "source": [
    "\n",
    "---\n",
    "<a name=Benchmark></a>\n",
    "# 3. Benchmark\n",
    "\n",
    "&#9989; **<font color=red>DO THIS:</font>** Change the inputs to the code such that it will run around 1 minute on a single core. \n",
    "\n",
    "&#9989; **<font color=red>QUESTION:</font>** what did you change and how long did it take to run on a single core?"
   ]
  },
  {
   "cell_type": "markdown",
   "metadata": {},
   "source": [
    "Put the answer to the above question here."
   ]
  },
  {
   "cell_type": "markdown",
   "metadata": {},
   "source": [
    "&#9989; **<font color=red>DO THIS:</font>** If we want to try all possible numbers of MPI and OpenMP threads to see what is fastest.  If we only do up to 10 each this will be 100 different benchmarks.  Instead lets compare 10 threads of MPI, 10 threads of openMP vs 1 thread."
   ]
  },
  {
   "cell_type": "markdown",
   "metadata": {},
   "source": [
    "&#9989; **<font color=red>QUESTION:</font>** How big should the hybrid code be to have an advantage over an MPI only code?"
   ]
  },
  {
   "cell_type": "markdown",
   "metadata": {},
   "source": [
    "Put the answer to the above question here."
   ]
  },
  {
   "cell_type": "markdown",
   "metadata": {},
   "source": [
    "&#9989; **<font color=red>QUESTION:</font>** How big should the hybrid code be to have an advantage over an MPI only code?"
   ]
  },
  {
   "cell_type": "markdown",
   "metadata": {},
   "source": [
    "Put the answer to the above question here."
   ]
  },
  {
   "cell_type": "markdown",
   "metadata": {},
   "source": [
    "&#9989; **<font color=red>QUESTION:</font>** How big should the hybrid code be to have an advantage over an OpenMP only code?"
   ]
  },
  {
   "cell_type": "markdown",
   "metadata": {},
   "source": [
    "\n",
    "\n",
    "-----\n",
    "### Congratulations, we're done!\n",
    "\n",
    "If you attend class in-person then have one of the instructors check your notebook and sign you out before leaving class. If you are attending asynchronously, turn in your assignment using D2L."
   ]
  },
  {
   "cell_type": "markdown",
   "metadata": {},
   "source": [
    "### Course Resources:\n",
    "\n",
    "\n",
    " - [Website](https://msu-cmse-courses.github.io/cmse802-f20-student/)\n",
    " - [ZOOM](https://msu.zoom.us/j/98207034052)\n",
    " - [JargonJar](https://docs.google.com/document/d/1ahg48CCFhRzUL-QIHzlt_KEf1XqsCasFBU4iePHhcug/edit#)\n",
    " - [GIT](https://gitlab.msu.edu/colbrydi/cmse401-s21.git)\n",
    "\n"
   ]
  },
  {
   "cell_type": "markdown",
   "metadata": {},
   "source": [
    "Written by Dr. Dirk Colbry, Michigan State University\n",
    "<a rel=\"license\" href=\"http://creativecommons.org/licenses/by-nc/4.0/\"><img alt=\"Creative Commons License\" style=\"border-width:0\" src=\"https://i.creativecommons.org/l/by-nc/4.0/88x31.png\" /></a><br />This work is licensed under a <a rel=\"license\" href=\"http://creativecommons.org/licenses/by-nc/4.0/\">Creative Commons Attribution-NonCommercial 4.0 International License</a>."
   ]
  },
  {
   "cell_type": "markdown",
   "metadata": {},
   "source": [
    "----"
   ]
  }
 ],
 "metadata": {
  "kernelspec": {
   "display_name": "Python 3",
   "language": "python",
   "name": "python3"
  },
  "language_info": {
   "codemirror_mode": {
    "name": "ipython",
    "version": 3
   },
   "file_extension": ".py",
   "mimetype": "text/x-python",
   "name": "python",
   "nbconvert_exporter": "python",
   "pygments_lexer": "ipython3",
   "version": "3.7.3"
  }
 },
 "nbformat": 4,
 "nbformat_minor": 2
}
