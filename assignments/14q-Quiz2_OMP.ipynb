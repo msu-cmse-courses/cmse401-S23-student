{
 "cells": [
  {
   "cell_type": "markdown",
   "metadata": {},
   "source": [
    "----\n",
    "\n",
    "# CMSE401 Quiz Instructions\n",
    "\n",
    "This quiz is designed to take approximately 20 minutes to complete (you will be given 50 Minutes).  \n",
    "\n",
    "Please read the following instructions before starting the quiz.\n"
   ]
  },
  {
   "cell_type": "markdown",
   "metadata": {},
   "source": [
    "> This is an open Internet quiz.  Feel free to use anything on the Internet with one important exception...\n",
    "> \n",
    "> - **DO NOT** communicate live with other people during the quiz (either verbally or on-line).  The goal here is to find answers to problems as you would in the real world.  \n",
    "> \n",
    "> You will be given **20 minutes** to complete this quiz.  Use your time wisely. \n",
    "> \n",
    "> **HINTS:**\n",
    "> - Neatness and grammar is important.  We will ignore all notes or code we can not read or understand.\n",
    "> - Read the entire quiz from beginning to end before starting.  Not all questions are equal in **points vs. time** so plan your time accordingly.   \n",
    "> - Some of the information provided my be a distraction. Do not assume you need to understand everything written to answer the questions. \n",
    "> - Spaces for answers are provided. Delete the prompting text such as \"Put your answer to the above question here\" and replace it with your answer. Do not leave the prompting text with your answer.\n",
    "> - Do not assume that the answer must be in the same format of the cell provided. Feel free to change the cell formatting (e.g., markdown to code, and vice versa) or add additional cells as needed to provide your answer.\n",
    "> - When a question asks for an answer \"**in your own words**\" it is still okay to search the Internet for the answer as a reminder. *However*, we would like you to do more than cut and paste.  Make the answer your own. \n",
    "> - If you get stuck, try not to leave an answer blank. It is better to include some notes or stub functions so we have an idea about your thinking process so we can give you partial credit.   \n",
    "> - Always provid links to any references you find helpful. \n",
    "> - Feel free to delete the provided check marks (&#9989;) as a way to keep track of which questions you have successfully completed. "
   ]
  },
  {
   "cell_type": "markdown",
   "metadata": {},
   "source": [
    "> **Honor Code**\n",
    "> \n",
    "> I, agree to neither give nor receive any help on this quiz from other people.  I also understand that providing answers to questions on this quiz to other students is also an academic misconduct violation as is live communication or receiving answers to questions on this quiz from other people. It is important to me to be a person of integrity and that means that ALL ANSWERS on this quiz are my answers.\n",
    "> \n",
    "> &#9989; **<font color=red>DO THIS:</font>** Include your name in the line below to acknowledge the above statement:"
   ]
  },
  {
   "cell_type": "markdown",
   "metadata": {},
   "source": [
    "Put your name here."
   ]
  },
  {
   "cell_type": "markdown",
   "metadata": {},
   "source": [
    "---\n",
    "\n",
    "#  Quiz 2: Mandelbrots\n",
    "\n",
    "<img alt=\"classic Mandelbrot image generated using the code in this quiz\" src=\"https://lh6.googleusercontent.com/6puE1Gi0XJwIL7Hz-EiRnVLX9O8NEaQMoEoyG7JQ_PLlPHEPYMnbKImG_Kx6jqmXGhfXIXVuxvVK9sbSFtN569t-YdwIFCbGjZxAxAPMjw_fSCtJcqOKpYm-WY1guA=w740\" width=25%>\n",
    "\n",
    "The Mandelbrot set has become popular for its aesthetic appeal and as an example of a complex structure arising from the application of simple rules.  The study of these types of fractal patterns has helped theorists better understand chaotic systems. There is a close relationship is some scientific simulations which are \"sensitive\" to their inputs.  For example, even a very small changes in the inputs for a \"sensitive\" simulation results in very large changes in the output.  This was first discovered with early weather simulations and is often called the butterfly effect (i.e. the small change in wind velocity input parameter from, say, a butterfly flapping it's wings can cause a significant change in the situation). \n",
    "\n",
    "For this question the instructor modified some mandelbrot code to use OpenMP.  As a useful reference, the original program can be found here on github: https://gist.github.com/andrejbauer/7919569 \n",
    "\n",
    "\n",
    "The modified code is as follows:"
   ]
  },
  {
   "cell_type": "markdown",
   "metadata": {},
   "source": [
    "```C\n",
    "/*\n",
    "  This program is an adaptation of the Mandelbrot program\n",
    "  from the Programming Rosetta Stone, see\n",
    "  http://rosettacode.org/wiki/Mandelbrot_set\n",
    "  Compile the program with:\n",
    "  gcc -o mandelbrot -O4 mandelbrot.c\n",
    "  Usage:\n",
    " \n",
    "  ./mandelbrot <xmin> <xmax> <ymin> <ymax> <maxiter> <res> <out.ppm>\n",
    "  Example:\n",
    "  ./mandelbrot 0.27085 0.27100 0.004640 0.004810 1000 1024 pic.ppm\n",
    "  The interior of Mandelbrot set is black, the levels are gray.\n",
    "  If you have very many levels, the picture is likely going to be quite\n",
    "  dark. You can postprocess it to fix the palette. For instance,\n",
    "  with ImageMagick you can do (assuming the picture was saved to pic.ppm):\n",
    "  convert -normalize pic.ppm pic.png\n",
    "  The resulting pic.png is still gray, but the levels will be nicer. You\n",
    "  can also add colors, for instance:\n",
    "  convert -negate -normalize -fill blue -tint 100 pic.ppm pic.png\n",
    "  See http://www.imagemagick.org/Usage/color_mods/ for what ImageMagick\n",
    "  can do. It can do a lot.\n",
    "*/\n",
    "\n",
    "#include <stdio.h>\n",
    "#include <stdlib.h>\n",
    "#include <math.h>\n",
    "#include <stdint.h>\n",
    "\n",
    "int main(int argc, char* argv[])\n",
    "{\n",
    "  /* Parse the command line arguments. */\n",
    "  if (argc != 8) {\n",
    "    printf(\"Usage:   %s <xmin> <xmax> <ymin> <ymax> <maxiter> <res> <out.ppm>\\n\", argv[0]);\n",
    "    printf(\"Example: %s 0.27085 0.27100 0.004640 0.004810 1000 1024 pic.ppm\\n\", argv[0]);\n",
    "    exit(EXIT_FAILURE);\n",
    "  }\n",
    "\n",
    "  /* The window in the plane. */\n",
    "  const double xmin = atof(argv[1]);\n",
    "  const double xmax = atof(argv[2]);\n",
    "  const double ymin = atof(argv[3]);\n",
    "  const double ymax = atof(argv[4]);\n",
    "\n",
    "  /* Maximum number of iterations, at most 65535. */\n",
    "  const uint16_t maxiter = (unsigned short)atoi(argv[5]);\n",
    "\n",
    "  /* Image size, width is given, height is computed. */\n",
    "  const int xres = atoi(argv[6]);\n",
    "  const int yres = xres;\n",
    "\n",
    "  /* The output file name */\n",
    "  const char* filename = argv[7];\n",
    "\n",
    "  /* Open the output file and write the header. */\n",
    "  FILE * fp = fopen(filename,\"wb\");\n",
    "  char *comment=\"# Mandelbrot set\";/* comment should start with # */\n",
    "\n",
    "  int * k_vector = (int *) malloc(xres*yres*sizeof(int));\n",
    "  int **k = malloc(xres * sizeof(int*));\n",
    "  for (int r=0; r<xres; r++)\n",
    "      k[r] = &k_vector[r*yres]; \n",
    "\n",
    "  /*write ASCII header to the file*/\n",
    "  fprintf(fp,\n",
    "          \"P6\\n# Mandelbrot, xmin=%lf, xmax=%lf, ymin=%lf, ymax=%lf, maxiter=%d\\n%d\\n%d\\n%d\\n\",\n",
    "          xmin, xmax, ymin, ymax, maxiter, xres, yres, (maxiter < 256 ? 256 : maxiter));\n",
    "\n",
    "  /* Precompute pixel width and height. */\n",
    "  double dx=(xmax-xmin)/xres;\n",
    "  double dy=(ymax-ymin)/yres;\n",
    "\n",
    "  //Question 1\n",
    "  for (int j = 0; j < yres; j++) {\n",
    "    double y;\n",
    "    y = ymax - j * dy;\n",
    "    for(int i = 0; i < xres; i++) {\n",
    "      double u = 0.0;\n",
    "      double v= 0.0;\n",
    "      double u2 = u * u;\n",
    "      double v2 = v*v;\n",
    "      double x = xmin + i * dx;\n",
    "      k[i][j] = 0;\n",
    "      /* iterate the point */\n",
    "      for (k[i][j] = 1; k[i][j] < maxiter && (u2 + v2 < 4.0); k[i][j]++) {\n",
    "            v = 2 * u * v + y;\n",
    "            u = u2 - v2 + x;\n",
    "            u2 = u * u;\n",
    "            v2 = v * v;\n",
    "      }\n",
    "    }\n",
    "  }\n",
    "  \n",
    "  //Question 2\n",
    "  for (int j = 0; j < yres; j++) {\n",
    "    for(int i = 0; i < xres; i++) {\n",
    "      /* compute  pixel color and write it to file */\n",
    "      if (k[i][j] >= maxiter) {\n",
    "        /* interior */\n",
    "        const unsigned char black[] = {0, 0, 0, 0, 0, 0};\n",
    "        fwrite (black, 6, 1, fp);\n",
    "      }\n",
    "      else {\n",
    "        /* exterior */\n",
    "        unsigned char color[6];\n",
    "        color[0] = k[i][j] >> 8;\n",
    "        color[1] = k[i][j] & 255;\n",
    "        color[2] = k[i][j] >> 8;\n",
    "        color[3] = k[i][j] & 255;\n",
    "        color[4] = k[i][j] >> 8;\n",
    "        color[5] = k[i][j] & 255;\n",
    "        //Write color to output file.\n",
    "        fwrite(color, 6, 1, fp);\n",
    "      } \n",
    "    }\n",
    "  }\n",
    "\n",
    "  fclose(fp);\n",
    "  return 0;\n",
    "}\n",
    "```"
   ]
  },
  {
   "cell_type": "markdown",
   "metadata": {},
   "source": [
    "&#9989; **<font color=red>Question 1</font>**: (5 points) What OpenMP command should be included on the line with the ```Question 1``` comment to make the ```j``` loop run in parallel?  "
   ]
  },
  {
   "cell_type": "markdown",
   "metadata": {},
   "source": [
    "Put your answer to the above question here."
   ]
  },
  {
   "cell_type": "markdown",
   "metadata": {},
   "source": [
    "&#9989; **<font color=red>Question 2</font>**: (5 points) Explain why we can **_NOT_** include an omp parallel command at the output loop just after the comment ```Question 2```."
   ]
  },
  {
   "cell_type": "markdown",
   "metadata": {},
   "source": [
    "Put your answer to the above question here."
   ]
  },
  {
   "cell_type": "markdown",
   "metadata": {},
   "source": [
    "&#9989; **<font color=red>Question 3</font>**: (10 points) Explain why dynamic scheduling is probably better for this example."
   ]
  },
  {
   "cell_type": "markdown",
   "metadata": {},
   "source": [
    "Put your answer to the above question here."
   ]
  },
  {
   "cell_type": "markdown",
   "metadata": {},
   "source": [
    "&#9989; **<font color=red>Question 4</font>**: (5 points) The above code has quite a few minor changes from the original code.  For example, the declaration of variables ```x,y,i``` and ```j``` were moved from just before the loops to inside the loop so that each thread will have their own private variables and avoid data collisions.  However, one of the bigger modifications is that the variable ```k``` was changed from a single integer to an array of integers.  In your own words explain why an entire 2D array is necessary."
   ]
  },
  {
   "cell_type": "markdown",
   "metadata": {},
   "source": [
    "Put your answer to the above question here"
   ]
  },
  {
   "cell_type": "markdown",
   "metadata": {},
   "source": [
    "&#9989; **<font color=red>Question 5</font>**: (5 points) Assume that the above code is stored in a file named ```mandelbrot.c```, in your current directory.  What command(s) are needed to compile the code (with OpenMP and level 3 optimization) on a dev node and make an executable named ```mandelbrot```."
   ]
  },
  {
   "cell_type": "raw",
   "metadata": {},
   "source": [
    "Put the answer to the above question here"
   ]
  },
  {
   "cell_type": "markdown",
   "metadata": {},
   "source": [
    "----\n",
    "\n",
    "The following script runs the ```mandelbrot``` command 49 times at high resolution and generates a movie.  "
   ]
  },
  {
   "cell_type": "markdown",
   "metadata": {},
   "source": [
    "```bash\n",
    "#!/bin/bash \n",
    "mkdir -p images\n",
    "for i in {01..49}\n",
    "do\n",
    "   bot=$i\n",
    "   top=`printf \"%.2d \" $(( 100 - 10#$i ))` \n",
    "   time ./mandelbrot .269${bot} .269${top} .004${bot} .004${top} 1000 4096 ./images/pic${i}.ppm\n",
    "   convert -negate -normalize -fill blue -tint 100 ./images/pic${i}.ppm ./images/pic${i}.png\n",
    "   rm ./images/pic${i}.ppm\n",
    "done\n",
    "rm out.mp4\n",
    "ffmpeg  -i ./images/pic%02d.png -c:v libx264 -vf fps=25 -pix_fmt yuvj420p out.mp4\n",
    "\n",
    "```"
   ]
  },
  {
   "cell_type": "markdown",
   "metadata": {},
   "source": [
    "&#9989; **<font color=red>Question 6</font>**: (10 points)  Add SBATCH commands to the above bash script which will allow it to be submitted to the cluster and request a single node on the cluster with 20 cores.  Give the program 10\n",
    "minutes and 10gb of RAM to run. "
   ]
  },
  {
   "cell_type": "markdown",
   "metadata": {},
   "source": [
    "&#9989; **<font color=red>Question 7</font>**:  (5 points) This above bash script requires both ```ImageMagicK``` and ```FFmpeg``` programs to be available to run.  Modify the above submission script to ensure that the needed paths are set for both programs will run properly. "
   ]
  },
  {
   "cell_type": "markdown",
   "metadata": {},
   "source": [
    "&#9989; **<font color=red>Question 8</font>**:  (5 points) Assuming it takes the full 10 minutes to generate 50 frames for a 2 second video (25 frames per second).  Estimate how long it will take to generate a 10 minute video.  Explain how you came up with this calculation and show your work.\n"
   ]
  },
  {
   "cell_type": "markdown",
   "metadata": {},
   "source": [
    "Put your answer to the above question here."
   ]
  },
  {
   "cell_type": "markdown",
   "metadata": {},
   "source": [
    "---------\n",
    "### Congratulations, you're done with your EXAM\n",
    "\n",
    "Now, you just need to submit this assignment by uploading it to the course <a href=\"https://d2l.msu.edu/\">Desire2Learn</a> web page for today's dropbox.\n",
    "\n",
    "&#9989; **<font color=red>DO THIS:</font>**\n",
    "- Download the Notebook to your desktop with the filename using the format **\"<NETID\\>_Midterm-Exam.ipynb\"**.  Replace <NETID\\> in the filename with your personal MSU NetID (the stuff that comes before the @ symbol in your msu email address).\n",
    "- Upload the newly renamed notebook to the D2L dropbox. \n"
   ]
  },
  {
   "cell_type": "markdown",
   "metadata": {},
   "source": [
    "# Congratulations\n",
    "\n",
    "You are done with your quiz. Please save the file and upload the jupyter notebook to the D2L dropbox. Send a message to your Instructor though the zoom chat and let him know you are done and wait until you are excused.  "
   ]
  },
  {
   "cell_type": "markdown",
   "metadata": {
    "nbgrader": {
     "grade": false,
     "grade_id": "cell-72afc771eda28306",
     "locked": true,
     "schema_version": 3,
     "solution": false,
     "task": false
    }
   },
   "source": [
    "Written by Dr. Dirk Colbry, Michigan State University\n",
    "<a rel=\"license\" href=\"http://creativecommons.org/licenses/by-nc/4.0/\"><img alt=\"Creative Commons License\" style=\"border-width:0\" src=\"https://i.creativecommons.org/l/by-nc/4.0/88x31.png\" /></a><br />This work is licensed under a <a rel=\"license\" href=\"http://creativecommons.org/licenses/by-nc/4.0/\">Creative Commons Attribution-NonCommercial 4.0 International License</a>."
   ]
  },
  {
   "cell_type": "markdown",
   "metadata": {},
   "source": [
    "----"
   ]
  }
 ],
 "metadata": {
  "kernelspec": {
   "display_name": "Python 3 (ipykernel)",
   "language": "python",
   "name": "python3"
  },
  "language_info": {
   "codemirror_mode": {
    "name": "ipython",
    "version": 3
   },
   "file_extension": ".py",
   "mimetype": "text/x-python",
   "name": "python",
   "nbconvert_exporter": "python",
   "pygments_lexer": "ipython3",
   "version": "3.9.13"
  }
 },
 "nbformat": 4,
 "nbformat_minor": 1
}
