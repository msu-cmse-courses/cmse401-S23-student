{
 "cells": [
  {
   "cell_type": "markdown",
   "metadata": {},
   "source": [
    "[Link to this document's Jupyter Notebook](./0202--BASH_pre-class-assignment.ipynb)"
   ]
  },
  {
   "cell_type": "markdown",
   "metadata": {},
   "source": [
    "In order to successfully complete this assignment you must do the required reading, watch the provided videos and complete all instructions.  The embedded survey form must be entirely filled out and submitted on or before **11:59pm on Tuesday February 2**.  Students must come to class the next day prepared to discuss the material covered in this assignment. "
   ]
  },
  {
   "cell_type": "markdown",
   "metadata": {},
   "source": [
    "---\n",
    "\n"
   ]
  },
  {
   "cell_type": "markdown",
   "metadata": {},
   "source": [
    "# Pre-Class Assignment: BASH Scripting\n",
    "\n",
    "\n",
    "<a href=\"https://www.theurbanpenguin.com/scripting-power-repetition/shell-scripting-bash/\"><img src=\"data:image/jpeg;base64,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\" alt=\"Urban Penguin\"></a>\n",
    "\n",
    "<a href=\"https://swcarpentry.github.io/shell-novice/\"><img src=\"https://software-carpentry.org/assets/img/logo-blue.svg\" alt=\"software carpentry\"></a>"
   ]
  },
  {
   "cell_type": "markdown",
   "metadata": {},
   "source": [
    "# Goals for today's pre-class assignment \n",
    "\n",
    "1. [BASH Whitespace sensitivity](#BASH-Whitespace-sensitivity)\n",
    "2. [Running BASH Scripts](#Running-BASH-Scripts)\n",
    "3. [Executable files in Linux](#Executable-files-in-Linux)\n",
    "4. [ Explore Online Resources](#-Explore-Online-Resources)\n",
    "5. [Assignment wrap up](#Assignment-wrap-up)\n"
   ]
  },
  {
   "cell_type": "markdown",
   "metadata": {},
   "source": [
    "\n",
    "---\n",
    "<a name=BASH-Whitespace-sensitivity></a>\n",
    "# 1. BASH Whitespace sensitivity\n",
    "\n",
    "\n",
    "**WARNING** Bash is highly \"Whitespace sensitive\" (Much worse than Python and Python is bad enough).  This means that adding spaces and tabs can change how the programming language works. A common example is variable assignment.  Consider the following command which creates a variable called ```num_of_files``` which is the number of (non-hidden) files in the current directory:\n",
    "\n",
    "    num_of_files=`la -la * | wc -l`\n",
    "   \n",
    "If you add a few spaces to make it \"easier\" to read you can break the command. For example adding spaces around the ```=``` will cause a \"Command not found error\":\n",
    "\n",
    "    num_of_files = `la -la * | wc -l`\n",
    "    \n",
    "This sensitivity to whitespace can be quite annoying.  For this reason, pay close attention when you copy/paste examples from the internet.  "
   ]
  },
  {
   "cell_type": "markdown",
   "metadata": {},
   "source": [
    "\n",
    "\n",
    "---\n",
    "<a name=Running-BASH-Scripts></a>\n",
    "# 2. Running BASH Scripts\n",
    "\n",
    "\n",
    "\n",
    "There are multiple ways to run a BASH script.  \n",
    "\n",
    "### Option 1: Run bash directly\n",
    "In this option you run a new bash command inside of your bash terminal and then pass the bash command the name of your script file. For example:\n",
    "\n",
    "    bash ./myscript.sh\n",
    "    \n",
    "### Option 2: Source the Bash File\n",
    "You can also use the ```source``` command to run your script:\n",
    "\n",
    "    source ./myscript.sh\n",
    "    \n",
    "The difference between the ```source``` command and the ```bash``` command is that ```source``` runs your script inside your current instance of bash as if you typed the commands on the command line.  While, ```bash``` starts a new bash interpreter, runs the commands in that new interpreter and then returns control back to your bash command.  The ```source``` command can be extreamly useful if your bash script changes some enviornment variables and you want to keep the variables.  \n",
    "\n",
    "If you use the first, ```bash``` option, the bash command creates a new interpreter, your script would set some variables and then the interpreter would be closed before returning to yout main bash prompt. \n",
    "\n",
    "If you use the second, ```source``` option, the source command will execute in your current bash environment and change the variables in the scope of that environment. \n",
    "\n",
    "### Option 3: Make your script an executable\n",
    "For each file in Linux there is a \"flag\" indicating if the file is an executable.  If a file's executable flag is set (see below on how to set a files executable bit), you can run the file just by type the file name. For Example:\n",
    "\n",
    "    ./myscript.sh\n",
    "    \n",
    "If the file is in your PATH, then you can just type the name without the writing the path to the file. For example:\n",
    "\n",
    "    myscript.sh\n",
    "    \n",
    "**NOTE:** Since we are running our scripts form inside BASH the Linux operating system assumes they are BASH scripts.  However, we may not want to count on this assumption.  The first line of a executable script can be used to indicate what program Linux should use to run the script. For example:\n",
    "\n",
    "    #!/bin/bash\n",
    "    \n",
    "This line tells Linux to run this ASCII file inside of the ```/bin/bash``` program."
   ]
  },
  {
   "cell_type": "markdown",
   "metadata": {},
   "source": [
    "\n",
    "---\n",
    "<a name=Executable-files-in-Linux></a>\n",
    "# 3. Executable files in Linux\n",
    "\n",
    "\n",
    "\n",
    "You can check if a file's executable bit is set by running the \"ls -la\" command which has output similar to the following:\n",
    "\n",
    "    >ls -la\n",
    "    total 48K\n",
    "    drwxrwxr-x  2 colbrydi cmse    5 Jan  8 09:29 .\n",
    "    drwxrwxr-x 14 colbrydi cmse   35 Jan 24 08:34 ..\n",
    "    -rwxrwxr-x  1 colbrydi cmse 6.8K Jan  8 09:29 example\n",
    "    -rw-rw-r--  1 colbrydi cmse  747 Jan  8 09:29 example_calc_e.c\n",
    "    -rw-rw-r--  1 colbrydi cmse  209 Jan  8 09:29 README\n",
    "    \n",
    "The first cryptic looking string with 10 letters is the properties string for each file and looks something like that looks like ```drwxrwxr-x```.  The first character is the directory \"bit which has the following meaning:\n",
    "\n",
    "- ```d``` or ```-``` : Indicates if the file is a directory (or not)\n",
    "\n",
    "The first set of three letters (after the directory bit) are the permissions for the **user** of the file (in the above file the owner is ```colbrydi```).  The second set of three letters are the permissions for the **group** (in the above example the group is ```cmse```).  The final set of three letters are permissions for everyone or **all**.\n",
    "\n",
    "Each set of three letters have the following meanings:\n",
    "\n",
    "- ```r``` or ```-``` : indicates if the file is readable (or not)\n",
    "- ```w``` or ```-``` : Indicates if the file is writable (or not)\n",
    "- ```x``` or ```-``` : indicates if the file is executable (or not)\n",
    "\n",
    "**NOTE:** if the file is a directory (i.e. the directory bit is set to ```d```) then the executable bit indicates the category of users that can change into that directory."
   ]
  },
  {
   "cell_type": "markdown",
   "metadata": {},
   "source": [
    "&#9989; **<font color=red>QUESTION:</font>**  What category of users can execute a file with -rwxrwxr-- permissions?"
   ]
  },
  {
   "cell_type": "markdown",
   "metadata": {},
   "source": [
    "Put your answer to the above question here."
   ]
  },
  {
   "cell_type": "markdown",
   "metadata": {},
   "source": [
    "You can use the ```chmod``` (aka change mode) command to change permission bits.  For example, the following command takes the file ```myfile``` and sets the (o)wner's e(x)ecutable flag to true:\n",
    "\n",
    "    chmod u+x myfile\n",
    "\n",
    "You can also \"turn off\" the (o)wners e(x)ecutable flag by using the following command:\n",
    "\n",
    "    chmod u-x myfile\n",
    "    \n",
    "The format of the ```chmod``` command is quite simple.  You type ```chmod``` followed by the user catigory you want to change ( **u**ser, **g**oup, **a**ll). Then use a ```+``` to add that permission or ```-``` to remove the permission. Then the combination of letters ```rwx``` that you want to change."
   ]
  },
  {
   "cell_type": "markdown",
   "metadata": {},
   "source": [
    "&#9989; **<font color=red>QUESTION:</font>**  What command would you write to change the permissions or the ```myscript.sh``` file in your current directory so that the owner (i.e. user) has all of the permission bits set (read, write and execute)."
   ]
  },
  {
   "cell_type": "markdown",
   "metadata": {},
   "source": [
    "Put your answer to the above question here."
   ]
  },
  {
   "cell_type": "markdown",
   "metadata": {},
   "source": [
    "\n",
    "\n",
    "---\n",
    "<a name=-Explore-Online-Resources></a>\n",
    "# 4.  Explore Online Resources\n",
    "\n",
    "\n",
    "BASH has been around for many decades.  There are hundreds of tutorials available on line to help you learn how to use BASH effectively.  For example, the above images have links too two tutorials that you may find helpful.\n"
   ]
  },
  {
   "cell_type": "markdown",
   "metadata": {},
   "source": [
    "BASH is a programming language in it's own right.  So far in class we have learned:\n",
    "\n",
    "- BASH environment variables (env and export)\n",
    "- Comments in BASH (hint same as python)\n",
    "- How BASH finds commands to run (i.e. PATH and which)\n",
    "- Navigating the file system in BASH (ex. ls, cd, ., ~)\n",
    "\n",
    "In class, we will be building more complex BASH scripts.  To do more complex stuff in bash we need more complex commands. Specifically you need to know how to build BASH \"if\" statements and loops. \n",
    "\n",
    "&#9989; **<font color=red>DO THIS:</font>**  Explore the web to teach yourself how to use BASH ```if``` statements and ```for``` loops. Hint, use the keyword ```BASH``` when doing searches.  This will narrow the search down to examples you can use. Test what you learn by writing a submission script with an ```if``` example and a ```for``` example. "
   ]
  },
  {
   "cell_type": "markdown",
   "metadata": {},
   "source": [
    "&#9989; **<font color=red>QUESTION:</font>**  What is the keyword used to end an ```if``` statement in bash?"
   ]
  },
  {
   "cell_type": "markdown",
   "metadata": {},
   "source": [
    "Put your answer to the above question here."
   ]
  },
  {
   "cell_type": "markdown",
   "metadata": {},
   "source": [
    "&#9989; **<font color=red>QUESTION:</font>** Did you find any additional and helpful BASH tutorials not mentioned above?  Please provide a URL link to that tutorial. "
   ]
  },
  {
   "cell_type": "markdown",
   "metadata": {},
   "source": [
    "Put your answer to the above question here."
   ]
  },
  {
   "cell_type": "markdown",
   "metadata": {},
   "source": [
    "---\n",
    "<a name=Assignment-wrap-up></a>\n",
    "# 5. Assignment wrap up\n",
    "\n",
    "\n",
    "Please fill out the form that appears when you run the code below.  **You must completely fill this out in order to receive credits for the assignment!**\n",
    "\n",
    "[Direct Link to Google Form](https://cmse.msu.edu/cmse401-pc-survey)\n",
    "\n",
    "\n",
    "If you have trouble with the embedded form, please make sure you log on with your MSU google account at [googleapps.msu.edu](https://googleapps.msu.edu) and then click on the direct link above."
   ]
  },
  {
   "cell_type": "markdown",
   "metadata": {},
   "source": [
    "&#9989; **<font color=red>Assignment-Specific QUESTION:</font>**  Did you find any additional and helpful BASH tutorials not mentioned above?  Please provide a URL link to that tutorial. "
   ]
  },
  {
   "cell_type": "markdown",
   "metadata": {},
   "source": [
    "Put your answer to the above question here"
   ]
  },
  {
   "cell_type": "markdown",
   "metadata": {},
   "source": [
    "&#9989; **<font color=red>QUESTION:</font>**  Summarize what you did in this assignment."
   ]
  },
  {
   "cell_type": "markdown",
   "metadata": {},
   "source": [
    "Put your answer to the above question here"
   ]
  },
  {
   "cell_type": "markdown",
   "metadata": {},
   "source": [
    "&#9989; **<font color=red>QUESTION:</font>**  What questions do you have, if any, about any of the topics discussed in this assignment after working through the jupyter notebook?"
   ]
  },
  {
   "cell_type": "markdown",
   "metadata": {},
   "source": [
    "Put your answer to the above question here"
   ]
  },
  {
   "cell_type": "markdown",
   "metadata": {},
   "source": [
    "&#9989; **<font color=red>QUESTION:</font>**  How well do you feel this assignment helped you to achieve a better understanding of the above mentioned topic(s)?"
   ]
  },
  {
   "cell_type": "markdown",
   "metadata": {},
   "source": [
    "Put your answer to the above question here"
   ]
  },
  {
   "cell_type": "markdown",
   "metadata": {},
   "source": [
    "&#9989; **<font color=red>QUESTION:</font>** What was the **most** challenging part of this assignment for you? "
   ]
  },
  {
   "cell_type": "markdown",
   "metadata": {},
   "source": [
    "Put your answer to the above question here"
   ]
  },
  {
   "cell_type": "markdown",
   "metadata": {},
   "source": [
    "&#9989; **<font color=red>QUESTION:</font>** What was the **least** challenging part of this assignment for you? "
   ]
  },
  {
   "cell_type": "markdown",
   "metadata": {},
   "source": [
    "Put your answer to the above question here"
   ]
  },
  {
   "cell_type": "markdown",
   "metadata": {},
   "source": [
    "&#9989; **<font color=red>QUESTION:</font>**  What kind of additional questions or support, if any, do you feel you need to have a better understanding of the content in this assignment?"
   ]
  },
  {
   "cell_type": "markdown",
   "metadata": {},
   "source": [
    "Put your answer to the above question here"
   ]
  },
  {
   "cell_type": "markdown",
   "metadata": {},
   "source": [
    "&#9989; **<font color=red>QUESTION:</font>**  Do you have any further questions or comments about this material, or anything else that's going on in class?"
   ]
  },
  {
   "cell_type": "markdown",
   "metadata": {},
   "source": [
    "Put your answer to the above question here"
   ]
  },
  {
   "cell_type": "markdown",
   "metadata": {},
   "source": [
    "&#9989; **<font color=red>QUESTION:</font>** Approximately how long did this pre-class assignment take?"
   ]
  },
  {
   "cell_type": "markdown",
   "metadata": {},
   "source": [
    "Put your answer to the above question here"
   ]
  },
  {
   "cell_type": "code",
   "execution_count": null,
   "metadata": {},
   "outputs": [],
   "source": [
    "from IPython.display import HTML\n",
    "HTML(\n",
    "\"\"\"\n",
    "<iframe \n",
    "\tsrc=\"https://cmse.msu.edu/cmse401-pc-survey\" \n",
    "\twidth=\"100%\" \n",
    "\theight=\"500px\" \n",
    "\tframeborder=\"0\" \n",
    "\tmarginheight=\"0\" \n",
    "\tmarginwidth=\"0\">\n",
    "\tLoading...\n",
    "</iframe>\n",
    "\"\"\"\n",
    ")"
   ]
  },
  {
   "cell_type": "markdown",
   "metadata": {},
   "source": [
    "\n",
    "\n",
    "---------\n",
    "### Congratulations, we're done!\n",
    "\n",
    "To get credit for this assignment you must fill out and submit the above survey from on or before the assignment due date."
   ]
  },
  {
   "cell_type": "markdown",
   "metadata": {},
   "source": [
    "### Course Resources:\n",
    "\n",
    "\n",
    " - [Website](https://msu-cmse-courses.github.io/cmse802-f20-student/)\n",
    " - [ZOOM](https://msu.zoom.us/j/98207034052)\n",
    " - [JargonJar](https://docs.google.com/document/d/1ahg48CCFhRzUL-QIHzlt_KEf1XqsCasFBU4iePHhcug/edit#)\n",
    " - [GIT](https://gitlab.msu.edu/colbrydi/cmse401-s21.git)\n",
    "\n"
   ]
  },
  {
   "cell_type": "markdown",
   "metadata": {},
   "source": [
    "Written by Dr. Dirk Colbry, Michigan State University\n",
    "<a rel=\"license\" href=\"http://creativecommons.org/licenses/by-nc/4.0/\"><img alt=\"Creative Commons License\" style=\"border-width:0\" src=\"https://i.creativecommons.org/l/by-nc/4.0/88x31.png\" /></a><br />This work is licensed under a <a rel=\"license\" href=\"http://creativecommons.org/licenses/by-nc/4.0/\">Creative Commons Attribution-NonCommercial 4.0 International License</a>."
   ]
  },
  {
   "cell_type": "markdown",
   "metadata": {},
   "source": [
    "----"
   ]
  },
  {
   "cell_type": "markdown",
   "metadata": {},
   "source": [
    "----"
   ]
  }
 ],
 "metadata": {
  "anaconda-cloud": {},
  "kernelspec": {
   "display_name": "Python 3",
   "language": "python",
   "name": "python3"
  },
  "language_info": {
   "codemirror_mode": {
    "name": "ipython",
    "version": 3
   },
   "file_extension": ".py",
   "mimetype": "text/x-python",
   "name": "python",
   "nbconvert_exporter": "python",
   "pygments_lexer": "ipython3",
   "version": "3.7.3"
  }
 },
 "nbformat": 4,
 "nbformat_minor": 2
}
