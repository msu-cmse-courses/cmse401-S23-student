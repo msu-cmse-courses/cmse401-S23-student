{
 "cells": [
  {
   "cell_type": "markdown",
   "metadata": {},
   "source": [
    "[Link to this document's Jupyter Notebook](./14i-OMP_Loops_in-class-assignment.ipynb)"
   ]
  },
  {
   "cell_type": "markdown",
   "metadata": {},
   "source": [
    "In order to successfully complete this assignment you need to participate both individually and in groups during class.   If you attend class in-person then have one of the instructors check your notebook and sign you out before leaving class on **Friday February 10**."
   ]
  },
  {
   "cell_type": "markdown",
   "metadata": {},
   "source": [
    "---\n",
    "\n"
   ]
  },
  {
   "cell_type": "markdown",
   "metadata": {},
   "source": [
    "# In-Class Assignment: Loops\n",
    "\n",
    "\n",
    "<img alt=\"Image showing a simple c/c++ loop code and a graphical representaiton of the loops\" src=\"https://upload.wikimedia.org/wikipedia/commons/2/2c/For_loop.png\">\n",
    "\n",
    "Image from: https://en.wikipedia.org/wiki/For_loop\n"
   ]
  },
  {
   "cell_type": "markdown",
   "metadata": {},
   "source": [
    "### Agenda for today's class (70 minutes)\n",
    "\n",
    "\n",
    "1. (20 minutes) [Pre class Review](#Pre-class-Review)\n",
    "2. (20 minutes) [OpenMP Loop Pi Code](#OpenMP-Loop-Pi-Code)\n",
    "3. (30 minutes) [Matrix Multiply](#Matrix_Multiply)\n",
    "\n",
    "\n",
    "\n"
   ]
  },
  {
   "cell_type": "markdown",
   "metadata": {},
   "source": [
    "\n",
    "\n",
    "---\n",
    "<a name=Pre-class-Review></a>\n",
    "# 1. Pre class Review\n",
    "\n",
    "\n",
    "\n",
    "\n",
    "\n",
    "In class we will talk about the basic loop sharing construct which looks like the following:\n",
    "\n",
    "```c++\n",
    "#pragma omp parallel\n",
    "{\n",
    "    #pragma omp for\n",
    "    for (int i=0; i < max_itr; i++)\n",
    "    {\n",
    "\n",
    "    }\n",
    "}\n",
    "```\n",
    "\n",
    "\n",
    "- [0216--OMP_Loops_pre-class-assignment](0216--OMP_Loops_pre-class-assignment.ipynb)\n"
   ]
  },
  {
   "cell_type": "markdown",
   "metadata": {},
   "source": [
    "\n",
    "---\n",
    "<a name=OpenMP-Loop-Pi-Code></a>\n",
    "# 2. OpenMP Loop Example: Pi Code\n",
    "\n",
    "Next we will try to help each other out so that everyone gets a parallel OpenMP version of the Pi-code working.  Here are some instructions\n",
    "\n",
    "- If you are stuck or confused, raise your hand and ask for help.\n",
    "- If you get stuck review code in the Google document. \n",
    "- Help your neighbors\n",
    "- Share all of your solutions with each other using the following Google Document.\n",
    "- Review the Google Document and learn from each other's solutions.\n",
    "\n",
    "[Group Google Document](https://docs.google.com/document/d/1ySdREPlhHzk71BNMl_Y1dBRD-ZXeJZ4aWesfnrczuvs/edit?usp=sharing)"
   ]
  },
  {
   "cell_type": "markdown",
   "metadata": {},
   "source": [
    "---\n",
    "<a name=\"Matrix_Multiply\"></a>\n",
    "\n",
    "# OpenMP example: Matrix Multiply\n",
    "\n",
    "\n",
    "A simple matrix multiply between matrix $A$ (with $m$ rows and $k$ columns) and matrix $B$ (with $k$ rows and $n$ columns) into matrix $C$ (with $m$ rows and $n$ columns) is defined as follows:\n",
    "\n",
    "$$A_{(m\\times k)} \\times B_{(k\\times n)} = C_{(m\\times n)} $$\n",
    "\n",
    "Where each $m,n$ element in $C$ (aka $c_{m,n}$) is calculated using the dot product of the $m^{th}$ row of $A$ by the $n^{th}$ column of $B$:\n",
    "\n",
    "$$c_{m,n} = a_{m,1}b_{1,n} + \\dots + a_{m,k}b_{k,n}$$\n",
    "\n",
    "More information about matrix multiply can be found [here](https://en.wikipedia.org/wiki/Matrix_multiplication).\n",
    "\n",
    "The following C++ program is the first part of  the file `matmul.cpp` in the class repository. It can be used to calculate a matrix multiplication between $A$ and $B$:"
   ]
  },
  {
   "cell_type": "markdown",
   "metadata": {},
   "source": [
    "```c++\n",
    "int main(int argc, char *argv[]){\n",
    "\n",
    "    std::default_random_engine generator;\n",
    "    std::normal_distribution<double> distribution(0.0,1.0);\n",
    "\n",
    "    // matrix size\n",
    "    int N = 10, M = 10, K = 10;\n",
    "\n",
    "// Accept input numbers for array sizes (m,k,n)\n",
    "    if (argc > 1)\n",
    "        M = atoi(argv[1]);\n",
    "\n",
    "    if (argc > 2)\n",
    "        K = atoi(argv[2]);\n",
    "\n",
    "    if (argc > 3)\n",
    "        N = atoi(argv[3]);\n",
    "\n",
    "    Darray2 A,B,C; // Define Matrices\n",
    "    A.define(1,M,1,K);\n",
    "    B.define(1,K,1,N);\n",
    "    C.define(1,M,1,N);\n",
    "    for (int j = 1; j <= K ; j++)\n",
    "      for (int i = 1; i <= M ; i++)\n",
    "    \tA(i,j) = distribution(generator);\n",
    "\n",
    "    for (int j = 1; j <= N ; j++)\n",
    "      for (int i = 1; i <= K ; i++)\n",
    "    \tB(i,j) = distribution(generator);\n",
    "\n",
    "//  Only time the actual matmul\n",
    "    auto begin = std::chrono::high_resolution_clock::now();\n",
    "\n",
    "    for (int j = 1; j <= N ; j++)\n",
    "      for (int i = 1; i <= M ; i++)\n",
    "      {\n",
    "        double cij = 0.0;\n",
    "         for (int k = 1; k <= K ; k++)\n",
    "            cij += A(i,k)*B(k,j);\n",
    "        C(i,j) = cij;\n",
    "      }    \n",
    "\n",
    "    auto end = std::chrono::high_resolution_clock::now();\n",
    "    auto elapsed = std::chrono::duration_cast<std::chrono::nanoseconds>(end - begin);\n",
    "    cout << \"Matmul 1 [s]: \" << elapsed.count()*1e-9 << endl;\n",
    "```"
   ]
  },
  {
   "cell_type": "markdown",
   "metadata": {},
   "source": [
    "&#9989; **<font color=red>Do This</font>**: Inspect the above code?  Can you figure out what it is doing and why?  "
   ]
  },
  {
   "cell_type": "markdown",
   "metadata": {},
   "source": [
    "&#9989; **<font color=red>Do This</font>**: Get the above code to compile and run on the HPCC.  Check the answers to make sure they seem correct. Experiment with different values of $m,n$ and $k$ to see how much time it takes for different sizes. Make a few nice plots.  Note very large values may cause a segmentation fault (why?)?"
   ]
  },
  {
   "cell_type": "markdown",
   "metadata": {},
   "source": [
    "&#9989; **<font color=red>DO THIS</font>**:  Modify the above code and compile it using OpenMP parallel for loops. Use the plain vanilla OpenMP for loop in the second matmul and experiment with `collapse` and `schedule` in the third. Use a bash script to loop over many different sizes and make a few nice plots of the results. Are you able to increase the speed of the code?"
   ]
  },
  {
   "cell_type": "markdown",
   "metadata": {},
   "source": [
    "\n",
    "\n",
    "-----\n",
    "### Congratulations, we're done!\n",
    "\n",
    "If you attend class in-person then have one of the instructors check your notebook and sign you out before leaving class. If you are attending asynchronously, turn in your assignment using D2L."
   ]
  },
  {
   "cell_type": "markdown",
   "metadata": {},
   "source": [
    "### Course Resources:\n",
    "\n",
    "\n",
    " - [Website](https://msu-cmse-courses.github.io/cmse401-S23-student/)\n",
    " - [ZOOM](https://msu.zoom.us/j/)\n",
    " - [JargonJar](https://docs.google.com/document/d/1-oIiXzrs9pPspGWUzcSZzVgzqs0emTjegsomX4R5bYo/edit?usp=sharing)\n",
    " - [GIT](https://gitlab.msu.edu/appeloda/cmse401-s23.git)\n",
    "\n"
   ]
  },
  {
   "cell_type": "markdown",
   "metadata": {},
   "source": [
    "Written by Dr. Dirk Colbry, Michigan State University\n",
    "<a rel=\"license\" href=\"http://creativecommons.org/licenses/by-nc/4.0/\"><img alt=\"Creative Commons License\" style=\"border-width:0\" src=\"https://i.creativecommons.org/l/by-nc/4.0/88x31.png\" /></a><br />This work is licensed under a <a rel=\"license\" href=\"http://creativecommons.org/licenses/by-nc/4.0/\">Creative Commons Attribution-NonCommercial 4.0 International License</a>."
   ]
  },
  {
   "cell_type": "markdown",
   "metadata": {},
   "source": [
    "----"
   ]
  }
 ],
 "metadata": {
  "kernelspec": {
   "display_name": "Python 3 (ipykernel)",
   "language": "python",
   "name": "python3"
  },
  "language_info": {
   "codemirror_mode": {
    "name": "ipython",
    "version": 3
   },
   "file_extension": ".py",
   "mimetype": "text/x-python",
   "name": "python",
   "nbconvert_exporter": "python",
   "pygments_lexer": "ipython3",
   "version": "3.9.13"
  }
 },
 "nbformat": 4,
 "nbformat_minor": 2
}
