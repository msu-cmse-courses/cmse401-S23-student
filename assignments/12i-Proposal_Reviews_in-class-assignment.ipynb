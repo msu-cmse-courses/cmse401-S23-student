{
 "cells": [
  {
   "cell_type": "markdown",
   "metadata": {},
   "source": [
    "[Link to this document's Jupyter Notebook](./0212-Proposal_Reviews_in-class-assignment.ipynb)"
   ]
  },
  {
   "cell_type": "markdown",
   "metadata": {},
   "source": [
    "In order to successfully complete this assignment you need to participate both individually and in groups during class.   If you attend class in-person then have one of the instructors check your notebook and sign you out before leaving class on **Friday February 12**. If you are attending asynchronously, turn in your assignment using D2L no later than **_11:59pm on Friday February 12**. "
   ]
  },
  {
   "cell_type": "markdown",
   "metadata": {},
   "source": [
    "---\n",
    "\n"
   ]
  },
  {
   "cell_type": "markdown",
   "metadata": {},
   "source": [
    "# In-Class Assignment: Project Proposals\n",
    "\n",
    "<img alt=\"Project ideas\" src=\"https://d2slcw3kip6qmk.cloudfront.net/marketing/blog/2017Q2/project-planning-header@2x.png\">"
   ]
  },
  {
   "cell_type": "markdown",
   "metadata": {},
   "source": [
    "### Agenda for today's class (70 minutes)\n",
    "\n",
    "1. (50 minutes) [Project Sharing](#Project-Sharing)\n",
    "3. (20 minutes) [Brainstorming](#Brainstorming)\n",
    "\n",
    "\n"
   ]
  },
  {
   "cell_type": "markdown",
   "metadata": {},
   "source": [
    "\n",
    "---\n",
    "<a name=Project-Sharing></a>\n",
    "# 1. Project Sharing\n",
    "\n",
    "\n",
    "\n",
    "\n",
    "- [0211-PROJECT_Proposal](0211-PROJECT_Proposal.ipynb)\n",
    "\n",
    "Today we are going to spend time breaking up into groups and discussing project proposals.  Our goal is to find overlap between student's so you can form groups and help each other out.  \n",
    "\n",
    "Your instructor will assign different topics to each room:  for example Room 1 is apples, Room 2 is oranges, Room 3 is bananas.  You pick the room you want to join based on your topic and change your zoom username to start with a room number.  This way your instructor can quickly and easily add you too a room. For example, if my name is \"Dirk Colbry\" and I want to join the room about Oranges I would rename myself to \"2 Dirk Colbry\".  \n",
    "\n",
    "Hope that makes sense. \n",
    "\n",
    "&#9989;  **<font color=red>DO THIS</font>**: select a room to join.  Each person in the room spend about 2-3 minutes talking about each of your projects as it relates to the room topic.  Your goal is to identify similarities between your projects.  Take notes about what you discussed and the names/contact information if you want to connect with someone.    \n",
    "\n",
    "\n",
    "Breakout rooms will last about 10-15 minutes and then we will switch to a new topic. "
   ]
  },
  {
   "cell_type": "markdown",
   "metadata": {},
   "source": [
    "---\n",
    "<a name=Brainstorming></a>\n",
    "# 2. Brainstorming\n",
    "\n",
    "The last thing we will do today is summaries the connections we have made between the projects and brainstorm ways students can connect and learn from each other.  You are still expected to do your own project but it is encouraged that you work with each other.  \n",
    "\n",
    "- [Notes about Project Collaboration Opportunities](https://docs.google.com/document/d/1vGXeeLFCPRHmbkA137uLTMyEOo1ztpohsyom4dujMG4/edit#heading=h.892eimo1r3h)\n"
   ]
  },
  {
   "cell_type": "markdown",
   "metadata": {},
   "source": [
    "\n",
    "\n",
    "-----\n",
    "### Congratulations, we're done!\n",
    "\n",
    "If you attend class in-person then have one of the instructors check your notebook and sign you out before leaving class. If you are attending asynchronously, turn in your assignment using D2L."
   ]
  },
  {
   "cell_type": "markdown",
   "metadata": {},
   "source": [
    "### Course Resources:\n",
    "\n",
    "\n",
    " - [Website](https://msu-cmse-courses.github.io/cmse401-S23-student/)\n",
    " - [ZOOM](https://msu.zoom.us/j/)\n",
    " - [JargonJar](https://docs.google.com/document/d/1-oIiXzrs9pPspGWUzcSZzVgzqs0emTjegsomX4R5bYo/edit?usp=sharing)\n",
    " - [GIT](https://gitlab.msu.edu/appeloda/cmse401-s23.git)\n",
    "\n"
   ]
  },
  {
   "cell_type": "markdown",
   "metadata": {},
   "source": [
    "Written by Dr. Dirk Colbry, Michigan State University\n",
    "<a rel=\"license\" href=\"http://creativecommons.org/licenses/by-nc/4.0/\"><img alt=\"Creative Commons License\" style=\"border-width:0\" src=\"https://i.creativecommons.org/l/by-nc/4.0/88x31.png\" /></a><br />This work is licensed under a <a rel=\"license\" href=\"http://creativecommons.org/licenses/by-nc/4.0/\">Creative Commons Attribution-NonCommercial 4.0 International License</a>."
   ]
  },
  {
   "cell_type": "markdown",
   "metadata": {},
   "source": [
    "----"
   ]
  }
 ],
 "metadata": {
  "kernelspec": {
   "display_name": "Python 3",
   "language": "python",
   "name": "python3"
  },
  "language_info": {
   "codemirror_mode": {
    "name": "ipython",
    "version": 3
   },
   "file_extension": ".py",
   "mimetype": "text/x-python",
   "name": "python",
   "nbconvert_exporter": "python",
   "pygments_lexer": "ipython3",
   "version": "3.7.3"
  }
 },
 "nbformat": 4,
 "nbformat_minor": 2
}
