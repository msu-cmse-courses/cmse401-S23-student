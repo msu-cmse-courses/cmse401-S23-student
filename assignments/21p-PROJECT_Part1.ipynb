{
 "cells": [
  {
   "cell_type": "markdown",
   "metadata": {},
   "source": [
    "[Link to this document's Jupyter Notebook](./0325-PROJECT_Part1.ipynb)"
   ]
  },
  {
   "cell_type": "markdown",
   "metadata": {},
   "source": [
    "# Project Part 1: Software Exploration\n",
    "\n",
    "\n",
    "In this milestone you will provide an example folder in your git repository with installation instructions and example files in a compact format which will allow your instructor and your peers to run the software you you choose to evaluate in your project proposal.   There are four basic things you need to provide with this milestone project:\n",
    "\n",
    "1. [Software Abstract](#Software-Abstract)\n",
    "2. [Installation](#Installation)\n",
    "3. [Example Code](#Example-Code)\n",
    "4. [Submission script](#Submission-script)\n",
    "5. [References](#References)\n",
    "\n"
   ]
  },
  {
   "cell_type": "markdown",
   "metadata": {},
   "source": [
    "\n",
    "\n",
    "---\n",
    "<a name=Software-Abstract></a>\n",
    "# 1. Software Abstract\n",
    "\n",
    "\n",
    "\n",
    "&#9989;  Create an example directory with a logical name relating to the program you evaluated.  Include this directory in your github repository.  Inside the directory add a ```README.md``` file and include a short description about the software you evaluated and how it is used in science and engineering.  Is this a programming tool, some sort of \"middle wear\" or an application?\n"
   ]
  },
  {
   "cell_type": "markdown",
   "metadata": {},
   "source": [
    "\n",
    "\n",
    "---\n",
    "<a name=Installation></a>\n",
    "# 2. Installation\n",
    "\n",
    "&#9989;  In the ```README.md``` file (after the abstract)  provide step-by-step instructions for installing the software on the HPCC.  Include all commands, instructions or submission scripts that will allow your instructor and peers to install and use the software on themselves. \n"
   ]
  },
  {
   "cell_type": "markdown",
   "metadata": {},
   "source": [
    "\n",
    "\n",
    "\n",
    "---\n",
    "<a name=Example-Code></a>\n",
    "# 3. Example Code\n",
    "\n",
    "\n",
    "\n",
    "&#9989;  Provided small example data, scripts and instructions to run the code from within your example directory.  These instructions should be detailed enough for a future student to be able to read the ```README.md``` file to get the software up and running. If possible provide these instructions similar to the GetExamples you saw in class. Ideally this example should take no more than 5 minutes to run so individuals testing the code can get an idea how it works.  "
   ]
  },
  {
   "cell_type": "markdown",
   "metadata": {},
   "source": [
    "\n",
    "\n",
    "---\n",
    "<a name=Submission-script></a>\n",
    "# 4. Submission script\n",
    "\n",
    "&#9989;  Include a submission script for getting the code to run using the batch scheduler.  Try to use the ```sb``` extension and properly comment the script. "
   ]
  },
  {
   "cell_type": "markdown",
   "metadata": {},
   "source": [
    "---\n",
    "<a name=References></a>\n",
    "# 5. References\n",
    "\n",
    "At the end of the ```README.md``` file, provide a list of references and links for where you got the examples and any additional resources someone may need.  \n"
   ]
  },
  {
   "cell_type": "markdown",
   "metadata": {},
   "source": [
    "-----\n",
    "### &#9989;  Congratulations, you are done!\n",
    "\n",
    "Now, you just need to submit this report by adding files to your git repository and pushing those files to the central repository.  You instructor should already have your git repository and be able to pull in your changes. "
   ]
  },
  {
   "cell_type": "markdown",
   "metadata": {},
   "source": [
    "Written by Dr. Dirk Colbry, Michigan State University\n",
    "<a rel=\"license\" href=\"http://creativecommons.org/licenses/by-nc/4.0/\"><img alt=\"Creative Commons License\" style=\"border-width:0\" src=\"https://i.creativecommons.org/l/by-nc/4.0/88x31.png\" /></a><br />This work is licensed under a <a rel=\"license\" href=\"http://creativecommons.org/licenses/by-nc/4.0/\">Creative Commons Attribution-NonCommercial 4.0 International License</a>."
   ]
  },
  {
   "cell_type": "markdown",
   "metadata": {},
   "source": [
    "----"
   ]
  }
 ],
 "metadata": {
  "anaconda-cloud": {},
  "kernelspec": {
   "display_name": "Python 3",
   "language": "python",
   "name": "python3"
  },
  "language_info": {
   "codemirror_mode": {
    "name": "ipython",
    "version": 3
   },
   "file_extension": ".py",
   "mimetype": "text/x-python",
   "name": "python",
   "nbconvert_exporter": "python",
   "pygments_lexer": "ipython3",
   "version": "3.7.3"
  }
 },
 "nbformat": 4,
 "nbformat_minor": 1
}
