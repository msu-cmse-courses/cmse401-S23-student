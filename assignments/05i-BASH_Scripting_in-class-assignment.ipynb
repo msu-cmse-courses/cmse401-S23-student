{
 "cells": [
  {
   "cell_type": "markdown",
   "metadata": {},
   "source": [
    "[Link to this document's Jupyter Notebook](./05i-BASH_Scripting_in-class-assignment.ipynb)"
   ]
  },
  {
   "cell_type": "markdown",
   "metadata": {},
   "source": [
    "In order to successfully complete this assignment you need to participate both individually and in groups during class.   If you attend class in-person then have one of the instructors check your notebook and sign you out before leaving class on **_Friday January 19_**."
   ]
  },
  {
   "cell_type": "markdown",
   "metadata": {},
   "source": [
    "---\n",
    "\n"
   ]
  },
  {
   "cell_type": "markdown",
   "metadata": {},
   "source": [
    "# In-Class Assignment: BASH\n",
    "\n",
    "\n",
    "<img alt=\"Simple logo for the bourne again shell\" src=\"https://cdn-images-1.medium.com/max/1600/1*FIjDPNm9zRO_ESbUiGmCXA.png\" width=75%>"
   ]
  },
  {
   "cell_type": "markdown",
   "metadata": {},
   "source": [
    "### Agenda for today's class (70 minutes)\n",
    "\n",
    "1. [Pre class Review](#Pre-class-Review)\n",
    "2. [BASH Tour](#BASH-Tour)\n",
    "3. [Challenges](#Challenges)\n",
    "\n"
   ]
  },
  {
   "cell_type": "markdown",
   "metadata": {},
   "source": [
    "\n",
    "\n",
    "---\n",
    "<a name=Pre-class-Review></a>\n",
    "# 1. Pre class Review\n",
    "\n",
    "- [05p--ENV_pre-class-assignment](05p--ENV_pre-class-assignment.ipynb)"
   ]
  },
  {
   "cell_type": "markdown",
   "metadata": {},
   "source": [
    "\n",
    "---\n",
    "<a name=BASH-Tour></a>\n",
    "# 2. BASH Tour\n",
    "\n",
    "[Bash cheatsheet](https://devhints.io/bash)\n",
    "\n",
    "\n",
    "\n",
    "&#9989; **<font color=red>QUESTION:</font>** What are the key components of a programming language?  What are the minimally useful set of commands you need to do something interesting in a programming language?\n",
    "\n",
    "- Variables\n",
    "    - input arguments\n",
    "    - Return variables\n",
    "- Process IDs\n",
    "- Block code\n",
    "    - If statements\n",
    "    - Loops\n",
    "- piping and redirection\n",
    "- Common BASH Commands\n",
    "    - ls\n",
    "    - pwd \n",
    "    - find\n",
    "    - cat, more or less\n",
    "    - grep \n",
    "    - sed\n",
    "    - cut\n",
    "    - wc\n",
    " "
   ]
  },
  {
   "cell_type": "markdown",
   "metadata": {},
   "source": [
    "**<font color=red>EXAMPLE:</font>** Run the following command in the BCCD Directory. \n",
    "\n",
    "```bash\n",
    "echo $PATH | sed -e \"s/:/\\n/g\"\n",
    "```"
   ]
  },
  {
   "cell_type": "markdown",
   "metadata": {},
   "source": [
    "**<font color=red>EXAMPLE:</font>** Run the following command in one of the `BCCD_Examples` directory with a ```Makefile```. \n",
    "\n",
    "```bash\n",
    "cat Makefile | grep cd | grep MAKE | cut -d \"d\" -f2- | cut -d \";\" -f 1 | sort | uniq\n",
    "```"
   ]
  },
  {
   "cell_type": "markdown",
   "metadata": {},
   "source": [
    "\n",
    "\n",
    "---\n",
    "<a name=Challenges></a>\n",
    "# 3. Challenges\n",
    "\n",
    "**<font color=red>Challenge 1:</font>**  Write a BASH script that uses `squeue`, `wc` and `sort` to  do something \"useful\"."
   ]
  },
  {
   "cell_type": "markdown",
   "metadata": {},
   "source": [
    "**<font color=red>Challenge 2:</font>** Write a submission script that takes a command as an input and runs the command 10 times and prints the time to the screen. For an extra challenge also print the average time."
   ]
  },
  {
   "cell_type": "markdown",
   "metadata": {},
   "source": [
    "**<font color=red>Challenge 3:</font>** Write a bash script that renames all of the files in a directory with the ```out``` extension to all uppercase."
   ]
  },
  {
   "cell_type": "markdown",
   "metadata": {},
   "source": [
    "**<font color=red>Challenge 4:</font>**  Write a bash script to start a program and make sure it only runs for 1 minute.  If the program takes longer than a minute to run it should be \"killed\" an an error message printed to the screen. For simplicity, use the ```sleep 10``` command as the \"test\" program.  For an extra challenge allow the long running command to be passed into the script as an input variable. "
   ]
  },
  {
   "cell_type": "markdown",
   "metadata": {},
   "source": [
    "\n",
    "\n",
    "-----\n",
    "### Congratulations, we're done!\n",
    "\n",
    "If you attend class in-person then have one of the instructors check your notebook and sign you out before leaving class. If you are attending asynchronously, turn in your assignment using D2L."
   ]
  },
  {
   "cell_type": "markdown",
   "metadata": {},
   "source": [
    "### Course Resources:\n",
    "\n",
    "\n",
    " - [Website](https://msu-cmse-courses.github.io/cmse401-S23-student/)\n",
    " - [ZOOM](https://msu.zoom.us/j/)\n",
    " - [JargonJar](https://docs.google.com/document/d/1-oIiXzrs9pPspGWUzcSZzVgzqs0emTjegsomX4R5bYo/edit?usp=sharing)\n",
    " - [GIT](https://gitlab.msu.edu/appeloda/cmse401-s23.git)\n",
    "\n"
   ]
  },
  {
   "cell_type": "markdown",
   "metadata": {},
   "source": [
    "Written by Dr. Dirk Colbry, Michigan State University\n",
    "<a rel=\"license\" href=\"http://creativecommons.org/licenses/by-nc/4.0/\"><img alt=\"Creative Commons License\" style=\"border-width:0\" src=\"https://i.creativecommons.org/l/by-nc/4.0/88x31.png\" /></a><br />This work is licensed under a <a rel=\"license\" href=\"http://creativecommons.org/licenses/by-nc/4.0/\">Creative Commons Attribution-NonCommercial 4.0 International License</a>."
   ]
  },
  {
   "cell_type": "markdown",
   "metadata": {},
   "source": [
    "----"
   ]
  }
 ],
 "metadata": {
  "kernelspec": {
   "display_name": "Python 3 (ipykernel)",
   "language": "python",
   "name": "python3"
  },
  "language_info": {
   "codemirror_mode": {
    "name": "ipython",
    "version": 3
   },
   "file_extension": ".py",
   "mimetype": "text/x-python",
   "name": "python",
   "nbconvert_exporter": "python",
   "pygments_lexer": "ipython3",
   "version": "3.8.3"
  }
 },
 "nbformat": 4,
 "nbformat_minor": 2
}
