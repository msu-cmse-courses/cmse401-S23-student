{
 "cells": [
  {
   "cell_type": "markdown",
   "metadata": {},
   "source": [
    "[Link to this document's Jupyter Notebook](./0407-MPI_Planning_in-class-assignment.ipynb)"
   ]
  },
  {
   "cell_type": "markdown",
   "metadata": {},
   "source": [
    "In order to successfully complete this assignment you need to participate both individually and in groups during class.   If you attend class in-person then have one of the instructors check your notebook and sign you out before leaving class on **Wednesday April 7**. If you are attending asynchronously, turn in your assignment using D2L no later than **_11:59pm on Wednesday April 7**. "
   ]
  },
  {
   "cell_type": "markdown",
   "metadata": {},
   "source": [
    "---\n",
    "\n"
   ]
  },
  {
   "cell_type": "markdown",
   "metadata": {},
   "source": [
    "# In-Class Assignment: Message Planning\n",
    "<img alt=\"Image of people sitting around a desk talking.\" src=\"data:image/png;base64,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\" width=\"50%\">"
   ]
  },
  {
   "cell_type": "markdown",
   "metadata": {},
   "source": [
    "### Agenda for today's class (70 minutes)\n",
    "\n",
    "1. (30 minutes) [Problem Analysis](#Problem-Analysis)\n",
    "2. (10 minutes)[Slide Show](#Slide-Show)\n",
    "3. (30 minutes) [Presentations](#Presentations)\n",
    "\n"
   ]
  },
  {
   "cell_type": "markdown",
   "metadata": {},
   "source": [
    "\n",
    "\n",
    "---\n",
    "<a name=Problem-Analysis></a>\n",
    "# 1. Problem Analysis\n",
    "\n",
    "\n",
    "\n",
    "In class, lets split up into groups and each group will get one of the following problem examples:\n",
    "\n",
    "1. [HW1_Wave Equation](0128-HW1_Wave_Equation.ipynb)\n",
    "1. [Image Processing](0225-HW2_OMP.ipynb)\n",
    "1. [Conway's Game of Life](0318-HW3_CUDA.ipynb)\n",
    "2. [Rumor Problem](0331-MPI_Practice_in-class-assignment.ipynb)\n",
    "\n",
    "\n",
    "Review your example and think about how you would implement it using MPI code.  Find the code provided and comment on where you would modify the code if you were to make it an MPI program.  Come up with a \"typical Example\" of a size of problem you think would be interesting scientifically.  What is good and bad about implementing this example in MPI?\n"
   ]
  },
  {
   "cell_type": "markdown",
   "metadata": {},
   "source": [
    "\n",
    "\n",
    "---\n",
    "<a name=Slide-Show></a>\n",
    "# 2. Slide Show\n",
    "\n",
    "\n",
    "\n",
    "As an experiment I want to see if we can do group slide presentations \"on the fly\".  Use the following link to make a 5 minute (2-3 slides) presentation for your group discussing the problem you were given and what you discussed.   \n",
    "\n",
    "Include the names of your group on the title slide.  Add, Change and Modify slides as you see fit. Use pictures to convey information and avoid wordy slides. \n",
    "\n",
    "Do not change the slide template as this will change the template for everyone.\n",
    "\n",
    "[Edit your groups slides here](https://docs.google.com/presentation/d/17pUIi0Vih1dlF40fVq7G5gUcQEXWVa86tQDSPXbBiHo/edit#slide=id.p)\n"
   ]
  },
  {
   "cell_type": "markdown",
   "metadata": {},
   "source": [
    "\n",
    "---\n",
    "<a name=Presentations></a>\n",
    "# 3. Presentations\n",
    "Each group will be given 5 minutes to summarize their problem and their discussion.  Assume your audience is the class and is familiar with the problem and the terminology we use for class.  Try to highlight things that came up in your discussion that was unexpected and would be of interest to you and the class.  "
   ]
  },
  {
   "cell_type": "markdown",
   "metadata": {},
   "source": [
    "\n",
    "\n",
    "-----\n",
    "### Congratulations, we're done!\n",
    "\n",
    "If you attend class in-person then have one of the instructors check your notebook and sign you out before leaving class. If you are attending asynchronously, turn in your assignment using D2L."
   ]
  },
  {
   "cell_type": "markdown",
   "metadata": {},
   "source": [
    "### Course Resources:\n",
    "\n",
    "\n",
    " - [Website](https://msu-cmse-courses.github.io/cmse401-S23-student/)\n",
    " - [ZOOM](https://msu.zoom.us/j/)\n",
    " - [JargonJar](https://docs.google.com/document/d/1-oIiXzrs9pPspGWUzcSZzVgzqs0emTjegsomX4R5bYo/edit?usp=sharing)\n",
    " - [GIT](https://gitlab.msu.edu/appeloda/cmse401-s23.git)\n",
    "\n"
   ]
  },
  {
   "cell_type": "markdown",
   "metadata": {},
   "source": [
    "Written by Dr. Dirk Colbry, Michigan State University\n",
    "<a rel=\"license\" href=\"http://creativecommons.org/licenses/by-nc/4.0/\"><img alt=\"Creative Commons License\" style=\"border-width:0\" src=\"https://i.creativecommons.org/l/by-nc/4.0/88x31.png\" /></a><br />This work is licensed under a <a rel=\"license\" href=\"http://creativecommons.org/licenses/by-nc/4.0/\">Creative Commons Attribution-NonCommercial 4.0 International License</a>."
   ]
  },
  {
   "cell_type": "markdown",
   "metadata": {},
   "source": [
    "----"
   ]
  }
 ],
 "metadata": {
  "kernelspec": {
   "display_name": "Python 3",
   "language": "python",
   "name": "python3"
  },
  "language_info": {
   "codemirror_mode": {
    "name": "ipython",
    "version": 3
   },
   "file_extension": ".py",
   "mimetype": "text/x-python",
   "name": "python",
   "nbconvert_exporter": "python",
   "pygments_lexer": "ipython3",
   "version": "3.7.3"
  }
 },
 "nbformat": 4,
 "nbformat_minor": 2
}
