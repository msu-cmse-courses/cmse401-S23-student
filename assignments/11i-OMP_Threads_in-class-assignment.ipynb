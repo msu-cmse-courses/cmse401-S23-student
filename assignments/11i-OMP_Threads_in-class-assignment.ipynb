{
 "cells": [
  {
   "cell_type": "markdown",
   "metadata": {},
   "source": [
    "[Link to this document's Jupyter Notebook](./11i-OMP_Threads_in-class-assignment.ipynb)"
   ]
  },
  {
   "cell_type": "markdown",
   "metadata": {},
   "source": [
    "In order to successfully complete this assignment you need to participate both individually and in groups during class.   If you attend class in-person then have one of the instructors check your notebook and sign you out before leaving class on **Friday February 3**."
   ]
  },
  {
   "cell_type": "markdown",
   "metadata": {},
   "source": [
    "---\n",
    "\n"
   ]
  },
  {
   "cell_type": "markdown",
   "metadata": {},
   "source": [
    "# In-Class Assignment: Mmmmmmmm Pi\n",
    "\n",
    "<img alt=\"Cartoon picture of a slice of pie.  Visual joke because we are going to calculate the math number pi in class\" src=\"https://c.tadst.com/gfx/750w/pi-day.png\" width=\"50%\">"
   ]
  },
  {
   "cell_type": "markdown",
   "metadata": {},
   "source": [
    "### Agenda for today's class (70 minutes)\n",
    "\n",
    "\n",
    "1. (20 minutes) [Pre class Assignment](#Pre-class-Assignment)\n",
    "2. (20 minutes) [Project Default Project](#Project-Default-Project)\n",
    "3. (50 minutes) [Group OpenMP  Pi code Timing Studies on the HPCC](#Group-OpenMP--Pi-code-Timing-Studies-on-the-HPCC)\n",
    "\n"
   ]
  },
  {
   "cell_type": "markdown",
   "metadata": {},
   "source": [
    "\n",
    "\n",
    "---\n",
    "<a name=Pre-class-Assignment></a>\n",
    "# 1. Pre class Assignment\n",
    "\n",
    "\n",
    "\n",
    "\n",
    "- [11i--OMP_Threads_pre-class-assignment](11i--OMP_Threads_pre-class-assignment.ipynb)\n"
   ]
  },
  {
   "cell_type": "markdown",
   "metadata": {},
   "source": [
    "---\n",
    "<a name=\"Project-Cross-cutting-themes\"></a>\n",
    "# 2. Project Cross-cutting themes\n",
    "\n",
    "As a class we are going to brainstorm topics and ideas that cut across your projects. We want to identify people in your class that are doing some aspect of their project which is similar to yours.  The goal is to find teams of people that may be able to support each other.  \n",
    "\n",
    "\n",
    "## Default project\n",
    "I have made one honors project that can also be used as \"the\" project if you are not taking the honors option. \n",
    "\n",
    "The default project is to implement a parallel version of the method by Heinz-Otto Kreiss, Anders Petersson and Jacob Ystrom for the [wave equation with embedded boundary conditions](https://computing.llnl.gov/sites/default/files/KPYWave2002.pdf)\n",
    "\n",
    "I have placed a starter code in the class repository. \n",
    "\n",
    "Here suitable tasks are\n",
    " \n",
    " 1. Equip the current code with output for vizualization. \n",
    " 2. Parallelize the current code using OpenMP or MPI or both. \n",
    " 3. Implement the embedded boundary method in the above paper (Section 4.) \n",
    " 4. Investigate [**Penrose's unilluminable room**](https://demonstrations.wolfram.com/ThePenroseUnilluminableRoom/). \n",
    "\n"
   ]
  },
  {
   "cell_type": "markdown",
   "metadata": {},
   "source": [
    "\n",
    "---\n",
    "<a name=Group-OpenMP--Pi-code-Timing-Studies-on-the-HPCC></a>\n",
    "# 3. Group OpenMP  Pi code Timing Studies on the HPCC\n",
    "\n",
    "The rest of class we will try to help each other out so that everyone gets a parallel OpenMP version of the Pi-code working.  Lets see how far we get doing the following:\n",
    "\n",
    "- If you are stuck or confused, raise your hand and ask for help.\n",
    "- If you get stuck review code in the Google document. \n",
    "- Help your neighbors\n",
    "- If you have your basic code working, share it on the Google document.\n",
    "- Once you have a parallel code working, do a scaling study and very the number of cores.  Plot the results and share your plot on the Google document. \n",
    "- Conduct the scaling study on different development nodes and generate different plots. Share them on the Google document. \n",
    "- Write a submission script and run the scaling study using the SLURM scheduler.  \n",
    "- Share all of your solutions with each other using the following Google Document.\n",
    "- Review the Google Document and learn from each other's solutions.\n",
    "\n",
    "[Group Google Document](https://docs.google.com/document/d/1ytdUmSqz7575ul065EpmP9SapboRtuR3QG_jC9zvtTM/edit?usp=sharing)"
   ]
  },
  {
   "cell_type": "markdown",
   "metadata": {},
   "source": [
    "```c++\n",
    "#include <omp.h>\n",
    "static long num_steps = 100000; double step;\n",
    "#define NUM_THREADS 2\n",
    "void main ()\n",
    "{ \n",
    "    int i, nthreads; double pi, sum[NUM_THREADS];\n",
    "     step = 1.0/(double) num_steps;\n",
    "     omp_set_num_threads(NUM_THREADS);\n",
    "     #pragma omp parallel\n",
    "     {\n",
    "         int i, id,nthrds;\n",
    "         double x;\n",
    "         id = omp_get_thread_num();\n",
    "         nthrds = omp_get_num_threads();\n",
    "         if (id == 0) nthreads = nthrds;\n",
    "         for (i=id, sum[id]=0.0;i< num_steps; i=i+nthrds) {\n",
    "             x = (i+0.5)*step;\n",
    "             sum[id] += 4.0/(1.0+x*x);\n",
    "         }\n",
    "     }\n",
    "     for(i=0, pi=0.0;i<nthreads;i++)pi += sum[i] * step;\n",
    "}\n",
    "```\n"
   ]
  },
  {
   "cell_type": "markdown",
   "metadata": {},
   "source": [
    "-----\n",
    "\n",
    "```C++\n",
    "\n",
    "#include<iostream>\n",
    "using std::cin; using std::cout; using std::endl;\n",
    "#include<omp.h>\n",
    "\n",
    "\n",
    "static long num_steps = 10000; // race condition...\n",
    "double step;\n",
    "int main()\n",
    "{\n",
    "    //cin >> num_steps ;\n",
    "    int i; double x,pi=0.0;\n",
    "    step = 1.0/(double) num_steps;\n",
    "    omp_set_num_threads(4);\n",
    "    double sum [4] ;\n",
    "    #pragma omp parallel\n",
    "    {\n",
    "         int ID = omp_get_thread_num() ;\n",
    "         cout << ID << endl;\n",
    "        for (int i=ID ; i<num_steps; i += 4)\n",
    "\n",
    "        {\n",
    "            x = (i + 0.5) * step;\n",
    "            sum[ID] += 4.0/(1.0+x*x);\n",
    "        }\n",
    "    }\n",
    "    for (int i=0 ; i<4; i++){\n",
    "       pi += sum[i] * step ;\n",
    "    }\n",
    "    cout.precision(17) ;\n",
    "    cout << pi << \" \" << (pi-3.14159265358979324) << endl ;\n",
    "}\n",
    "\n",
    "\n",
    "```"
   ]
  },
  {
   "cell_type": "markdown",
   "metadata": {},
   "source": [
    "\n",
    "\n",
    "-----\n",
    "### Congratulations, we're done!\n",
    "\n",
    "If you attend class in-person then have one of the instructors check your notebook and sign you out before leaving class. If you are attending asynchronously, turn in your assignment using D2L."
   ]
  },
  {
   "cell_type": "markdown",
   "metadata": {},
   "source": [
    "### Course Resources:\n",
    "\n",
    "\n",
    " - [Website](https://msu-cmse-courses.github.io/cmse401-S23-student/)\n",
    " - [ZOOM](https://msu.zoom.us/j/)\n",
    " - [JargonJar](https://docs.google.com/document/d/1-oIiXzrs9pPspGWUzcSZzVgzqs0emTjegsomX4R5bYo/edit?usp=sharing)\n",
    " - [GIT](https://gitlab.msu.edu/appeloda/cmse401-s23.git)\n",
    "\n"
   ]
  },
  {
   "cell_type": "markdown",
   "metadata": {},
   "source": [
    "Written by Dr. Dirk Colbry, Michigan State University\n",
    "<a rel=\"license\" href=\"http://creativecommons.org/licenses/by-nc/4.0/\"><img alt=\"Creative Commons License\" style=\"border-width:0\" src=\"https://i.creativecommons.org/l/by-nc/4.0/88x31.png\" /></a><br />This work is licensed under a <a rel=\"license\" href=\"http://creativecommons.org/licenses/by-nc/4.0/\">Creative Commons Attribution-NonCommercial 4.0 International License</a>."
   ]
  },
  {
   "cell_type": "markdown",
   "metadata": {},
   "source": [
    "----"
   ]
  }
 ],
 "metadata": {
  "kernelspec": {
   "display_name": "Python 3 (ipykernel)",
   "language": "python",
   "name": "python3"
  },
  "language_info": {
   "codemirror_mode": {
    "name": "ipython",
    "version": 3
   },
   "file_extension": ".py",
   "mimetype": "text/x-python",
   "name": "python",
   "nbconvert_exporter": "python",
   "pygments_lexer": "ipython3",
   "version": "3.9.13"
  }
 },
 "nbformat": 4,
 "nbformat_minor": 2
}
