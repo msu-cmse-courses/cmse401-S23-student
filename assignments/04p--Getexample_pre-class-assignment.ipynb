{
 "cells": [
  {
   "cell_type": "markdown",
   "metadata": {},
   "source": [
    "[Link to this document's Jupyter Notebook](./0124--Getexample_pre-class-assignment.ipynb)"
   ]
  },
  {
   "cell_type": "markdown",
   "metadata": {},
   "source": [
    "In order to successfully complete this assignment you must do the required reading, watch the provided videos and complete all instructions.  The embedded survey form must be entirely filled out and submitted on or before **11:59pm on Sunday January 24**.  Students must come to class the next day prepared to discuss the material covered in this assignment. "
   ]
  },
  {
   "cell_type": "markdown",
   "metadata": {},
   "source": [
    "---\n",
    "\n"
   ]
  },
  {
   "cell_type": "markdown",
   "metadata": {},
   "source": [
    "# Pre-Class Assignment: GetExample\n",
    "\n",
    "<img alt=\"Cartoon image of a toolbox with tools spilling out. We are going to learn about HPC tools in this class.\" src=\"https://lh6.googleusercontent.com/z_f7kKSYqtW1NLKGjc70Mdd9lisl4O0EDcYbT9ztXqkzRCdPa6LrlLlJk2M0kl3LpEYjKjnx9A=w740\" width=\"50%\">\n",
    "\n",
    "Image from: [https://pixabay.com/](https://pixabay.com/)\n"
   ]
  },
  {
   "cell_type": "markdown",
   "metadata": {},
   "source": [
    "# Goals for today's pre-class assignment \n",
    "1. [Powertools](#Powertools)\n",
    "2. [Tick Trick](#Tick-Trick)\n",
    "3. [GetExample [ref]](#GetExample-[ref])\n",
    "4. [Assignment wrap-up](#Assignment_wrap-up)"
   ]
  },
  {
   "cell_type": "markdown",
   "metadata": {},
   "source": [
    "\n",
    "\n",
    "\n",
    "---\n",
    "<a name=Powertools></a>\n",
    "# 1. Powertools\n",
    "\n"
   ]
  },
  {
   "cell_type": "markdown",
   "metadata": {},
   "source": [
    "Read the following post about ```powertools``` on the HPCC Documentation and User Manual and then run the following commands and answer provided questions:\n",
    "\n",
    "- [Powertools](https://wiki.hpcc.msu.edu/display/TEAC/Powertools+Commands)"
   ]
  },
  {
   "cell_type": "markdown",
   "metadata": {},
   "source": [
    "**DO THIS:** If powertools is not installed by default. Set yourself up as a power user.\n",
    "\n",
    "1. Log onto the HPCC\n",
    "2. Log onto a development node\n",
    "3. load the ```powertools``` module (i.e. ```module load powertools```)\n",
    "4. run the ```poweruser``` command\n",
    "\n",
    "If done correctly the above steps will make it so that the powertools module is installed each time you log onto the HPC.  Test it by logging out then back in to the dev node and runni/ng the ```module list``` command."
   ]
  },
  {
   "cell_type": "markdown",
   "metadata": {},
   "source": [
    "\n",
    "\n",
    "---\n",
    "<a name=Tick-Trick></a>\n",
    "# 2. Tick Trick\n",
    "\n",
    "\n",
    "Both the ```powertools``` and ```poweruser``` command is written in bash.  You can inspect the command by using the ```cat``` command on the file. However, the following will not work and should give you a \"file not found\" error:\n",
    "\n",
    "    cat poweruser\n",
    "    \n",
    "The problem is that cat doesn't know to loop through your system PATH to find the file.  You need to explicitly tell ```cat``` the full path.  Lucky for us you can use the ```which``` command to find the file location\n",
    "\n",
    "    which poweruser\n",
    "    \n",
    "You could cut and paste the output of the above command after typing ```cat``` but cut and paste can be prone to problems on different computers.  \n",
    "\n",
    "    cat <<Cut and pasted output from above which command>>\n",
    "\n",
    "Also, a good programmer is a lazy programmer.  Instead we are going to use a special trick using the tick \\`.  Note the tick is NOT the single quote but instead typically is located with the tilde ```~``` key on the upper left side of your keyboard.  When you surround your command with the tick mark, what would normally be printed to the screen is instead passed into your command as if you typed it yourself. For example,  if we want the output of the which command to be used as an input parameter for the cat command we would write the following:\n",
    "\n",
    "    cat `which poweruser`\n",
    "    \n",
    "Give it a try.  "
   ]
  },
  {
   "cell_type": "markdown",
   "metadata": {},
   "source": [
    "&#9989; **<font color=red>QUESTION:</font>** Who is the author of the ```poweruser``` command?"
   ]
  },
  {
   "cell_type": "markdown",
   "metadata": {},
   "source": [
    "Put your answer to the above question here."
   ]
  },
  {
   "cell_type": "markdown",
   "metadata": {},
   "source": [
    "&#9989; **<font color=red>QUESTION:</font>** What year was the ```poweruser``` command created (hint you can see the modified date by typing `ls -la` followed by the full path to the file)?"
   ]
  },
  {
   "cell_type": "markdown",
   "metadata": {},
   "source": [
    "Put your answer to the above question here."
   ]
  },
  {
   "cell_type": "markdown",
   "metadata": {},
   "source": [
    "&#9989; **<font color=red>QUESTION:</font>** Inspect the ```poweruser``` code.  Give a guess as to what you think is stored in the ```tool``` variable?"
   ]
  },
  {
   "cell_type": "markdown",
   "metadata": {},
   "source": [
    "Put your answer to the above question here."
   ]
  },
  {
   "cell_type": "markdown",
   "metadata": {},
   "source": [
    "---\n",
    "<a name=GetExample-[ref]></a>\n",
    "\n",
    "# 3. GetExample \\[[ref](https://hust17.github.io/2016_presentations/GetExample.pdf)]\n",
    "\n",
    "The ```powertool``` we will be using in class is called ```getexample``` it is a way for users to download examples for a wide variety of projects and get them running on the HPCC.  \n",
    "\n",
    "First, you can see what examples are available by typing ```getexample```:\n",
    "\n",
    "    getexample\n",
    "    \n",
    "Then, once you see an example that looks interesting, you can type ```getexample``` again followed by the example name. For example:\n",
    "\n",
    "    getexample helloMPI\n",
    "    \n",
    "This will create a folder with the same name as the example you picked and populate the folder with files to get the example going.  Just change into the example directory and look for either a \"README\" file or a submission script (file with the \"sb\" extension):\n",
    "\n",
    "    cd helloMPI\n",
    "    ls"
   ]
  },
  {
   "cell_type": "markdown",
   "metadata": {},
   "source": [
    "&#9989; **<font color=red>QUESTION:</font>** Using the \"Tick Trick\" from above. What command would you use to print the contents of the ```getexample``` command to your screen?"
   ]
  },
  {
   "cell_type": "markdown",
   "metadata": {},
   "source": [
    "Put your answer to the above question here."
   ]
  },
  {
   "cell_type": "markdown",
   "metadata": {},
   "source": [
    "&#9989; **<font color=red>DO THIS:</font>**  Pick an example from get example, download it, and see if you can run it.  Answer the following questions:"
   ]
  },
  {
   "cell_type": "markdown",
   "metadata": {},
   "source": [
    "&#9989; **<font color=red>QUESTION:</font>** Which example(s) did you try to download?"
   ]
  },
  {
   "cell_type": "markdown",
   "metadata": {},
   "source": [
    "Put your answer to the above question here."
   ]
  },
  {
   "cell_type": "markdown",
   "metadata": {},
   "source": [
    "&#9989; **<font color=red>QUESTION:</font>** Was the directions in the example sufficient for you to get it working? Explain what happened.  "
   ]
  },
  {
   "cell_type": "markdown",
   "metadata": {},
   "source": [
    "Put your answer to the above question here."
   ]
  },
  {
   "cell_type": "markdown",
   "metadata": {},
   "source": [
    "In class we will be going over a number of examples. Please remember what problems you are having and come to class with questions."
   ]
  },
  {
   "cell_type": "markdown",
   "metadata": {},
   "source": [
    "----\n",
    "\n",
    "<a name=\"Assignment_wrap-up\"></a>\n",
    "# 4. Assignment wrap-up\n",
    "\n",
    "Please fill out the form that appears when you run the code below.  **You must completely fill this out in order to receive credits for the assignment!**\n",
    "\n",
    "[Direct Link to Google Form](https://cmse.msu.edu/cmse401-pc-survey)\n",
    "\n",
    "\n",
    "If you have trouble with the embedded form, please make sure you log on with your MSU google account at [googleapps.msu.edu](https://googleapps.msu.edu) and then click on the direct link above."
   ]
  },
  {
   "cell_type": "markdown",
   "metadata": {},
   "source": [
    "&#9989; **<font color=red>Assignment-Specific QUESTION:</font>**  Using the \"Tick Trick\" from above. What command would you use to print the contents of the ```getexample``` command to your screen?"
   ]
  },
  {
   "cell_type": "markdown",
   "metadata": {},
   "source": [
    "Put your answer to the above question here"
   ]
  },
  {
   "cell_type": "markdown",
   "metadata": {},
   "source": [
    "&#9989; **<font color=red>QUESTION:</font>**  Summarize what you did in this assignment."
   ]
  },
  {
   "cell_type": "markdown",
   "metadata": {},
   "source": [
    "Put your answer to the above question here"
   ]
  },
  {
   "cell_type": "markdown",
   "metadata": {},
   "source": [
    "&#9989; **<font color=red>QUESTION:</font>**  What questions do you have, if any, about any of the topics discussed in this assignment after working through the jupyter notebook?"
   ]
  },
  {
   "cell_type": "markdown",
   "metadata": {},
   "source": [
    "Put your answer to the above question here"
   ]
  },
  {
   "cell_type": "markdown",
   "metadata": {},
   "source": [
    "&#9989; **<font color=red>QUESTION:</font>**  How well do you feel this assignment helped you to achieve a better understanding of the above mentioned topic(s)?"
   ]
  },
  {
   "cell_type": "markdown",
   "metadata": {},
   "source": [
    "Put your answer to the above question here"
   ]
  },
  {
   "cell_type": "markdown",
   "metadata": {},
   "source": [
    "&#9989; **<font color=red>QUESTION:</font>** What was the **most** challenging part of this assignment for you? "
   ]
  },
  {
   "cell_type": "markdown",
   "metadata": {},
   "source": [
    "Put your answer to the above question here"
   ]
  },
  {
   "cell_type": "markdown",
   "metadata": {},
   "source": [
    "&#9989; **<font color=red>QUESTION:</font>** What was the **least** challenging part of this assignment for you? "
   ]
  },
  {
   "cell_type": "markdown",
   "metadata": {},
   "source": [
    "Put your answer to the above question here"
   ]
  },
  {
   "cell_type": "markdown",
   "metadata": {},
   "source": [
    "&#9989; **<font color=red>QUESTION:</font>**  What kind of additional questions or support, if any, do you feel you need to have a better understanding of the content in this assignment?"
   ]
  },
  {
   "cell_type": "markdown",
   "metadata": {},
   "source": [
    "Put your answer to the above question here"
   ]
  },
  {
   "cell_type": "markdown",
   "metadata": {},
   "source": [
    "&#9989; **<font color=red>QUESTION:</font>**  Do you have any further questions or comments about this material, or anything else that's going on in class?"
   ]
  },
  {
   "cell_type": "markdown",
   "metadata": {},
   "source": [
    "Put your answer to the above question here"
   ]
  },
  {
   "cell_type": "markdown",
   "metadata": {},
   "source": [
    "&#9989; **<font color=red>QUESTION:</font>** Approximately how long did this pre-class assignment take?"
   ]
  },
  {
   "cell_type": "markdown",
   "metadata": {},
   "source": [
    "Put your answer to the above question here"
   ]
  },
  {
   "cell_type": "code",
   "execution_count": null,
   "metadata": {},
   "outputs": [],
   "source": [
    "from IPython.display import HTML\n",
    "HTML(\n",
    "\"\"\"\n",
    "<iframe \n",
    "\tsrc=\"https://cmse.msu.edu/cmse401-pc-survey\" \n",
    "\twidth=\"100%\" \n",
    "\theight=\"500px\" \n",
    "\tframeborder=\"0\" \n",
    "\tmarginheight=\"0\" \n",
    "\tmarginwidth=\"0\">\n",
    "\tLoading...\n",
    "</iframe>\n",
    "\"\"\"\n",
    ")"
   ]
  },
  {
   "cell_type": "markdown",
   "metadata": {},
   "source": [
    "\n",
    "\n",
    "---------\n",
    "### Congratulations, we're done!\n",
    "\n",
    "To get credit for this assignment you must fill out and submit the above survey from on or before the assignment due date."
   ]
  },
  {
   "cell_type": "markdown",
   "metadata": {},
   "source": [
    "### Course Resources:\n",
    "\n",
    "\n",
    " - [Website](https://msu-cmse-courses.github.io/cmse802-f20-student/)\n",
    " - [ZOOM](https://msu.zoom.us/j/98207034052)\n",
    " - [JargonJar](https://docs.google.com/document/d/1ahg48CCFhRzUL-QIHzlt_KEf1XqsCasFBU4iePHhcug/edit#)\n",
    " - [GIT](https://gitlab.msu.edu/colbrydi/cmse401-s21.git)\n",
    "\n"
   ]
  },
  {
   "cell_type": "markdown",
   "metadata": {},
   "source": [
    "Written by Dr. Dirk Colbry, Michigan State University\n",
    "<a rel=\"license\" href=\"http://creativecommons.org/licenses/by-nc/4.0/\"><img alt=\"Creative Commons License\" style=\"border-width:0\" src=\"https://i.creativecommons.org/l/by-nc/4.0/88x31.png\" /></a><br />This work is licensed under a <a rel=\"license\" href=\"http://creativecommons.org/licenses/by-nc/4.0/\">Creative Commons Attribution-NonCommercial 4.0 International License</a>."
   ]
  },
  {
   "cell_type": "markdown",
   "metadata": {},
   "source": [
    "----"
   ]
  },
  {
   "cell_type": "markdown",
   "metadata": {},
   "source": [
    "----"
   ]
  }
 ],
 "metadata": {
  "anaconda-cloud": {},
  "kernelspec": {
   "display_name": "Python 3",
   "language": "python",
   "name": "python3"
  },
  "language_info": {
   "codemirror_mode": {
    "name": "ipython",
    "version": 3
   },
   "file_extension": ".py",
   "mimetype": "text/x-python",
   "name": "python",
   "nbconvert_exporter": "python",
   "pygments_lexer": "ipython3",
   "version": "3.7.3"
  }
 },
 "nbformat": 4,
 "nbformat_minor": 2
}
