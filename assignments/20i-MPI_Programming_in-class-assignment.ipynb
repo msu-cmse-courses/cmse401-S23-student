{
 "cells": [
  {
   "cell_type": "markdown",
   "metadata": {},
   "source": [
    "[Link to this document's Jupyter Notebook](./0324-MPI_Programming_in-class-assignment.ipynb)"
   ]
  },
  {
   "cell_type": "markdown",
   "metadata": {},
   "source": [
    "In order to successfully complete this assignment you need to participate both individually and in groups during class.   If you attend class in-person then have one of the instructors check your notebook and sign you out before leaving class on **Wednesday March 24**. If you are attending asynchronously, turn in your assignment using D2L no later than **_11:59pm on Wednesday March 24**. "
   ]
  },
  {
   "cell_type": "markdown",
   "metadata": {},
   "source": [
    "---\n",
    "\n"
   ]
  },
  {
   "cell_type": "markdown",
   "metadata": {},
   "source": [
    "# In-Class Assignment: MPI Programming Basics\n",
    "\n",
    "\n",
    "\n",
    "<img src=\"https://farm6.staticflickr.com/5182/5766506970_64806a7180_b.jpg\" width=\"90%\" alt=\"Picture of two children wispering to each other. Included as a motivation for the Rumor Mill example\" >\n"
   ]
  },
  {
   "cell_type": "markdown",
   "metadata": {},
   "source": [
    "### Agenda for today's class (70 minutes)\n",
    "\n",
    "1. (20 minutes) [Pre class Review](#Pre-class-Review)\n",
    "2. (30 minutes) [Pi Estimation](#Pi-Estimation)\n",
    "3. (20 minutes) [Rumor Mill continued](#Rumor-Mill-continued)\n",
    "\n"
   ]
  },
  {
   "cell_type": "markdown",
   "metadata": {},
   "source": [
    "\n",
    "\n",
    "---\n",
    "<a name=Pre-class-Review></a>\n",
    "# 1. Pre class Review\n",
    "\n",
    "\n",
    "\n",
    "- [0323--MPI_Syntax_pre-class-assignment](0323--MPI_Syntax_pre-class-assignment.ipynb)"
   ]
  },
  {
   "cell_type": "markdown",
   "metadata": {},
   "source": [
    "\n",
    "---\n",
    "<a name=Pi-Estimation></a>\n",
    "# 2. Pi Estimation\n",
    "\n",
    "\n",
    "\n",
    "\n",
    "\n",
    "Lets go back and consider the pi estimation algorithm we used in [0217-OMP_Threads_in-class-assignment](0210-OMP_Threads_in-class-assignment.ipynb):\n",
    "\n",
    "```c++\n",
    "#include <omp.h>\n",
    "static long num_steps = 100000; double step;\n",
    "#define NUM_THREADS 2\n",
    "void main ()\n",
    "{ \n",
    "    int i, nthreads; double pi, sum[NUM_THREADS];\n",
    "     step = 1.0/(double) num_steps;\n",
    "     omp_set_num_threads(NUM_THREADS);\n",
    "     #pragma omp parallel\n",
    "     {\n",
    "         int i, id,nthrds;\n",
    "         double x;\n",
    "         id = omp_get_thread_num();\n",
    "         nthrds = omp_get_num_threads();\n",
    "         if (id == 0) nthreads = nthrds;\n",
    "         for (i=id, sum[id]=0.0;i< num_steps; i=i+nthrds) {\n",
    "             x = (i+0.5)*step;\n",
    "             sum[id] += 4.0/(1.0+x*x);\n",
    "         }\n",
    "     }\n",
    "     for(i=0, pi=0.0;i<nthreads;i++)pi += sum[i] * step;\n",
    "}\n",
    "```\n",
    "\n",
    "&#9989; **<font color=red>DO THIS:</font>** As a class, lets discuss the cons for moving this example to a Shared Memory system.\n",
    "\n",
    "\n",
    "Dispyte this being a poor example for running in MPI, lets spend today converting the code to an MPI version just to get an idea about how MPI would work.\n",
    "\n",
    "&#9989; **<font color=red>DO THIS:</font>** Take the above example and turn it into an MPI Only program."
   ]
  },
  {
   "cell_type": "markdown",
   "metadata": {},
   "source": [
    "\n",
    "---\n",
    "<a name=Rumor-Mill-continued></a>\n",
    "# 3. Rumor Mill continued\n",
    "\n",
    "For the last few minutes of class we will revisit the rumor mill example and see if we can start making modifications to run the example inside mpi. "
   ]
  },
  {
   "cell_type": "markdown",
   "metadata": {},
   "source": [
    "\n",
    "\n",
    "-----\n",
    "### Congratulations, we're done!\n",
    "\n",
    "If you attend class in-person then have one of the instructors check your notebook and sign you out before leaving class. If you are attending asynchronously, turn in your assignment using D2L."
   ]
  },
  {
   "cell_type": "markdown",
   "metadata": {},
   "source": [
    "### Course Resources:\n",
    "\n",
    "\n",
    " - [Website](https://msu-cmse-courses.github.io/cmse802-f20-student/)\n",
    " - [ZOOM](https://msu.zoom.us/j/98207034052)\n",
    " - [JargonJar](https://docs.google.com/document/d/1ahg48CCFhRzUL-QIHzlt_KEf1XqsCasFBU4iePHhcug/edit#)\n",
    " - [GIT](https://gitlab.msu.edu/colbrydi/cmse401-s21.git)\n",
    "\n"
   ]
  },
  {
   "cell_type": "markdown",
   "metadata": {},
   "source": [
    "Written by Dr. Dirk Colbry, Michigan State University\n",
    "<a rel=\"license\" href=\"http://creativecommons.org/licenses/by-nc/4.0/\"><img alt=\"Creative Commons License\" style=\"border-width:0\" src=\"https://i.creativecommons.org/l/by-nc/4.0/88x31.png\" /></a><br />This work is licensed under a <a rel=\"license\" href=\"http://creativecommons.org/licenses/by-nc/4.0/\">Creative Commons Attribution-NonCommercial 4.0 International License</a>."
   ]
  },
  {
   "cell_type": "markdown",
   "metadata": {},
   "source": [
    "----"
   ]
  }
 ],
 "metadata": {
  "kernelspec": {
   "display_name": "Python 3",
   "language": "python",
   "name": "python3"
  },
  "language_info": {
   "codemirror_mode": {
    "name": "ipython",
    "version": 3
   },
   "file_extension": ".py",
   "mimetype": "text/x-python",
   "name": "python",
   "nbconvert_exporter": "python",
   "pygments_lexer": "ipython3",
   "version": "3.7.3"
  }
 },
 "nbformat": 4,
 "nbformat_minor": 2
}
