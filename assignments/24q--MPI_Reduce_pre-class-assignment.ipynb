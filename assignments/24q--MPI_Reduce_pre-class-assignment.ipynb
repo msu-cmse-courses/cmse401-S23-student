{
 "cells": [
  {
   "cell_type": "markdown",
   "metadata": {},
   "source": [
    "[Link to this document's Jupyter Notebook](./0404--MPI_Reduce_pre-class-assignment.ipynb)"
   ]
  },
  {
   "cell_type": "markdown",
   "metadata": {},
   "source": [
    "In order to successfully complete this assignment you must do the required reading, watch the provided videos and complete all instructions.  The embedded survey form must be entirely filled out and submitted on or before **11:59pm on Sunday April 4**.  Students must come to class the next day prepared to discuss the material covered in this assignment. "
   ]
  },
  {
   "cell_type": "markdown",
   "metadata": {},
   "source": [
    "---\n",
    "\n"
   ]
  },
  {
   "cell_type": "markdown",
   "metadata": {},
   "source": [
    "# Pre-Class Assignment: MPI Reduce"
   ]
  },
  {
   "cell_type": "markdown",
   "metadata": {},
   "source": [
    "### Goals for today's pre-class assignment \n",
    "\n",
    "1. [Monte Carlo Method (Another way for Estimating $\\Pi$)](#Monte-Carlo-Method-Another-way-for-Estimating-Pi)\n",
    "2. [MPI Reduce Options](#MPI-Reduce-Options)\n",
    "3. [Review Pi Program Serial Code](#Review-Pi-Program-Serial-Code)\n",
    "4. [Assignment wrap up](#Assignment-wrap-up)\n",
    "\n",
    "\n"
   ]
  },
  {
   "cell_type": "markdown",
   "metadata": {},
   "source": [
    "\n",
    "---\n",
    "<a name=Monte-Carlo-Method-Another-way-for-Estimating-Pi></a>\n",
    "# 1. Monte Carlo Method (Another way for Estimating $\\Pi$)\n",
    "\n",
    "In the next class we are going to implement a different kind of $\\Pi$ estimator using the algorithm described in the following video:"
   ]
  },
  {
   "cell_type": "code",
   "execution_count": null,
   "metadata": {},
   "outputs": [],
   "source": [
    "from IPython.display import YouTubeVideo\n",
    "YouTubeVideo(\"M34TO71SKGk\",width=640,height=360)"
   ]
  },
  {
   "cell_type": "markdown",
   "metadata": {},
   "source": [
    "\n",
    "\n",
    "\n",
    "---\n",
    "<a name=MPI-Reduce-Options></a>\n",
    "# 2. MPI Reduce Options\n",
    "\n",
    "\n",
    "\n",
    "\n",
    "Like OpenMP there are some special MPI messages that are specifically designed to help with common types of algorithms.  These are:\n",
    "\n",
    "\n",
    "* MPI_Allreduce - Combines values from all processes and distributes the result back to all processee.\n",
    "\n",
    "``` c++\n",
    "int MPI_Allreduce(const void *sendbuf, \n",
    "                  void *recvbuf, \n",
    "                  int count,\n",
    "                  MPI_Datatype datatype, \n",
    "                  MPI_Op op, MPI_Comm comm)\n",
    "```\n",
    "\n",
    "\n",
    "- MPI_reduce - Reduces values on all processes to a single value\n",
    "``` c++\n",
    "int MPI_Reduce(const void *sendbuf, \n",
    "               void *recvbuf, \n",
    "               int count, \n",
    "               MPI_Datatype datatype,\n",
    "               MPI_Op op, \n",
    "               int root, \n",
    "               MPI_Comm comm)\n",
    "```\n",
    "\n",
    "The ```MPI_Op``` is a reduce operator that can have one of the following values.\n",
    "\n",
    "| Name | Meaning |\n",
    "|------|---------|\n",
    "| MPI_MAX | maximum |\n",
    "| MPI_MIN | minimum |\n",
    "| MPI_SUM | sum |\n",
    "| MPI_PROD | product |\n",
    "| MPI_LAND | logical and |\n",
    "| MPI_BAND | bit-wise and |\n",
    "| MPI_LOR | logical or |\n",
    "| MPI_BOR | bit-wise or |\n",
    "| MPI_LXOR | logical xor |\n",
    "| MPI_BXOR | bit-wise xor |\n",
    "| MPI_MAXLOC | max value and location |\n",
    "| MPI_MINLOC | min value and location |\n",
    "\n",
    "Above table from: https://www.mpi-forum.org/docs/mpi-1.1/mpi-11-html/node78.html"
   ]
  },
  {
   "cell_type": "markdown",
   "metadata": {},
   "source": [
    "&#9989; **<font color=red>QUESTION:</font>**  Think about the Pi program described in the video above and show in the algorithm below.  Which reduce operator(s) do you think may be helpful in implementing this algorithm in MPI?"
   ]
  },
  {
   "cell_type": "markdown",
   "metadata": {},
   "source": [
    "Put your answer here."
   ]
  },
  {
   "cell_type": "markdown",
   "metadata": {},
   "source": [
    "\n",
    "---\n",
    "<a name=Review-Pi-Program-Serial-Code></a>\n",
    "# 3. Review Pi Program Serial Code\n",
    "\n",
    "\n",
    "\n",
    "Review the following serial code implementation of the Pi program described in the above video.  \n",
    "\n",
    "&#9989; **<font color=red>DO THIS:</font>** Lets check our instincs. Without doing too much googling, include comments in the folloing code on where you think you would need to make modifications for the code to run in MPI. \n",
    "\n",
    "For example, You may want to include ```/** Inicialize MPI here **/```, ```/** Clean up MPI Here ```, ```/** Have each process send X to master process **/```, ```/** have master rpocess recicve X from all other processes and combine them to do Y **/```\n",
    "\n",
    "Put as much or as little detail as you want.  You are not going to turn this in but I will expect everyone to get this working as a class.  "
   ]
  },
  {
   "cell_type": "markdown",
   "metadata": {},
   "source": [
    "```c++\n",
    "\n",
    "#include <stdlib.h>\n",
    "#include <stdio.h>\n",
    "#define sqr(x)\t((x)*(x))\n",
    "long random(void);\n",
    "\n",
    "double dboard(int darts)\n",
    "     {\n",
    "     double x_coord,       /* x coordinate, between -1 and 1  */\n",
    "            y_coord,       /* y coordinate, between -1 and 1  */\n",
    "            pi,            /* pi  */\n",
    "            r;             /* random number between 0 and 1  */\n",
    "     int score,            /* number of darts that hit circle */\n",
    "         n;\n",
    "     long rd;\n",
    "     unsigned long cconst; /* used to convert integer random number */\n",
    "                           /* between 0 and 2^31 to double random number */\n",
    "                           /* between 0 and 1  */\n",
    "\n",
    "     cconst = 2 << (31 - 1); \n",
    "     cconst = RAND_MAX;\n",
    "     score = 0;\n",
    "\n",
    "     /* \"throw darts at board\" */\n",
    "     for (n = 1; n <= darts; n++)  {\n",
    "          /* generate random numbers for x and y coordinates */\n",
    "          rd = random();\n",
    "\t  //printf(\"Rand - %ld\\t\",rd);\n",
    "          r = (double)rd/cconst;\n",
    "          //printf(\"%10.8f\\n\",r);\n",
    "          x_coord = (2.0 * r) - 1.0;\n",
    "          r = (double)random()/cconst;\n",
    "          y_coord = (2.0 * r) - 1.0;\n",
    "\n",
    "          /* if dart lands in circle, increment score */\n",
    "          if ((sqr(x_coord) + sqr(y_coord)) <= 1.0)\n",
    "               score++;\n",
    "          }\n",
    "\n",
    "     /* calculate pi */\n",
    "     pi = 4.0 * (double)score/(double)darts;\n",
    "     return(pi);\n",
    "     } \n",
    " ```"
   ]
  },
  {
   "cell_type": "markdown",
   "metadata": {},
   "source": [
    "&#9989; **<font color=red>QUESTION:</font>** Please share notes with the instructor. Did you find this activity easy/hard. Where did you get stuck?"
   ]
  },
  {
   "cell_type": "markdown",
   "metadata": {},
   "source": [
    "Put your answer to the above question here"
   ]
  },
  {
   "cell_type": "markdown",
   "metadata": {},
   "source": [
    "\n",
    "\n",
    "---\n",
    "<a name=Assignment-wrap-up></a>\n",
    "# 4. Assignment wrap up\n",
    "\n",
    "Please fill out the form that appears when you run the code below.  **You must completely fill this out in order to receive credits for the assignment!**\n",
    "\n",
    "[Direct Link to Google Form](https://cmse.msu.edu/cmse401-pc-survey)\n",
    "\n",
    "\n",
    "If you have trouble with the embedded form, please make sure you log on with your MSU google account at [googleapps.msu.edu](https://googleapps.msu.edu) and then click on the direct link above."
   ]
  },
  {
   "cell_type": "markdown",
   "metadata": {},
   "source": [
    "&#9989; **<font color=red>Assignment-Specific QUESTION:</font>**  Please share notes with the instructor. Did you find this activity easy/hard. Where did you get stuck?"
   ]
  },
  {
   "cell_type": "markdown",
   "metadata": {},
   "source": [
    "Put your answer to the above question here"
   ]
  },
  {
   "cell_type": "markdown",
   "metadata": {},
   "source": [
    "&#9989; **<font color=red>QUESTION:</font>**  Summarize what you did in this assignment."
   ]
  },
  {
   "cell_type": "markdown",
   "metadata": {},
   "source": [
    "Put your answer to the above question here"
   ]
  },
  {
   "cell_type": "markdown",
   "metadata": {},
   "source": [
    "&#9989; **<font color=red>QUESTION:</font>**  What questions do you have, if any, about any of the topics discussed in this assignment after working through the jupyter notebook?"
   ]
  },
  {
   "cell_type": "markdown",
   "metadata": {},
   "source": [
    "Put your answer to the above question here"
   ]
  },
  {
   "cell_type": "markdown",
   "metadata": {},
   "source": [
    "&#9989; **<font color=red>QUESTION:</font>**  How well do you feel this assignment helped you to achieve a better understanding of the above mentioned topic(s)?"
   ]
  },
  {
   "cell_type": "markdown",
   "metadata": {},
   "source": [
    "Put your answer to the above question here"
   ]
  },
  {
   "cell_type": "markdown",
   "metadata": {},
   "source": [
    "&#9989; **<font color=red>QUESTION:</font>** What was the **most** challenging part of this assignment for you? "
   ]
  },
  {
   "cell_type": "markdown",
   "metadata": {},
   "source": [
    "Put your answer to the above question here"
   ]
  },
  {
   "cell_type": "markdown",
   "metadata": {},
   "source": [
    "&#9989; **<font color=red>QUESTION:</font>** What was the **least** challenging part of this assignment for you? "
   ]
  },
  {
   "cell_type": "markdown",
   "metadata": {},
   "source": [
    "Put your answer to the above question here"
   ]
  },
  {
   "cell_type": "markdown",
   "metadata": {},
   "source": [
    "&#9989; **<font color=red>QUESTION:</font>**  What kind of additional questions or support, if any, do you feel you need to have a better understanding of the content in this assignment?"
   ]
  },
  {
   "cell_type": "markdown",
   "metadata": {},
   "source": [
    "Put your answer to the above question here"
   ]
  },
  {
   "cell_type": "markdown",
   "metadata": {},
   "source": [
    "&#9989; **<font color=red>QUESTION:</font>**  Do you have any further questions or comments about this material, or anything else that's going on in class?"
   ]
  },
  {
   "cell_type": "markdown",
   "metadata": {},
   "source": [
    "Put your answer to the above question here"
   ]
  },
  {
   "cell_type": "markdown",
   "metadata": {},
   "source": [
    "&#9989; **<font color=red>QUESTION:</font>** Approximately how long did this pre-class assignment take?"
   ]
  },
  {
   "cell_type": "markdown",
   "metadata": {},
   "source": [
    "Put your answer to the above question here"
   ]
  },
  {
   "cell_type": "code",
   "execution_count": null,
   "metadata": {},
   "outputs": [],
   "source": [
    "from IPython.display import HTML\n",
    "HTML(\n",
    "\"\"\"\n",
    "<iframe \n",
    "\tsrc=\"https://cmse.msu.edu/cmse401-pc-survey\" \n",
    "\twidth=\"100%\" \n",
    "\theight=\"500px\" \n",
    "\tframeborder=\"0\" \n",
    "\tmarginheight=\"0\" \n",
    "\tmarginwidth=\"0\">\n",
    "\tLoading...\n",
    "</iframe>\n",
    "\"\"\"\n",
    ")"
   ]
  },
  {
   "cell_type": "markdown",
   "metadata": {},
   "source": [
    "\n",
    "\n",
    "---------\n",
    "### Congratulations, we're done!\n",
    "\n",
    "To get credit for this assignment you must fill out and submit the above survey from on or before the assignment due date."
   ]
  },
  {
   "cell_type": "markdown",
   "metadata": {},
   "source": [
    "### Course Resources:\n",
    "\n",
    "\n",
    " - [Website](https://msu-cmse-courses.github.io/cmse401-S23-student/)\n",
    " - [ZOOM](https://msu.zoom.us/j/)\n",
    " - [JargonJar](https://docs.google.com/document/d/1-oIiXzrs9pPspGWUzcSZzVgzqs0emTjegsomX4R5bYo/edit?usp=sharing)\n",
    " - [GIT](https://gitlab.msu.edu/appeloda/cmse401-s23.git)\n",
    "\n"
   ]
  },
  {
   "cell_type": "markdown",
   "metadata": {},
   "source": [
    "Written by Dr. Dirk Colbry, Michigan State University\n",
    "<a rel=\"license\" href=\"http://creativecommons.org/licenses/by-nc/4.0/\"><img alt=\"Creative Commons License\" style=\"border-width:0\" src=\"https://i.creativecommons.org/l/by-nc/4.0/88x31.png\" /></a><br />This work is licensed under a <a rel=\"license\" href=\"http://creativecommons.org/licenses/by-nc/4.0/\">Creative Commons Attribution-NonCommercial 4.0 International License</a>."
   ]
  },
  {
   "cell_type": "markdown",
   "metadata": {},
   "source": [
    "----"
   ]
  },
  {
   "cell_type": "markdown",
   "metadata": {},
   "source": [
    "----"
   ]
  }
 ],
 "metadata": {
  "anaconda-cloud": {},
  "kernelspec": {
   "display_name": "Python 3",
   "language": "python",
   "name": "python3"
  },
  "language_info": {
   "codemirror_mode": {
    "name": "ipython",
    "version": 3
   },
   "file_extension": ".py",
   "mimetype": "text/x-python",
   "name": "python",
   "nbconvert_exporter": "python",
   "pygments_lexer": "ipython3",
   "version": "3.7.3"
  }
 },
 "nbformat": 4,
 "nbformat_minor": 2
}
