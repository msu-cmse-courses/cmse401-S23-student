{
 "cells": [
  {
   "cell_type": "markdown",
   "metadata": {},
   "source": [
    "In order to successfully complete this assignment you need to participate both individually and in groups during class on **Monday January 9th**."
   ]
  },
  {
   "cell_type": "markdown",
   "metadata": {},
   "source": [
    "# Welcome to CMSE 401 - Methods in Parallel Programming"
   ]
  },
  {
   "cell_type": "markdown",
   "metadata": {},
   "source": [
    "<img src=\"https://3c1703fe8d.site.internapcdn.net/newman/csz/news/800/2018/ornllaunches.jpg\"><p style=\"text-align: right;\">\n",
    "Image from: https://phys.org/news/2018-06-ornl-summit-supercomputer.html\n",
    "</p>"
   ]
  },
  {
   "cell_type": "markdown",
   "metadata": {},
   "source": [
    "### Agenda for today's class (70 minutes)\n",
    "</p>\n",
    "\n",
    "1. (25 minutes) Download Assignment and do Survey During RaspberryPi Cluster Demo\n",
    "2. (10 minutes) Round Robin Introductions\n",
    "3. (5 minutes) Knowing what you don't know\n",
    "3. (10 minutes) Jargon Jar and Command History\n",
    "3. (20 minutes) Syllabus and Schedule"
   ]
  },
  {
   "cell_type": "markdown",
   "metadata": {},
   "source": [
    "---\n",
    "# 1. Accessing MSU ICER's OnDemand resources\n",
    "\n",
    "1. Navigate to https://ondemand.hpcc.msu.edu/ and login using your msu account.\n",
    "3. Launch one of the development nodes by clicking on **Development Nodes** at the top of the page.\n",
    "2. Clone the class repository by the command `git clone git@gitlab.msu.edu:appeloda/cmse401-s23.git` \n",
    "3. If this does not work login at https://gitlab.msu.edu/ navigate to the SSH Keys in the User Settings and follow the instructions to add an SSH key. Then \n",
    "4. If this \n",
    "\n"
   ]
  },
  {
   "cell_type": "markdown",
   "metadata": {},
   "source": [
    "--- \n",
    "\n",
    "# 2. Round Robin Introductions\n",
    "\n",
    "Briefly say who you are, what is your major and why you want to take this class."
   ]
  },
  {
   "cell_type": "markdown",
   "metadata": {},
   "source": [
    "----\n",
    "\n",
    "# 3. Knowing what you don't Know\n",
    "\n",
    "<img src=\"https://lh5.googleusercontent.com/erqXjWLpTTfJCHO4DnKPwZJtTW6wiVI8FqKhoc6Sx-eu41QP-uY7CeSouirdaat8ERxRukLp1w=w740\">"
   ]
  },
  {
   "cell_type": "markdown",
   "metadata": {},
   "source": [
    "----\n",
    "# 4. Jargon Jar and Command History\n",
    "\n",
    "Definition of Jargon: “Special words or expressions that are used by a particular profession or group and are difficult for others to understand.”\n",
    "- Discipline-specific terms\n",
    "- Words with multiple meanings\n",
    "- Cultural references\n",
    "- Idioms\n",
    "- Acronyms\n",
    "\n",
    "During this entire course, students are encouraged to add terms and phrases that are confusing to this notebook.  As a group we also encourage everyone to add definitions, examples and references to our [Jargon Jar](https://docs.google.com/document/d/1-oIiXzrs9pPspGWUzcSZzVgzqs0emTjegsomX4R5bYo/edit?usp=sharing)"
   ]
  },
  {
   "cell_type": "markdown",
   "metadata": {},
   "source": [
    "----\n",
    "\n",
    "# 5. Syllabus and Schedule\n",
    "\n",
    "<img src=\"https://3.bp.blogspot.com/-_5dGQOgIIl4/WXOmiP9nbrI/AAAAAAAAbAM/O6meBNN_nZ8TdsgG0feDr54rk4s6xjUoACLcBGAs/s1600/balance-between-neet-and-board.png\" width=\"70%\">\n",
    "\n",
    "- [Syllabus](https://tinyurl.com/y75cnzam)\n",
    "- [Preliminary Schedule](https://tinyurl.com/CMSE314-Schedule)\n",
    "\n",
    "**Closing thoughts** I am excited to be teaching this course with you.  Please note, although I have been teaching parallel programing and HPC  of for almost 10 years, this is the first time teaching it as an undergraduate course in this format.  We will need to work together to make sure we are achieving the learning goals.  Please be patient and flexible as we learn together and adjust throughout the semester. "
   ]
  },
  {
   "cell_type": "markdown",
   "metadata": {},
   "source": [
    "-----\n",
    "### Congratulations, we're done!\n",
    "\n",
    "**Course Resources:**\n",
    "- [Syllabus](https://tinyurl.com/y75cnzam)\n",
    "- [Preliminary Schedule](https://tinyurl.com/CMSE314-Schedule)\n",
    "- [Git Repository](https://gitlab.msu.edu/appeloda/cmse401-s23)\n",
    "- [Jargon Jar and Command History](https://docs.google.com/document/d/1-oIiXzrs9pPspGWUzcSZzVgzqs0emTjegsomX4R5bYo/edit?usp=sharing) \n"
   ]
  },
  {
   "cell_type": "markdown",
   "metadata": {},
   "source": [
    "&#169; Copyright 2023,  Michigan State University Board of Trustees"
   ]
  },
  {
   "cell_type": "code",
   "execution_count": null,
   "metadata": {},
   "outputs": [],
   "source": []
  }
 ],
 "metadata": {
  "kernelspec": {
   "display_name": "Python 3 (ipykernel)",
   "language": "python",
   "name": "python3"
  },
  "language_info": {
   "codemirror_mode": {
    "name": "ipython",
    "version": 3
   },
   "file_extension": ".py",
   "mimetype": "text/x-python",
   "name": "python",
   "nbconvert_exporter": "python",
   "pygments_lexer": "ipython3",
   "version": "3.9.13"
  }
 },
 "nbformat": 4,
 "nbformat_minor": 2
}
